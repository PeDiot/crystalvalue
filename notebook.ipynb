{
  "cells": [
    {
      "cell_type": "markdown",
      "id": "iTsKaxLPY37t",
      "metadata": {
        "id": "iTsKaxLPY37t"
      },
      "source": [
        "# Crystalvalue Demo: Predictive Customer LifeTime Value for a Retail Store\n",
        "\n",
        "Crystalvalue is a best practice comprehensive solution for running predictive LTV solutions leveraging Google Cloud Vertex AI. \n",
        "\n",
        "This demo runs the Crystalvalue python library in a notebook, from feature engineering to scheduling predictions. It uses the [Online Retail II data set from Kaggle](https://www.kaggle.com/mashlyn/online-retail-ii-uci) which contains transactions for a UK retail store between 2009 and 2011. Enable the [Vertex API](https://console.cloud.google.com/flows/enableapi?apiid=aiplatform.googleapis.com,storage-component.googleapis.com) for this demo to run.\n",
        "\n",
        "This notebook assumes that it is being run from within a [Google Cloud Platform AI Notebook](https://console.cloud.google.com/vertex-ai/notebooks/list/instances) with a Compute Engine default service account (the default setting when an AI Notebook is created) and TensorFlow backend. Ensure that the [Compute Engine default service account API](https://console.cloud.google.com/flows/enableapi?apiid=compute.googleapis.com) is enabled. When running it on your own data, we recommend [setting up your own service account](https://cloud.google.com/vertex-ai/docs/pipelines/configure-project).\n",
        "\n",
        "If you would like to share feedback about Crystalvalue, please email crystalvalue@google.com."
      ]
    },
    {
      "cell_type": "markdown",
      "id": "1_M6mv5_Al18",
      "metadata": {
        "id": "1_M6mv5_Al18"
      },
      "source": [
        "# Clone the Crystalvalue codebase"
      ]
    },
    {
      "cell_type": "markdown",
      "id": "hnySWWD2DbJ8",
      "metadata": {
        "id": "hnySWWD2DbJ8"
      },
      "source": [
        "Start by cloning the Crystalvalue codebase and running a demo notebook from the root directory. To run Crystalvalue on your own data, simply change the parameters to it works on your data."
      ]
    },
    {
      "cell_type": "markdown",
      "id": "a6QSkrxSFsCB",
      "metadata": {
        "id": "a6QSkrxSFsCB"
      },
      "source": [
        "```git clone https://github.com/google/crystalvalue```"
      ]
    },
    {
      "cell_type": "markdown",
      "id": "ef1faf60",
      "metadata": {},
      "source": [
        "# Imports"
      ]
    },
    {
      "cell_type": "code",
      "execution_count": 32,
      "id": "433f7e0d",
      "metadata": {},
      "outputs": [
        {
          "name": "stdout",
          "output_type": "stream",
          "text": [
            "The autoreload extension is already loaded. To reload it, use:\n",
            "  %reload_ext autoreload\n"
          ]
        }
      ],
      "source": [
        "%load_ext autoreload\n",
        "%autoreload 2"
      ]
    },
    {
      "cell_type": "code",
      "execution_count": 33,
      "id": "0783cc9e",
      "metadata": {},
      "outputs": [],
      "source": [
        "from crystalvalue import crystalvalue"
      ]
    },
    {
      "cell_type": "code",
      "execution_count": 34,
      "id": "672173f7",
      "metadata": {},
      "outputs": [],
      "source": [
        "from typing import Optional\n",
        "\n",
        "import json, pandas as pd\n",
        "import matplotlib.pyplot as plt\n",
        "import seaborn as sns\n",
        "from datetime import datetime\n",
        "\n",
        "from google.oauth2 import service_account\n",
        "from google.cloud import bigquery\n",
        "\n",
        "from sklearn.metrics import accuracy_score, precision_score, recall_score, f1_score"
      ]
    },
    {
      "cell_type": "code",
      "execution_count": 35,
      "id": "7a1a4745",
      "metadata": {},
      "outputs": [],
      "source": [
        "pd.set_option(\"display.max_columns\", None)"
      ]
    },
    {
      "cell_type": "code",
      "execution_count": 124,
      "id": "7508534c",
      "metadata": {},
      "outputs": [],
      "source": [
        "CREDENTIALS_PATH = \"secrets/gcp_credentials.json\"\n",
        "DATA_PATH = \"data/raw.csv\"\n",
        "MAPPING_PATH = \"data/department_to_region.json\"\n",
        "PARAMETERS_FILENAME = \"data/crystalvalue_parameters.json\"\n",
        "\n",
        "GCP_PROJECT_ID = \"pltv-457408\"\n",
        "GCP_LOCATION = \"europe-west4\"\n",
        "GCP_TABLE_ID = \"data\"\n",
        "# we ignore days_to_next_order because it is calculated by crystalvalue\n",
        "\n",
        "LOOKBACK_DAYS = 180\n",
        "LOOKAHEAD_DAYS = 365\n",
        "\n",
        "CUSTOMER_ID_COLUMN = \"customer_id\"\n",
        "DATE_COLUMN = \"order_date\"\n",
        "VALUE_COLUMN = \"value\""
      ]
    },
    {
      "cell_type": "code",
      "execution_count": 125,
      "id": "f7e6e73c",
      "metadata": {},
      "outputs": [],
      "source": [
        "credentials = service_account.Credentials.from_service_account_file(\n",
        "    filename=CREDENTIALS_PATH\n",
        ")"
      ]
    },
    {
      "cell_type": "code",
      "execution_count": 126,
      "id": "7cf1772e",
      "metadata": {},
      "outputs": [],
      "source": [
        "CRYSTALVALUE_KWARGS = {\n",
        "    \"project_id\": GCP_PROJECT_ID,  # The GCP project id.\n",
        "    \"location\": GCP_LOCATION,  # This is the location of your dataset in Bigquery.\n",
        "    \"credentials\": credentials,\n",
        "    \"customer_id_column\": CUSTOMER_ID_COLUMN,  # The customer ID column.\n",
        "    \"date_column\": DATE_COLUMN,  # The transaction date column.\n",
        "    \"value_column\": VALUE_COLUMN,  #  Column to use for LTV calculation (i.e. profit or revenue).\n",
        "    \"days_lookback\": LOOKBACK_DAYS,  #  How many days in the past to use for feature engineering.\n",
        "    \"days_lookahead\": LOOKAHEAD_DAYS,  #  How many days in the future to use for value prediction.\n",
        "    \"write_parameters\": True,  #  Write parameters to local file so they can be retrieved for prediction.\n",
        "    \"parameters_filename\": PARAMETERS_FILENAME\n",
        "}"
      ]
    },
    {
      "cell_type": "markdown",
      "id": "d0d48772",
      "metadata": {},
      "source": [
        "# Utils"
      ]
    },
    {
      "cell_type": "code",
      "execution_count": 127,
      "id": "4a98ba81",
      "metadata": {},
      "outputs": [],
      "source": [
        "def query_actual_values(\n",
        "    client: bigquery.Client, pipeline: crystalvalue.CrystalValue\n",
        ") -> pd.DataFrame:\n",
        "    query = f\"\"\"\n",
        "    WITH \n",
        "    PredictCustomerIds AS (\n",
        "    SELECT {CUSTOMER_ID_COLUMN}, lookahead_start, lookahead_stop\n",
        "    FROM `{pipeline.project_id}.{pipeline.dataset_id}.{pipeline.training_table_name}`\n",
        "    WHERE predefined_split_column = 'TEST'\n",
        "    )\n",
        "    SELECT \n",
        "    CONCAT(\n",
        "        CAST(TX_DATA.{CUSTOMER_ID_COLUMN} AS STRING), \n",
        "        '_', \n",
        "        DATE(PredictCustomerIds.lookahead_start), \n",
        "        '_', \n",
        "        DATE(PredictCustomerIds.lookahead_stop)\n",
        "    ) AS index,\n",
        "    CAST(TX_DATA.{CUSTOMER_ID_COLUMN} AS STRING) AS customer_id, \n",
        "    SUM(TX_DATA.value) AS actual_value\n",
        "    FROM `{pipeline.project_id}.{pipeline.dataset_id}.{GCP_TABLE_ID}` AS TX_DATA\n",
        "    INNER JOIN PredictCustomerIds\n",
        "    ON CAST(TX_DATA.{CUSTOMER_ID_COLUMN} AS STRING) = PredictCustomerIds.customer_id\n",
        "    WHERE DATE(TX_DATA.{DATE_COLUMN}) BETWEEN DATE(PredictCustomerIds.lookahead_start) AND DATE(PredictCustomerIds.lookahead_stop)\n",
        "    GROUP BY CAST(TX_DATA.{CUSTOMER_ID_COLUMN} AS STRING), index\n",
        "    \"\"\"\n",
        "\n",
        "    result = client.query(query).result() \n",
        "    data = result.to_dataframe()\n",
        "\n",
        "    return data"
      ]
    },
    {
      "cell_type": "code",
      "execution_count": 128,
      "id": "debe6c5d",
      "metadata": {},
      "outputs": [],
      "source": [
        "def plot_predictions_vs_actual(data: pd.DataFrame, max_value=300):\n",
        "    plot_data = data[data[\"actual_value\"] < max_value]    \n",
        "    _, ax = plt.subplots(nrows=1, ncols=1, figsize=(10, 6))\n",
        "\n",
        "    sns.scatterplot(\n",
        "        data=plot_data, \n",
        "        x=\"actual_value\", \n",
        "        y=\"predicted_value\", \n",
        "        alpha=0.5,\n",
        "        ax=ax\n",
        "    )\n",
        "\n",
        "    ax.plot(\n",
        "        [0, max_value], \n",
        "        [0, max_value], \n",
        "        'r--', \n",
        "        label='y=x'\n",
        "    )\n",
        "\n",
        "    ax.legend()\n",
        "    ax.set_title('Predicted vs Actual Values')\n",
        "    ax.set_xlabel('Actual Value')\n",
        "    ax.set_ylabel('Predicted Value')"
      ]
    },
    {
      "cell_type": "code",
      "execution_count": 129,
      "id": "4b211936",
      "metadata": {},
      "outputs": [],
      "source": [
        "def calculate_regression_metrics(\n",
        "    data: pd.DataFrame,\n",
        "    actual_col: str = 'actual_value', \n",
        "    error_col: str = 'error'\n",
        ") -> dict:\n",
        "    mae = data[error_col].abs().mean()\n",
        "    mape = (data[error_col] / data[actual_col]).abs().mean()\n",
        "    rmse = (data[error_col]**2).mean()**0.5\n",
        "    r2 = 1 - (data[error_col]**2).sum() / ((data[actual_col] - data[actual_col].mean())**2).sum()\n",
        "    \n",
        "    return {\n",
        "        'MAE': mae,\n",
        "        'MAPE': mape,\n",
        "        'RMSE': rmse,\n",
        "        'R2': r2\n",
        "    }"
      ]
    },
    {
      "cell_type": "code",
      "execution_count": 130,
      "id": "03ef45dd",
      "metadata": {},
      "outputs": [],
      "source": [
        "def calculate_classification_metrics(\n",
        "    data: pd.DataFrame,\n",
        "    actual_col: str = 'actual_value',\n",
        "    predicted_col: str = 'predicted_value'\n",
        ") -> dict:\n",
        "    accuracy = accuracy_score(data[actual_col], data[predicted_col])\n",
        "    precision = precision_score(data[actual_col], data[predicted_col])\n",
        "    recall = recall_score(data[actual_col], data[predicted_col])\n",
        "    f1 = f1_score(data[actual_col], data[predicted_col])\n",
        "    \n",
        "    return {\n",
        "        'Accuracy': accuracy,\n",
        "        'Precision': precision,\n",
        "        'Recall': recall,\n",
        "        'F1 Score': f1\n",
        "    }"
      ]
    },
    {
      "cell_type": "code",
      "execution_count": 131,
      "id": "57a81676",
      "metadata": {},
      "outputs": [],
      "source": [
        "department_to_region_mapping = json.load(open(MAPPING_PATH))\n",
        "\n",
        "def get_region_code(department_code: str) -> str:\n",
        "    department_code = str(department_code).zfill(2) if len(str(department_code)) < 2 else str(department_code)\n",
        "    \n",
        "    return department_to_region_mapping.get(department_code, {}).get(\"code\")\n",
        "\n",
        "\n",
        "def process_department_code(department_code: float) -> Optional[str]:\n",
        "    if pd.isna(department_code) or department_code == None:\n",
        "        return None\n",
        "    \n",
        "    department_code = str(department_code).split(\".\")[0]\n",
        "    \n",
        "    if department_code == \"0\":\n",
        "        return None\n",
        "    \n",
        "    if department_code == \"FR75\":\n",
        "        return \"75\"\n",
        "\n",
        "    return department_code"
      ]
    },
    {
      "cell_type": "code",
      "execution_count": 132,
      "id": "253e5f6c",
      "metadata": {},
      "outputs": [],
      "source": [
        "def get_dataset_id() -> str:\n",
        "    today = datetime.now().strftime(\"%Y%m%d_%H%M%S\")\n",
        "    \n",
        "    return f\"crystalvalue_{today}\""
      ]
    },
    {
      "cell_type": "markdown",
      "id": "69c2677a",
      "metadata": {},
      "source": [
        "# Load & preprocess data\n",
        "\n",
        "- Replace NaNs with 0 for value-related columns\n",
        "\n",
        "- Encode `order_index` as string\n",
        "\n",
        "- Create `value` target column as sum of `value_cat1`, ..., `value_uncategorized`\n",
        "\n",
        "- Train/Test split: remove customers whose first purchase is in 03/24 for the test dataset"
      ]
    },
    {
      "cell_type": "code",
      "execution_count": 133,
      "id": "2a8daf94",
      "metadata": {},
      "outputs": [
        {
          "data": {
            "text/html": [
              "<div>\n",
              "<style scoped>\n",
              "    .dataframe tbody tr th:only-of-type {\n",
              "        vertical-align: middle;\n",
              "    }\n",
              "\n",
              "    .dataframe tbody tr th {\n",
              "        vertical-align: top;\n",
              "    }\n",
              "\n",
              "    .dataframe thead th {\n",
              "        text-align: right;\n",
              "    }\n",
              "</style>\n",
              "<table border=\"1\" class=\"dataframe\">\n",
              "  <thead>\n",
              "    <tr style=\"text-align: right;\">\n",
              "      <th></th>\n",
              "      <th>order_date</th>\n",
              "      <th>order_number</th>\n",
              "      <th>customer_id</th>\n",
              "      <th>shipping_address_dept</th>\n",
              "      <th>shipping_address_zip</th>\n",
              "      <th>Total</th>\n",
              "      <th>Cat_1</th>\n",
              "      <th>Cat_2</th>\n",
              "      <th>Cat_3</th>\n",
              "      <th>Cat_4</th>\n",
              "      <th>Cat_5</th>\n",
              "      <th>Cat_6</th>\n",
              "      <th>Uncategorized</th>\n",
              "      <th>order_index</th>\n",
              "      <th>days_to_next_order</th>\n",
              "    </tr>\n",
              "  </thead>\n",
              "  <tbody>\n",
              "    <tr>\n",
              "      <th>0</th>\n",
              "      <td>2022-06-01</td>\n",
              "      <td>761</td>\n",
              "      <td>328</td>\n",
              "      <td>93</td>\n",
              "      <td>93320</td>\n",
              "      <td>48.23</td>\n",
              "      <td>NaN</td>\n",
              "      <td>1.65</td>\n",
              "      <td>2.34</td>\n",
              "      <td>NaN</td>\n",
              "      <td>NaN</td>\n",
              "      <td>NaN</td>\n",
              "      <td>44.24</td>\n",
              "      <td>4</td>\n",
              "      <td>40.0</td>\n",
              "    </tr>\n",
              "    <tr>\n",
              "      <th>1</th>\n",
              "      <td>2022-06-01</td>\n",
              "      <td>762</td>\n",
              "      <td>552</td>\n",
              "      <td>17</td>\n",
              "      <td>17100</td>\n",
              "      <td>55.91</td>\n",
              "      <td>1.37</td>\n",
              "      <td>NaN</td>\n",
              "      <td>5.01</td>\n",
              "      <td>5.24</td>\n",
              "      <td>NaN</td>\n",
              "      <td>NaN</td>\n",
              "      <td>44.29</td>\n",
              "      <td>1</td>\n",
              "      <td>84.0</td>\n",
              "    </tr>\n",
              "    <tr>\n",
              "      <th>2</th>\n",
              "      <td>2022-06-01</td>\n",
              "      <td>763</td>\n",
              "      <td>487</td>\n",
              "      <td>7</td>\n",
              "      <td>7320</td>\n",
              "      <td>36.12</td>\n",
              "      <td>NaN</td>\n",
              "      <td>NaN</td>\n",
              "      <td>NaN</td>\n",
              "      <td>NaN</td>\n",
              "      <td>NaN</td>\n",
              "      <td>NaN</td>\n",
              "      <td>36.12</td>\n",
              "      <td>2</td>\n",
              "      <td>334.0</td>\n",
              "    </tr>\n",
              "    <tr>\n",
              "      <th>3</th>\n",
              "      <td>2022-06-01</td>\n",
              "      <td>764</td>\n",
              "      <td>553</td>\n",
              "      <td>13</td>\n",
              "      <td>13360</td>\n",
              "      <td>11.08</td>\n",
              "      <td>NaN</td>\n",
              "      <td>NaN</td>\n",
              "      <td>2.33</td>\n",
              "      <td>NaN</td>\n",
              "      <td>NaN</td>\n",
              "      <td>NaN</td>\n",
              "      <td>8.75</td>\n",
              "      <td>1</td>\n",
              "      <td>NaN</td>\n",
              "    </tr>\n",
              "    <tr>\n",
              "      <th>4</th>\n",
              "      <td>2022-06-01</td>\n",
              "      <td>765</td>\n",
              "      <td>277</td>\n",
              "      <td>45</td>\n",
              "      <td>45000</td>\n",
              "      <td>33.95</td>\n",
              "      <td>NaN</td>\n",
              "      <td>NaN</td>\n",
              "      <td>NaN</td>\n",
              "      <td>1.67</td>\n",
              "      <td>5.6</td>\n",
              "      <td>NaN</td>\n",
              "      <td>26.68</td>\n",
              "      <td>3</td>\n",
              "      <td>23.0</td>\n",
              "    </tr>\n",
              "  </tbody>\n",
              "</table>\n",
              "</div>"
            ],
            "text/plain": [
              "   order_date  order_number  customer_id shipping_address_dept  \\\n",
              "0  2022-06-01           761          328                    93   \n",
              "1  2022-06-01           762          552                    17   \n",
              "2  2022-06-01           763          487                     7   \n",
              "3  2022-06-01           764          553                    13   \n",
              "4  2022-06-01           765          277                    45   \n",
              "\n",
              "  shipping_address_zip  Total  Cat_1  Cat_2  Cat_3  Cat_4  Cat_5  Cat_6  \\\n",
              "0                93320  48.23    NaN   1.65   2.34    NaN    NaN    NaN   \n",
              "1                17100  55.91   1.37    NaN   5.01   5.24    NaN    NaN   \n",
              "2                 7320  36.12    NaN    NaN    NaN    NaN    NaN    NaN   \n",
              "3                13360  11.08    NaN    NaN   2.33    NaN    NaN    NaN   \n",
              "4                45000  33.95    NaN    NaN    NaN   1.67    5.6    NaN   \n",
              "\n",
              "   Uncategorized  order_index  days_to_next_order  \n",
              "0          44.24            4                40.0  \n",
              "1          44.29            1                84.0  \n",
              "2          36.12            2               334.0  \n",
              "3           8.75            1                 NaN  \n",
              "4          26.68            3                23.0  "
            ]
          },
          "execution_count": 133,
          "metadata": {},
          "output_type": "execute_result"
        }
      ],
      "source": [
        "# Read the data and rename the columns to be BiqQuery friendly (no spaces).\n",
        "data = pd.read_csv(DATA_PATH)\n",
        "\n",
        "n, p = data.shape\n",
        "data.head()"
      ]
    },
    {
      "cell_type": "code",
      "execution_count": 134,
      "id": "28344ab6",
      "metadata": {},
      "outputs": [],
      "source": [
        "# rename columns\n",
        "data.columns = data.columns.str.lower()\n",
        "data.columns = [f'value_{col}' if 'cat' in col else col for col in data.columns]\n",
        "data.rename(columns={\"total\": \"value\", \"uncategorized\": \"value_uncategorized\"}, inplace=True)"
      ]
    },
    {
      "cell_type": "code",
      "execution_count": 135,
      "id": "a3b9001a",
      "metadata": {},
      "outputs": [],
      "source": [
        "value_cols = [col for col in data.columns if col.startswith(\"value_\")]\n",
        "\n",
        "# replace na with 0 since na means category product is not ordered\n",
        "data[value_cols] = data[value_cols].fillna(0)\n",
        "\n",
        "# create value column as sum of per category value\n",
        "data[\"value\"] = data[value_cols].sum(axis=1)"
      ]
    },
    {
      "cell_type": "code",
      "execution_count": 136,
      "id": "8dfd12f5",
      "metadata": {},
      "outputs": [],
      "source": [
        "# convert order_index to category\n",
        "data[\"order_index\"] = data[\"order_index\"].astype(\"string\")"
      ]
    },
    {
      "cell_type": "code",
      "execution_count": 137,
      "id": "0b471eee",
      "metadata": {},
      "outputs": [
        {
          "data": {
            "text/plain": [
              "array(['93', '17', '7', '13', '45', '66', '84', '92', '34', '77', '31',\n",
              "       '22', '75', '60', '78', '56', '38', '35', '65', '68', '19', '86',\n",
              "       '59', '49', '30', '83', '62', '76', '44', '14', '73', '43', '54',\n",
              "       '80', '12', '2', '8', '39', '47', '6', '61', '95', '27', '89',\n",
              "       '74', '91', '85', '33', '4', '69', '24', '81', '55', '67', '28',\n",
              "       '10', '87', '51', '18', '94', '1', '37', '11', '58', '5', '26',\n",
              "       '57', '40', '21', '42', '29', '23', '16', '25', '64', '72', '70',\n",
              "       '88', '53', '71', '3', '63', '41', '82', '20', '32', '36', '50',\n",
              "       '9', '79', '46', None, '15', '48', '52', '90'], dtype=object)"
            ]
          },
          "execution_count": 137,
          "metadata": {},
          "output_type": "execute_result"
        }
      ],
      "source": [
        "# process shipping_address_dept\n",
        "data[\"shipping_address_dept\"] = data[\"shipping_address_dept\"].apply(\n",
        "    process_department_code\n",
        ")\n",
        "\n",
        "data.shipping_address_dept.unique()"
      ]
    },
    {
      "cell_type": "code",
      "execution_count": 138,
      "id": "9283b920",
      "metadata": {},
      "outputs": [
        {
          "data": {
            "text/plain": [
              "array(['reg8', 'reg10', 'reg1', 'reg13', 'reg4', 'reg11', 'reg3', 'reg7',\n",
              "       'reg6', 'reg12', 'reg9', 'reg2', 'reg5', None], dtype=object)"
            ]
          },
          "execution_count": 138,
          "metadata": {},
          "output_type": "execute_result"
        }
      ],
      "source": [
        "# add region code\n",
        "data[\"shipping_address_reg\"] = data[\"shipping_address_dept\"].apply(get_region_code)\n",
        "data.shipping_address_reg.unique()"
      ]
    },
    {
      "cell_type": "code",
      "execution_count": 139,
      "id": "ef76295a",
      "metadata": {},
      "outputs": [],
      "source": [
        "# select one row per day for each customer if only first purchase is considered\n",
        "\n",
        "if LOOKBACK_DAYS == 0:\n",
        "    data = data.groupby([CUSTOMER_ID_COLUMN, DATE_COLUMN]).apply(lambda x: x.loc[x.order_number.idxmin()])\n",
        "    data.reset_index(drop=True, inplace=True)\n",
        "\n",
        "    print(f\"{n - data.shape[0]} rows removed\")"
      ]
    },
    {
      "cell_type": "code",
      "execution_count": 140,
      "id": "1788c042",
      "metadata": {},
      "outputs": [],
      "source": [
        "data.sort_values(by=[CUSTOMER_ID_COLUMN, DATE_COLUMN], ascending=[True, True], inplace=True)\n",
        "data.reset_index(drop=True, inplace=True)"
      ]
    },
    {
      "cell_type": "code",
      "execution_count": 141,
      "id": "e83803de",
      "metadata": {},
      "outputs": [
        {
          "data": {
            "text/html": [
              "<div>\n",
              "<style scoped>\n",
              "    .dataframe tbody tr th:only-of-type {\n",
              "        vertical-align: middle;\n",
              "    }\n",
              "\n",
              "    .dataframe tbody tr th {\n",
              "        vertical-align: top;\n",
              "    }\n",
              "\n",
              "    .dataframe thead th {\n",
              "        text-align: right;\n",
              "    }\n",
              "</style>\n",
              "<table border=\"1\" class=\"dataframe\">\n",
              "  <thead>\n",
              "    <tr style=\"text-align: right;\">\n",
              "      <th></th>\n",
              "      <th>order_date</th>\n",
              "      <th>order_number</th>\n",
              "      <th>customer_id</th>\n",
              "      <th>shipping_address_dept</th>\n",
              "      <th>shipping_address_zip</th>\n",
              "      <th>value</th>\n",
              "      <th>value_cat_1</th>\n",
              "      <th>value_cat_2</th>\n",
              "      <th>value_cat_3</th>\n",
              "      <th>value_cat_4</th>\n",
              "      <th>value_cat_5</th>\n",
              "      <th>value_cat_6</th>\n",
              "      <th>value_uncategorized</th>\n",
              "      <th>order_index</th>\n",
              "      <th>days_to_next_order</th>\n",
              "      <th>shipping_address_reg</th>\n",
              "    </tr>\n",
              "  </thead>\n",
              "  <tbody>\n",
              "    <tr>\n",
              "      <th>0</th>\n",
              "      <td>2023-06-06</td>\n",
              "      <td>10633</td>\n",
              "      <td>3</td>\n",
              "      <td>93</td>\n",
              "      <td>93400</td>\n",
              "      <td>47.12</td>\n",
              "      <td>0.0</td>\n",
              "      <td>47.12</td>\n",
              "      <td>0.00</td>\n",
              "      <td>0.00</td>\n",
              "      <td>0.0</td>\n",
              "      <td>0.0</td>\n",
              "      <td>0.00</td>\n",
              "      <td>5</td>\n",
              "      <td>NaN</td>\n",
              "      <td>reg8</td>\n",
              "    </tr>\n",
              "    <tr>\n",
              "      <th>1</th>\n",
              "      <td>2023-03-29</td>\n",
              "      <td>8290</td>\n",
              "      <td>5</td>\n",
              "      <td>34</td>\n",
              "      <td>34080</td>\n",
              "      <td>40.04</td>\n",
              "      <td>0.0</td>\n",
              "      <td>5.40</td>\n",
              "      <td>9.35</td>\n",
              "      <td>25.29</td>\n",
              "      <td>0.0</td>\n",
              "      <td>0.0</td>\n",
              "      <td>0.00</td>\n",
              "      <td>3</td>\n",
              "      <td>46.0</td>\n",
              "      <td>reg11</td>\n",
              "    </tr>\n",
              "    <tr>\n",
              "      <th>2</th>\n",
              "      <td>2023-05-14</td>\n",
              "      <td>9841</td>\n",
              "      <td>5</td>\n",
              "      <td>34</td>\n",
              "      <td>34080</td>\n",
              "      <td>44.62</td>\n",
              "      <td>0.0</td>\n",
              "      <td>0.00</td>\n",
              "      <td>3.21</td>\n",
              "      <td>41.41</td>\n",
              "      <td>0.0</td>\n",
              "      <td>0.0</td>\n",
              "      <td>0.00</td>\n",
              "      <td>4</td>\n",
              "      <td>NaN</td>\n",
              "      <td>reg11</td>\n",
              "    </tr>\n",
              "    <tr>\n",
              "      <th>3</th>\n",
              "      <td>2022-07-27</td>\n",
              "      <td>1691</td>\n",
              "      <td>6</td>\n",
              "      <td>87</td>\n",
              "      <td>87400</td>\n",
              "      <td>32.64</td>\n",
              "      <td>0.0</td>\n",
              "      <td>0.00</td>\n",
              "      <td>8.75</td>\n",
              "      <td>0.00</td>\n",
              "      <td>0.0</td>\n",
              "      <td>0.0</td>\n",
              "      <td>23.89</td>\n",
              "      <td>4</td>\n",
              "      <td>0.0</td>\n",
              "      <td>reg10</td>\n",
              "    </tr>\n",
              "    <tr>\n",
              "      <th>4</th>\n",
              "      <td>2022-07-27</td>\n",
              "      <td>1693</td>\n",
              "      <td>6</td>\n",
              "      <td>87</td>\n",
              "      <td>87400</td>\n",
              "      <td>32.64</td>\n",
              "      <td>0.0</td>\n",
              "      <td>0.00</td>\n",
              "      <td>4.10</td>\n",
              "      <td>0.00</td>\n",
              "      <td>0.0</td>\n",
              "      <td>0.0</td>\n",
              "      <td>28.54</td>\n",
              "      <td>5</td>\n",
              "      <td>50.0</td>\n",
              "      <td>reg10</td>\n",
              "    </tr>\n",
              "  </tbody>\n",
              "</table>\n",
              "</div>"
            ],
            "text/plain": [
              "   order_date  order_number  customer_id shipping_address_dept  \\\n",
              "0  2023-06-06         10633            3                    93   \n",
              "1  2023-03-29          8290            5                    34   \n",
              "2  2023-05-14          9841            5                    34   \n",
              "3  2022-07-27          1691            6                    87   \n",
              "4  2022-07-27          1693            6                    87   \n",
              "\n",
              "  shipping_address_zip  value  value_cat_1  value_cat_2  value_cat_3  \\\n",
              "0                93400  47.12          0.0        47.12         0.00   \n",
              "1                34080  40.04          0.0         5.40         9.35   \n",
              "2                34080  44.62          0.0         0.00         3.21   \n",
              "3                87400  32.64          0.0         0.00         8.75   \n",
              "4                87400  32.64          0.0         0.00         4.10   \n",
              "\n",
              "   value_cat_4  value_cat_5  value_cat_6  value_uncategorized order_index  \\\n",
              "0         0.00          0.0          0.0                 0.00           5   \n",
              "1        25.29          0.0          0.0                 0.00           3   \n",
              "2        41.41          0.0          0.0                 0.00           4   \n",
              "3         0.00          0.0          0.0                23.89           4   \n",
              "4         0.00          0.0          0.0                28.54           5   \n",
              "\n",
              "   days_to_next_order shipping_address_reg  \n",
              "0                 NaN                 reg8  \n",
              "1                46.0                reg11  \n",
              "2                 NaN                reg11  \n",
              "3                 0.0                reg10  \n",
              "4                50.0                reg10  "
            ]
          },
          "execution_count": 141,
          "metadata": {},
          "output_type": "execute_result"
        }
      ],
      "source": [
        "data.head()"
      ]
    },
    {
      "cell_type": "code",
      "execution_count": 142,
      "id": "eeb4512b",
      "metadata": {},
      "outputs": [
        {
          "name": "stdout",
          "output_type": "stream",
          "text": [
            "<class 'pandas.core.frame.DataFrame'>\n",
            "RangeIndex: 53505 entries, 0 to 53504\n",
            "Data columns (total 16 columns):\n",
            " #   Column                 Non-Null Count  Dtype  \n",
            "---  ------                 --------------  -----  \n",
            " 0   order_date             53505 non-null  object \n",
            " 1   order_number           53505 non-null  int64  \n",
            " 2   customer_id            53505 non-null  int64  \n",
            " 3   shipping_address_dept  53210 non-null  object \n",
            " 4   shipping_address_zip   53220 non-null  object \n",
            " 5   value                  53505 non-null  float64\n",
            " 6   value_cat_1            53505 non-null  float64\n",
            " 7   value_cat_2            53505 non-null  float64\n",
            " 8   value_cat_3            53505 non-null  float64\n",
            " 9   value_cat_4            53505 non-null  float64\n",
            " 10  value_cat_5            53505 non-null  float64\n",
            " 11  value_cat_6            53505 non-null  float64\n",
            " 12  value_uncategorized    53505 non-null  float64\n",
            " 13  order_index            53505 non-null  string \n",
            " 14  days_to_next_order     27592 non-null  float64\n",
            " 15  shipping_address_reg   53210 non-null  object \n",
            "dtypes: float64(9), int64(2), object(4), string(1)\n",
            "memory usage: 6.5+ MB\n"
          ]
        }
      ],
      "source": [
        "data.info()"
      ]
    },
    {
      "cell_type": "markdown",
      "id": "1O4OhKV5Y37u",
      "metadata": {
        "id": "1O4OhKV5Y37u"
      },
      "source": [
        "# Initializing Crystalvalue"
      ]
    },
    {
      "cell_type": "markdown",
      "id": "XMYviqrPHbKD",
      "metadata": {
        "id": "XMYviqrPHbKD"
      },
      "source": [
        "First create a dataset in [Bigquery](https://console.cloud.google.com/bigquery) that will be used for this analysis if you don\"t already have one. The dataset location should be in a [location that Vertex AI services are available](https://cloud.google.com/vertex-ai/docs/general/locations#available_regions). "
      ]
    },
    {
      "cell_type": "code",
      "execution_count": 145,
      "id": "fe917185",
      "metadata": {},
      "outputs": [],
      "source": [
        "ignore_columns = [\n",
        "    \"order_number\", \n",
        "    \"days_to_next_order\", \n",
        "    \"shipping_address_dept\", \n",
        "    \"shipping_address_zip\", \n",
        "    \"value\"                 # to avoid perfect correlation between features\n",
        "]\n",
        "\n",
        "gcp_dataset_id = get_dataset_id()\n",
        "gcp_dataset_id = \"crystalvalue_20250424_230018\""
      ]
    },
    {
      "cell_type": "code",
      "execution_count": 146,
      "id": "gCVphBgXY37w",
      "metadata": {
        "id": "gCVphBgXY37w"
      },
      "outputs": [
        {
          "name": "stderr",
          "output_type": "stream",
          "text": [
            "INFO:absl:Using Google Cloud Project: 'pltv-457408'\n",
            "INFO:absl:Using dataset_id: 'crystalvalue_20250424_230018'\n",
            "INFO:absl:Using Google Cloud location: 'europe-west4'\n",
            "INFO:absl:Using customer id column in input table: 'customer_id'\n",
            "INFO:absl:Using date column in input table: 'order_date'\n",
            "INFO:absl:Using value column in input table: 'value'\n",
            "INFO:absl:Using days_lookback for feature calculation: 180\n",
            "INFO:absl:Using days_lookahead for value prediction: 365\n",
            "INFO:absl:Using trigger_event_date_column for value prediction: None\n",
            "INFO:absl:Parameters writen to file: 'data/crystalvalue_parameters.json'\n"
          ]
        }
      ],
      "source": [
        "pipeline = crystalvalue.CrystalValue(\n",
        "    dataset_id=gcp_dataset_id,\n",
        "    ignore_columns=ignore_columns,\n",
        "    **CRYSTALVALUE_KWARGS\n",
        ")  "
      ]
    },
    {
      "cell_type": "code",
      "execution_count": 147,
      "id": "0qlNEnCjcL9f",
      "metadata": {
        "id": "0qlNEnCjcL9f"
      },
      "outputs": [],
      "source": [
        "pipeline.load_dataframe_to_bigquery(data=data, bq_table_name=GCP_TABLE_ID)"
      ]
    },
    {
      "cell_type": "markdown",
      "id": "FHC77gHNcRDP",
      "metadata": {
        "id": "FHC77gHNcRDP"
      },
      "source": [
        "# Data Checks (Optional)"
      ]
    },
    {
      "cell_type": "markdown",
      "id": "xIfjG7zNcVtx",
      "metadata": {
        "id": "xIfjG7zNcVtx"
      },
      "source": [
        "CrystalValue will run some checks on your data to check if the data is suitable for LTV modelling and raise errors if not. This will also output a new BigQuery table in your dataset called `crystalvalue_data_statistics` with key information such as the number of customers, customer return rate, transactions and analysis time period. This information can be used to check for outliers or anomalies (e.g. negative prices). "
      ]
    },
    {
      "cell_type": "code",
      "execution_count": 148,
      "id": "CTiZxBvrcSeV",
      "metadata": {
        "id": "CTiZxBvrcSeV"
      },
      "outputs": [
        {
          "name": "stderr",
          "output_type": "stream",
          "text": [
            "/Users/pierre-emmanuel/Documents/freelance/pltv/venv/lib/python3.9/site-packages/google/cloud/bigquery/table.py:1933: UserWarning: BigQuery Storage module not found, fetch data with the REST endpoint instead.\n",
            "  warnings.warn(\n",
            "INFO:root:Creating table 'pltv-457408.crystalvalue_20250424_230018.crystalvalue_data_statistics' in location 'europe-west4'\n"
          ]
        }
      ],
      "source": [
        "summary_statistics = pipeline.run_data_checks(transaction_table_name=GCP_TABLE_ID)"
      ]
    },
    {
      "cell_type": "code",
      "execution_count": 149,
      "id": "e4f524c8",
      "metadata": {},
      "outputs": [
        {
          "data": {
            "text/html": [
              "<div>\n",
              "<style scoped>\n",
              "    .dataframe tbody tr th:only-of-type {\n",
              "        vertical-align: middle;\n",
              "    }\n",
              "\n",
              "    .dataframe tbody tr th {\n",
              "        vertical-align: top;\n",
              "    }\n",
              "\n",
              "    .dataframe thead th {\n",
              "        text-align: right;\n",
              "    }\n",
              "</style>\n",
              "<table border=\"1\" class=\"dataframe\">\n",
              "  <thead>\n",
              "    <tr style=\"text-align: right;\">\n",
              "      <th></th>\n",
              "      <th>number_of_rows</th>\n",
              "      <th>number_of_customers</th>\n",
              "      <th>number_of_transactions</th>\n",
              "      <th>total_analysis_days</th>\n",
              "      <th>number_of_days_with_data</th>\n",
              "      <th>max_transaction_date</th>\n",
              "      <th>min_transaction_date</th>\n",
              "      <th>lookahead_customer_return_rate</th>\n",
              "      <th>lookahead_customer_mean_returns</th>\n",
              "      <th>lookahead_customer_conditional_mean_returns</th>\n",
              "      <th>value_mean</th>\n",
              "      <th>value_std</th>\n",
              "      <th>value_min</th>\n",
              "      <th>value_25_quantile</th>\n",
              "      <th>value_50_quantile</th>\n",
              "      <th>value_75_quantile</th>\n",
              "      <th>value_max</th>\n",
              "      <th>transactions_per_customer_mean</th>\n",
              "      <th>transactions_per_customer_std</th>\n",
              "      <th>transactions_per_customer_min</th>\n",
              "      <th>transactions_per_customer_25_quantile</th>\n",
              "      <th>transactions_per_customer_50_quantile</th>\n",
              "      <th>transactions_per_customer_75_quantile</th>\n",
              "      <th>transactions_per_customer_max</th>\n",
              "    </tr>\n",
              "  </thead>\n",
              "  <tbody>\n",
              "    <tr>\n",
              "      <th>statistics</th>\n",
              "      <td>53494</td>\n",
              "      <td>25913</td>\n",
              "      <td>53494</td>\n",
              "      <td>1049</td>\n",
              "      <td>1050</td>\n",
              "      <td>2025-04-15</td>\n",
              "      <td>2022-06-01</td>\n",
              "      <td>0.55</td>\n",
              "      <td>2.38</td>\n",
              "      <td>4.29</td>\n",
              "      <td>49.83</td>\n",
              "      <td>32.99</td>\n",
              "      <td>0.39</td>\n",
              "      <td>39.11</td>\n",
              "      <td>42.64</td>\n",
              "      <td>60.92</td>\n",
              "      <td>2684.79</td>\n",
              "      <td>2.06</td>\n",
              "      <td>2.74</td>\n",
              "      <td>1.0</td>\n",
              "      <td>1.0</td>\n",
              "      <td>1.0</td>\n",
              "      <td>2.0</td>\n",
              "      <td>50.0</td>\n",
              "    </tr>\n",
              "  </tbody>\n",
              "</table>\n",
              "</div>"
            ],
            "text/plain": [
              "           number_of_rows number_of_customers number_of_transactions  \\\n",
              "statistics          53494               25913                  53494   \n",
              "\n",
              "           total_analysis_days number_of_days_with_data max_transaction_date  \\\n",
              "statistics                1049                     1050           2025-04-15   \n",
              "\n",
              "           min_transaction_date lookahead_customer_return_rate  \\\n",
              "statistics           2022-06-01                           0.55   \n",
              "\n",
              "           lookahead_customer_mean_returns  \\\n",
              "statistics                            2.38   \n",
              "\n",
              "           lookahead_customer_conditional_mean_returns value_mean value_std  \\\n",
              "statistics                                        4.29      49.83     32.99   \n",
              "\n",
              "           value_min value_25_quantile value_50_quantile value_75_quantile  \\\n",
              "statistics      0.39             39.11             42.64             60.92   \n",
              "\n",
              "           value_max transactions_per_customer_mean  \\\n",
              "statistics   2684.79                           2.06   \n",
              "\n",
              "           transactions_per_customer_std transactions_per_customer_min  \\\n",
              "statistics                          2.74                           1.0   \n",
              "\n",
              "           transactions_per_customer_25_quantile  \\\n",
              "statistics                                   1.0   \n",
              "\n",
              "           transactions_per_customer_50_quantile  \\\n",
              "statistics                                   1.0   \n",
              "\n",
              "           transactions_per_customer_75_quantile transactions_per_customer_max  \n",
              "statistics                                   2.0                          50.0  "
            ]
          },
          "execution_count": 149,
          "metadata": {},
          "output_type": "execute_result"
        }
      ],
      "source": [
        "summary_statistics"
      ]
    },
    {
      "cell_type": "markdown",
      "id": "afd6f4f0",
      "metadata": {},
      "source": [
        "- `lookahead_customer_return_rate`\n",
        "    - **taux de retour (oui/non)**\n",
        "    - proportion de clients qui ont **au moins une tx future** dans la fenêtre de `days_lookahead`\n",
        "    - mesure de récurrence\n",
        "\n",
        "- `lookahead_customer_mean_returns`\n",
        "    - **jours moyens d’activité future (tous clients)**\n",
        "    - nombre moyen de **jours avec une tx** dans la fenêtre de `lookahead`, par tx\n",
        "    - **combien de jours** sont “actifs” dans la période `lookahead` après chaque tx\n",
        "\n",
        "- `lookahead_customer_conditional_mean_returns`\n",
        "    - **jours moyens d’activité chez ceux qui reviennent**\n",
        "    - moyenne du nombre de jours avec transaction, uniquement chez ceux qui reviennent au moins une fois"
      ]
    },
    {
      "cell_type": "markdown",
      "id": "emCUVYhLFnla",
      "metadata": {
        "id": "emCUVYhLFnla"
      },
      "source": [
        "If a custom data cleaning routine has to be implemented use the `.run_query()` method. The example below removes transactions with negative prices. This method could also be used to run custom feature engineering scripts instead of the automated `.feature_engineering()` method in the next step. This data cleaning routine can be scheduled as part of the pipeline that we will define later (for model training and prediction)."
      ]
    },
    {
      "cell_type": "markdown",
      "id": "5Bcu6lMlY37w",
      "metadata": {
        "id": "5Bcu6lMlY37w"
      },
      "source": [
        "# Feature Engineering\n",
        "\n",
        "Crystalvalue takes a transaction or browsing level dataset and creates a machine learning-ready dataset that can be ingested by AutoML. Data types are automatically inferred from the BigQuery schema unless the features are provided using the `feature_types` parameter in the `.feature_engineer()` method. Data transformations are applied automatically depending on the data type. The data crunching happens in BigQuery and the executed script can be optionally written to your directory. The features will be created in a BigQuery table called `crystalvalue_train_data` by default."
      ]
    },
    {
      "cell_type": "code",
      "execution_count": 153,
      "id": "b8ed7fd4",
      "metadata": {},
      "outputs": [],
      "source": [
        "kwargs = {}\n",
        "\n",
        "if LOOKBACK_DAYS == 0:\n",
        "    # we keep numerical features as is since we only select first purchases\n",
        "    numerical_transformations = frozenset([\"AVG\"])\n",
        "    string_transformations = frozenset([\"unique_list\"])\n",
        "\n",
        "    # we exclude these features since we only select first purchases\n",
        "    columns_to_exclude = [\"days_since_last_transaction\", \"days_since_first_transaction\", \"count_transactions\"]\n",
        "\n",
        "    kwargs[\"numerical_transformations\"] = numerical_transformations\n",
        "    kwargs[\"string_transformations\"] = string_transformations\n",
        "    kwargs[\"columns_to_exclude\"] = columns_to_exclude"
      ]
    },
    {
      "cell_type": "code",
      "execution_count": 159,
      "id": "yK5Lfb1SY37w",
      "metadata": {
        "id": "yK5Lfb1SY37w"
      },
      "outputs": [
        {
          "name": "stdout",
          "output_type": "stream",
          "text": [
            "True\n"
          ]
        }
      ],
      "source": [
        "pipeline.feature_engineer(\n",
        "  transaction_table_name=GCP_TABLE_ID,\n",
        "  query_type=\"example_train_query\", \n",
        "  **kwargs\n",
        ")"
      ]
    },
    {
      "cell_type": "markdown",
      "id": "xQ0yaFbBY37x",
      "metadata": {
        "id": "xQ0yaFbBY37x"
      },
      "source": [
        "# Model Training"
      ]
    },
    {
      "cell_type": "markdown",
      "id": "3JCdyprSY37x",
      "metadata": {
        "id": "3JCdyprSY37x"
      },
      "source": [
        "Crystalvalue leverages [Vertex AI (Tabular) AutoML](https://cloud.google.com/vertex-ai/docs/training/automl-api) which requires a\n",
        "[Vertex AI Dataset](https://cloud.google.com/vertex-ai/docs/datasets/create-dataset-api) as an input. CrystalValue automatically creates a Vertex AI Dataset from your input table as part of the training step of the pipeline. The training process typically takes about 2 or more hours to run. The Vertex AI Dataset will have a display name `crystalvalue_dataset`. The model will have a display name `crystalvalue_model` but it will also receive a model ID (so even if you train multiple models they will not be overwritten and can be identified using these IDs). By default CrystalValue chooses the following parameters:\n",
        "*  Predefined split with random 15% of users as test, 15% in validation and 70% in training.\n",
        "*  Optimization objective as Minimize root-mean-squared error (RMSE).\n",
        "*  1 node hour of training (1000 milli node hours), which we recommend starting with. [Modify this in line with the number of rows](https://cloud.google.com/automl-tables/docs/train#training_a_model) in the dataset when you are ready for productionising. See information here about [pricing](https://cloud.google.com/automl-tables/pricing).\n",
        "\n",
        "In this example we keep all the default settings so training the model is as simple as calling `pipeline.train_automl_model()`.\n",
        "\n",
        "In order to make fast predictions later, you can deploy the model using the `.deploy_model()` method."
      ]
    },
    {
      "cell_type": "markdown",
      "id": "1da5cf05",
      "metadata": {},
      "source": [
        "$$\\text{RMSE} = \\sqrt{\\frac{1}{n} \\sum_{i=1}^{n} (y_i - \\hat{y}_i)^2}$$"
      ]
    },
    {
      "cell_type": "markdown",
      "id": "PvryAnPFiuWG",
      "metadata": {
        "id": "PvryAnPFiuWG"
      },
      "source": [
        "Once you start the training, you can view your model training progress here:  \n",
        "https://console.cloud.google.com/vertex-ai/training/training-pipelines  \n",
        "Once the training is finished, check out your Dataset (with statistics and distributions) and Model (with feature importance) in the UI:  \n",
        " https://console.cloud.google.com/vertex-ai/datasets   \n",
        " https://console.cloud.google.com/vertex-ai/models"
      ]
    },
    {
      "cell_type": "code",
      "execution_count": null,
      "id": "CSK1FtHVY37y",
      "metadata": {
        "id": "CSK1FtHVY37y"
      },
      "outputs": [],
      "source": [
        "model_object = pipeline.train_automl_model()"
      ]
    },
    {
      "cell_type": "code",
      "execution_count": null,
      "id": "45bf5be6",
      "metadata": {},
      "outputs": [],
      "source": [
        "model_object = pipeline.deploy_model()"
      ]
    },
    {
      "cell_type": "markdown",
      "id": "Dok2Wu6UY370",
      "metadata": {
        "id": "Dok2Wu6UY370"
      },
      "source": [
        "# Model Evaluation"
      ]
    },
    {
      "cell_type": "markdown",
      "id": "wsJdx-MvY370",
      "metadata": {
        "id": "wsJdx-MvY370"
      },
      "source": [
        "To evaluate a model, we use the following criteria:\n",
        "\n",
        "* The spearman correlation, a measure of how well the model **ranked** the Liftetime value of customers in the test set. This is measured between -1 (worse) and 1 (better).\n",
        "* The normalised Gini coefficient, another measure of how well the model **ranked** the Lifetime value of customers in the test set compared to random ranking. This is measured between 0 (worse) and 1 (better). \n",
        "* The normalised Mean Average Error (MAE%). This is a measure of the **error** of the model\"s predictions for Lifetime value in the test set. \n",
        "* top_x_percent_predicted_customer_value_share: The proportion of value (i.e. total profit or revenue) in the test set that is accounted for by the top x% model-predicted customers. \n",
        "\n",
        "These outputs are sent to a BigQuery table (by default called `crystalvalue_evaluation`). Subsequent model evaluations append model performance evaluation metrics to this table to allow for comparison across models."
      ]
    },
    {
      "cell_type": "code",
      "execution_count": 72,
      "id": "dfa7a071",
      "metadata": {},
      "outputs": [],
      "source": [
        "model_id = \"3700793411373105152\"\n",
        "gcp_dataset_id = \"crystalvalue_20250424_230018\"\n",
        "\n",
        "ignore_columns = [\n",
        "    \"order_number\", \n",
        "    \"days_to_next_order\", \n",
        "    \"shipping_address_dept\", \n",
        "    \"shipping_address_zip\", \n",
        "    \"value\"\n",
        "]"
      ]
    },
    {
      "cell_type": "code",
      "execution_count": 73,
      "id": "14ab97a8",
      "metadata": {},
      "outputs": [
        {
          "name": "stderr",
          "output_type": "stream",
          "text": [
            "INFO:absl:Using Google Cloud Project: 'pltv-457408'\n",
            "INFO:absl:Using dataset_id: 'crystalvalue_20250424_190800'\n",
            "INFO:absl:Using Google Cloud location: 'europe-west4'\n",
            "INFO:absl:Using customer id column in input table: 'customer_id'\n",
            "INFO:absl:Using date column in input table: 'order_date'\n",
            "INFO:absl:Using value column in input table: 'value'\n",
            "INFO:absl:Using days_lookback for feature calculation: 0\n",
            "INFO:absl:Using days_lookahead for value prediction: 90\n",
            "INFO:absl:Using trigger_event_date_column for value prediction: None\n",
            "INFO:absl:Parameters writen to file: 'data/crystalvalue_parameters.json'\n"
          ]
        }
      ],
      "source": [
        "pipeline = crystalvalue.CrystalValue(\n",
        "    dataset_id=gcp_dataset_id,\n",
        "    ignore_columns=ignore_columns,\n",
        "    **CRYSTALVALUE_KWARGS\n",
        ")  "
      ]
    },
    {
      "cell_type": "code",
      "execution_count": 81,
      "id": "77d23246",
      "metadata": {},
      "outputs": [
        {
          "name": "stdout",
          "output_type": "stream",
          "text": [
            "Pipeline model_id reset:  3700793411373105152\n"
          ]
        },
        {
          "name": "stderr",
          "output_type": "stream",
          "text": [
            "/Users/pierre-emmanuel/Documents/freelance/pltv/venv/lib/python3.9/site-packages/google/cloud/bigquery/table.py:1933: UserWarning: BigQuery Storage module not found, fetch data with the REST endpoint instead.\n",
            "  warnings.warn(\n",
            "INFO:matplotlib.category:Using categorical units to plot a list of strings that are all parsable as floats or dates. If these strings should be plotted as numbers, cast to the appropriate data type before plotting.\n",
            "INFO:matplotlib.category:Using categorical units to plot a list of strings that are all parsable as floats or dates. If these strings should be plotted as numbers, cast to the appropriate data type before plotting.\n",
            "INFO:root:Saving figure in 'bin_predictions_vs_actuals.png'\n",
            "INFO:root:Appending to table 'pltv-457408.crystalvalue_20250424_190800.crystalvalue_evaluation' in location 'europe-west4'\n"
          ]
        },
        {
          "data": {
            "image/png": "[encoded data removed]",
            "text/plain": [
              "<Figure size 1000x700 with 1 Axes>"
            ]
          },
          "metadata": {},
          "output_type": "display_data"
        }
      ],
      "source": [
        "metrics = pipeline.evaluate_model(model_id); \n",
        "\n",
        "# plot shows actual vs predicted values per quantile"
      ]
    },
    {
      "cell_type": "code",
      "execution_count": 82,
      "id": "594cf0ca",
      "metadata": {},
      "outputs": [
        {
          "data": {
            "text/html": [
              "<div>\n",
              "<style scoped>\n",
              "    .dataframe tbody tr th:only-of-type {\n",
              "        vertical-align: middle;\n",
              "    }\n",
              "\n",
              "    .dataframe tbody tr th {\n",
              "        vertical-align: top;\n",
              "    }\n",
              "\n",
              "    .dataframe thead th {\n",
              "        text-align: right;\n",
              "    }\n",
              "</style>\n",
              "<table border=\"1\" class=\"dataframe\">\n",
              "  <thead>\n",
              "    <tr style=\"text-align: right;\">\n",
              "      <th></th>\n",
              "      <th>time_run</th>\n",
              "      <th>model_id</th>\n",
              "      <th>test_set_rows</th>\n",
              "      <th>spearman_correlation</th>\n",
              "      <th>gini_normalized</th>\n",
              "      <th>normalised_mae</th>\n",
              "      <th>top_1_percent_predicted_customers_value_share</th>\n",
              "      <th>top_5_percent_predicted_customers_value_share</th>\n",
              "      <th>top_10_percent_predicted_customers_value_share</th>\n",
              "    </tr>\n",
              "  </thead>\n",
              "  <tbody>\n",
              "    <tr>\n",
              "      <th>0</th>\n",
              "      <td>24/04/2025 22:44:24</td>\n",
              "      <td>3700793411373105152</td>\n",
              "      <td>994</td>\n",
              "      <td>0.23</td>\n",
              "      <td>0.47</td>\n",
              "      <td>1.31</td>\n",
              "      <td>0.06</td>\n",
              "      <td>0.17</td>\n",
              "      <td>0.29</td>\n",
              "    </tr>\n",
              "  </tbody>\n",
              "</table>\n",
              "</div>"
            ],
            "text/plain": [
              "              time_run             model_id  test_set_rows  \\\n",
              "0  24/04/2025 22:44:24  3700793411373105152            994   \n",
              "\n",
              "   spearman_correlation  gini_normalized  normalised_mae  \\\n",
              "0                  0.23             0.47            1.31   \n",
              "\n",
              "   top_1_percent_predicted_customers_value_share  \\\n",
              "0                                           0.06   \n",
              "\n",
              "   top_5_percent_predicted_customers_value_share  \\\n",
              "0                                           0.17   \n",
              "\n",
              "   top_10_percent_predicted_customers_value_share  \n",
              "0                                            0.29  "
            ]
          },
          "execution_count": 82,
          "metadata": {},
          "output_type": "execute_result"
        }
      ],
      "source": [
        "metrics"
      ]
    },
    {
      "cell_type": "markdown",
      "id": "oJ6ZFLwrY37y",
      "metadata": {
        "id": "oJ6ZFLwrY37y"
      },
      "source": [
        "# Generating predictions"
      ]
    },
    {
      "cell_type": "markdown",
      "id": "jEzDVyiMY37z",
      "metadata": {
        "id": "jEzDVyiMY37z"
      },
      "source": [
        "Once model training is done, you can generate predictions. Features need to be engineered (the exact same as were used for model training) before prediction. This is done using the `.feature_engineer()` method by setting the parameter `query_type=\"predict_query\"`. The features will be created in a BigQuery table called `crystalvalue_predict_data` by default. The model will make predictions for all customers in the provided input table that have any activity during the lookback window. The pLTV predictions will be for the period starting from the last date in the input table (not today\"s date).  "
      ]
    },
    {
      "cell_type": "code",
      "execution_count": 83,
      "id": "bbff4d1f",
      "metadata": {},
      "outputs": [],
      "source": [
        "bq_client = bigquery.Client(credentials=credentials)"
      ]
    },
    {
      "cell_type": "code",
      "execution_count": 84,
      "id": "Z2sOiMID4X2-",
      "metadata": {
        "id": "Z2sOiMID4X2-"
      },
      "outputs": [
        {
          "name": "stderr",
          "output_type": "stream",
          "text": [
            "/Users/pierre-emmanuel/Documents/freelance/pltv/venv/lib/python3.9/site-packages/google/cloud/bigquery/table.py:1933: UserWarning: BigQuery Storage module not found, fetch data with the REST endpoint instead.\n",
            "  warnings.warn(\n"
          ]
        }
      ],
      "source": [
        "from crystalvalue.model_evaluation import get_test_set\n",
        "\n",
        "crystalvalue_predict_data = get_test_set(\n",
        "    bigquery_client=bq_client,\n",
        "    dataset_id=gcp_dataset_id,\n",
        "    table_name=pipeline.training_table_name,\n",
        "    location=GCP_LOCATION\n",
        ")"
      ]
    },
    {
      "cell_type": "code",
      "execution_count": null,
      "id": "db0ca96b",
      "metadata": {},
      "outputs": [],
      "source": [
        "predictions = pipeline.predict(\n",
        "    input_table=crystalvalue_predict_data,\n",
        "    destination_table=\"crystalvalue_predictions\"  # The bigquery table to append predictions to. It will be created if it does not exist yet.\n",
        ")  \n",
        "\n",
        "predictions[\"index\"] = predictions.apply(\n",
        "    lambda x: f\"{x['customer_id']}_{x['lookahead_start']}_{x['lookahead_stop']}\", \n",
        "    axis=1\n",
        ")"
      ]
    },
    {
      "cell_type": "code",
      "execution_count": 116,
      "id": "1333e7d0",
      "metadata": {},
      "outputs": [
        {
          "name": "stderr",
          "output_type": "stream",
          "text": [
            "/Users/pierre-emmanuel/Documents/freelance/pltv/venv/lib/python3.9/site-packages/google/cloud/bigquery/table.py:1933: UserWarning: BigQuery Storage module not found, fetch data with the REST endpoint instead.\n",
            "  warnings.warn(\n"
          ]
        }
      ],
      "source": [
        "actual = query_actual_values(client=bq_client, pipeline=pipeline)"
      ]
    },
    {
      "cell_type": "code",
      "execution_count": 119,
      "id": "4fcbbe07",
      "metadata": {},
      "outputs": [],
      "source": [
        "final_dataset = pd.merge(\n",
        "    left=predictions, \n",
        "    right=actual, \n",
        "    on=\"index\", \n",
        "    how=\"inner\"\n",
        ")\n",
        "\n",
        "final_dataset[\"error\"] = final_dataset[\"predicted_value\"] - final_dataset[\"actual_value\"]\n",
        "\n",
        "final_dataset.rename(columns={\"customer_id_x\": \"customer_id\"}, inplace=True)\n",
        "final_dataset.drop(columns=[\"index\", \"customer_id_y\"], inplace=True)"
      ]
    },
    {
      "cell_type": "code",
      "execution_count": 120,
      "id": "f9cca24a",
      "metadata": {},
      "outputs": [
        {
          "data": {
            "text/html": [
              "<div>\n",
              "<style scoped>\n",
              "    .dataframe tbody tr th:only-of-type {\n",
              "        vertical-align: middle;\n",
              "    }\n",
              "\n",
              "    .dataframe tbody tr th {\n",
              "        vertical-align: top;\n",
              "    }\n",
              "\n",
              "    .dataframe thead th {\n",
              "        text-align: right;\n",
              "    }\n",
              "</style>\n",
              "<table border=\"1\" class=\"dataframe\">\n",
              "  <thead>\n",
              "    <tr style=\"text-align: right;\">\n",
              "      <th></th>\n",
              "      <th>customer_id</th>\n",
              "      <th>lookahead_start</th>\n",
              "      <th>lookahead_stop</th>\n",
              "      <th>predicted_value</th>\n",
              "      <th>actual_value</th>\n",
              "      <th>error</th>\n",
              "    </tr>\n",
              "  </thead>\n",
              "  <tbody>\n",
              "    <tr>\n",
              "      <th>0</th>\n",
              "      <td>13811</td>\n",
              "      <td>2024-03-02</td>\n",
              "      <td>2024-05-30</td>\n",
              "      <td>30.35</td>\n",
              "      <td>206.63</td>\n",
              "      <td>-176.28</td>\n",
              "    </tr>\n",
              "    <tr>\n",
              "      <th>1</th>\n",
              "      <td>13790</td>\n",
              "      <td>2024-03-02</td>\n",
              "      <td>2024-05-30</td>\n",
              "      <td>15.85</td>\n",
              "      <td>81.31</td>\n",
              "      <td>-65.46</td>\n",
              "    </tr>\n",
              "    <tr>\n",
              "      <th>2</th>\n",
              "      <td>13792</td>\n",
              "      <td>2024-03-02</td>\n",
              "      <td>2024-05-30</td>\n",
              "      <td>2.29</td>\n",
              "      <td>5.73</td>\n",
              "      <td>-3.44</td>\n",
              "    </tr>\n",
              "    <tr>\n",
              "      <th>3</th>\n",
              "      <td>13813</td>\n",
              "      <td>2024-03-02</td>\n",
              "      <td>2024-05-30</td>\n",
              "      <td>22.92</td>\n",
              "      <td>132.74</td>\n",
              "      <td>-109.82</td>\n",
              "    </tr>\n",
              "    <tr>\n",
              "      <th>4</th>\n",
              "      <td>13806</td>\n",
              "      <td>2024-03-02</td>\n",
              "      <td>2024-05-30</td>\n",
              "      <td>31.51</td>\n",
              "      <td>118.99</td>\n",
              "      <td>-87.48</td>\n",
              "    </tr>\n",
              "    <tr>\n",
              "      <th>...</th>\n",
              "      <td>...</td>\n",
              "      <td>...</td>\n",
              "      <td>...</td>\n",
              "      <td>...</td>\n",
              "      <td>...</td>\n",
              "      <td>...</td>\n",
              "    </tr>\n",
              "    <tr>\n",
              "      <th>259</th>\n",
              "      <td>14750</td>\n",
              "      <td>2024-04-01</td>\n",
              "      <td>2024-06-29</td>\n",
              "      <td>42.30</td>\n",
              "      <td>294.64</td>\n",
              "      <td>-252.34</td>\n",
              "    </tr>\n",
              "    <tr>\n",
              "      <th>260</th>\n",
              "      <td>14740</td>\n",
              "      <td>2024-04-01</td>\n",
              "      <td>2024-06-29</td>\n",
              "      <td>20.60</td>\n",
              "      <td>41.84</td>\n",
              "      <td>-21.24</td>\n",
              "    </tr>\n",
              "    <tr>\n",
              "      <th>261</th>\n",
              "      <td>14729</td>\n",
              "      <td>2024-04-01</td>\n",
              "      <td>2024-06-29</td>\n",
              "      <td>24.04</td>\n",
              "      <td>52.96</td>\n",
              "      <td>-28.92</td>\n",
              "    </tr>\n",
              "    <tr>\n",
              "      <th>262</th>\n",
              "      <td>14777</td>\n",
              "      <td>2024-04-01</td>\n",
              "      <td>2024-06-29</td>\n",
              "      <td>15.72</td>\n",
              "      <td>44.21</td>\n",
              "      <td>-28.49</td>\n",
              "    </tr>\n",
              "    <tr>\n",
              "      <th>263</th>\n",
              "      <td>14699</td>\n",
              "      <td>2024-04-01</td>\n",
              "      <td>2024-06-29</td>\n",
              "      <td>28.43</td>\n",
              "      <td>44.35</td>\n",
              "      <td>-15.92</td>\n",
              "    </tr>\n",
              "  </tbody>\n",
              "</table>\n",
              "<p>264 rows × 6 columns</p>\n",
              "</div>"
            ],
            "text/plain": [
              "    customer_id lookahead_start lookahead_stop  predicted_value  actual_value  \\\n",
              "0         13811      2024-03-02     2024-05-30            30.35        206.63   \n",
              "1         13790      2024-03-02     2024-05-30            15.85         81.31   \n",
              "2         13792      2024-03-02     2024-05-30             2.29          5.73   \n",
              "3         13813      2024-03-02     2024-05-30            22.92        132.74   \n",
              "4         13806      2024-03-02     2024-05-30            31.51        118.99   \n",
              "..          ...             ...            ...              ...           ...   \n",
              "259       14750      2024-04-01     2024-06-29            42.30        294.64   \n",
              "260       14740      2024-04-01     2024-06-29            20.60         41.84   \n",
              "261       14729      2024-04-01     2024-06-29            24.04         52.96   \n",
              "262       14777      2024-04-01     2024-06-29            15.72         44.21   \n",
              "263       14699      2024-04-01     2024-06-29            28.43         44.35   \n",
              "\n",
              "      error  \n",
              "0   -176.28  \n",
              "1    -65.46  \n",
              "2     -3.44  \n",
              "3   -109.82  \n",
              "4    -87.48  \n",
              "..      ...  \n",
              "259 -252.34  \n",
              "260  -21.24  \n",
              "261  -28.92  \n",
              "262  -28.49  \n",
              "263  -15.92  \n",
              "\n",
              "[264 rows x 6 columns]"
            ]
          },
          "execution_count": 120,
          "metadata": {},
          "output_type": "execute_result"
        }
      ],
      "source": [
        "final_dataset"
      ]
    },
    {
      "cell_type": "code",
      "execution_count": 121,
      "id": "4381b99c",
      "metadata": {},
      "outputs": [
        {
          "data": {
            "image/png": "[encoded data removed]",
            "text/plain": [
              "<Figure size 1000x600 with 1 Axes>"
            ]
          },
          "metadata": {},
          "output_type": "display_data"
        }
      ],
      "source": [
        "plot_predictions_vs_actual(final_dataset, max_value=500)"
      ]
    },
    {
      "cell_type": "code",
      "execution_count": 122,
      "id": "df6a6706",
      "metadata": {},
      "outputs": [
        {
          "data": {
            "image/png": "[encoded data removed]",
            "text/plain": [
              "<Figure size 640x480 with 1 Axes>"
            ]
          },
          "metadata": {},
          "output_type": "display_data"
        }
      ],
      "source": [
        "sns.histplot(data=final_dataset, x=\"error\", bins=30); "
      ]
    },
    {
      "cell_type": "code",
      "execution_count": 123,
      "id": "0e0c2643",
      "metadata": {},
      "outputs": [
        {
          "name": "stdout",
          "output_type": "stream",
          "text": [
            "MAE: 66.971\n",
            "MAPE: 0.678\n",
            "RMSE: 101.399\n",
            "R2: -0.542\n"
          ]
        }
      ],
      "source": [
        "metrics = calculate_regression_metrics(final_dataset)\n",
        "\n",
        "for key, value in metrics.items():\n",
        "    print(f\"{key}: {value:.3f}\")"
      ]
    },
    {
      "cell_type": "markdown",
      "id": "bDF0AE95vvuv",
      "metadata": {
        "id": "bDF0AE95vvuv"
      },
      "source": [
        "# Scheduling daily predictions"
      ]
    },
    {
      "cell_type": "markdown",
      "id": "uWrKLbrEv0xo",
      "metadata": {
        "id": "uWrKLbrEv0xo"
      },
      "source": [
        "Crystalvalue uses [Vertex Pipelines](https://cloud.google.com/vertex-ai/docs/pipelines/introduction) to schedule and monitor machine learning predictions. It can also be used for model retraining. The example below demonstrates how to set up the model to automatically create predictions using new input data from the source BigQuery table every day at 1am. The frequency and timing of the schedule can be altered using the chron schedule below. Once this pipeline is set up, you can view it [here](https://console.cloud.google.com/vertex-ai/pipelines). If you want a tutorial on how to set up Vertex Pipelines [this guide](https://cloud.google.com/vertex-ai/docs/pipelines/build-pipeline)."
      ]
    },
    {
      "cell_type": "markdown",
      "id": "ZECtoCAyxbxX",
      "metadata": {
        "id": "ZECtoCAyxbxX"
      },
      "source": [
        "In order to use Vertex AI pipelines, we need a cloud storage bucket. Use the code below to create a cloud storage bucket. Note that you may have to grant Storage Object Admin to your service account to ensure the pipeline can run."
      ]
    },
    {
      "cell_type": "code",
      "execution_count": null,
      "id": "1zuWtrdwxjKX",
      "metadata": {
        "id": "1zuWtrdwxjKX"
      },
      "outputs": [],
      "source": [
        "BUCKET_NAME = \"crystalvalue_bucket\"\n",
        "storage_bucket = pipeline.create_storage_bucket(bucket_name=BUCKET_NAME)"
      ]
    },
    {
      "cell_type": "markdown",
      "id": "pj3GIIJr5TqC",
      "metadata": {
        "id": "pj3GIIJr5TqC"
      },
      "source": [
        "In order to use Vertex AI pipelines with Crystalvalue we also need to create a docker container which will be stored in Google Cloud Container Registry. The following code builds a docker container and pushes it to your [GCP Container Registry](https://cloud.google.com/container-registry). \n"
      ]
    },
    {
      "cell_type": "code",
      "execution_count": null,
      "id": "xCEA0QZo5ale",
      "metadata": {
        "id": "xCEA0QZo5ale"
      },
      "outputs": [],
      "source": [
        "!docker build -t crystalvalue .\n",
        "!docker tag crystalvalue gcr.io/$pipeline.project_id/crystalvalue\n",
        "!docker push gcr.io/$pipeline.project_id/crystalvalue"
      ]
    },
    {
      "cell_type": "markdown",
      "id": "JlfrRkrF_jhR",
      "metadata": {
        "id": "JlfrRkrF_jhR"
      },
      "source": [
        "The Kubeflow components contains self-contained functions. Read about [Kubeflow components](https://www.kubeflow.org/docs/components/pipelines/sdk/component-development/).  "
      ]
    },
    {
      "cell_type": "code",
      "execution_count": null,
      "id": "jT1zxEqGwG17",
      "metadata": {
        "id": "jT1zxEqGwG17"
      },
      "outputs": [],
      "source": [
        "from kfp import dsl\n",
        "from kfp import compiler\n",
        "from kfp.dsl import component\n",
        "\n",
        "\n",
        "@component(base_image=f\"gcr.io/{pipeline.project_id}/crystalvalue:latest\")\n",
        "def pipeline_function():  \n",
        "  from crystalvalue import crystalvalue\n",
        "  parameters = crystalvalue.load_parameters_from_file()\n",
        "  pipeline = crystalvalue.CrystalValue(**parameters)\n",
        "  TRANSACTION_TABLE = \"online_retail_data\"  # Add your input table name.\n",
        "  pipeline.run_data_checks(transaction_table_name=TRANSACTION_TABLE)  \n",
        "  features = pipeline.feature_engineer(transaction_table_name=TRANSACTION_TABLE,\n",
        "                                       query_type=\"predict_query\")\n",
        "  pipeline.predict(features)\n",
        "\n",
        "\n",
        "@dsl.pipeline(\n",
        "    name=\"crystalvaluepipeline\",\n",
        "    pipeline_root=f\"gs://{BUCKET_NAME}/pipeline_root\",\n",
        ")\n",
        "def crystalvalue_pipeline():\n",
        "    pipeline_function()\n",
        "    \n",
        "compiler.Compiler().compile(\n",
        "  pipeline_func=crystalvalue_pipeline,\n",
        "  package_path=\"crystalvaluepipeline.json\"\n",
        ")"
      ]
    },
    {
      "cell_type": "code",
      "execution_count": null,
      "metadata": {
        "id": "zNSjgatukOKR"
      },
      "outputs": [],
      "source": [
        "from google.cloud import aiplatform\n",
        "\n",
        "# Choose a region compatible with Vertex Pipelines. \n",
        "# This doesn\"t have to be the same as your data location.\n",
        "\n",
        "PROJECT_ID = pipeline.project_id,\n",
        "REGION=pipeline.location,\n",
        "DISPLAY_NAME=\"crystalvalue_pipeline\",\n",
        "PIPELINE_ROOT=f\"gs://{BUCKET_NAME}/pipeline_root\",\n",
        "PACKAGE_PATH=\"crystalvaluepipeline.json\",\n",
        "aiplatform.init(\n",
        "    project=PROJECT_ID,\n",
        "    location=REGION,\n",
        ")\n",
        "\n",
        "pipeline_job = aiplatform.PipelineJob(\n",
        "    display_name=DISPLAY_NAME,\n",
        "    template_path=PACKAGE_PATH,\n",
        "    pipeline_root=PIPELINE_ROOT,\n",
        ")\n",
        "\n",
        "## Check if your pipeline is running.\n",
        "job.submit()"
      ]
    },
    {
      "cell_type": "markdown",
      "id": "e_uER_PJ_fNW",
      "metadata": {
        "id": "e_uER_PJ_fNW"
      },
      "source": [
        "Create the scheduled pipeline. Adjust time zone and cron schedule as necessary."
      ]
    },
    {
      "cell_type": "code",
      "execution_count": null,
      "metadata": {
        "id": "t7L0QRKOaLYM"
      },
      "outputs": [],
      "source": [
        "pipeline_job_schedule = pipeline_job.create_schedule(\n",
        "  display_name=\"crystalvalue_pipeline_schedule\",\n",
        "  cron=\"TZ=CRON\",\n",
        "  max_concurrent_run_count=MAX_CONCURRENT_RUN_COUNT,\n",
        "  max_run_count=MAX_RUN_COUNT,\n",
        ")"
      ]
    },
    {
      "cell_type": "markdown",
      "id": "sxeSm7BxA5so",
      "metadata": {
        "id": "sxeSm7BxA5so"
      },
      "source": [
        "You can view your running and scheduled pipelines at:\n",
        "https://console.cloud.google.com/vertex-ai/pipelines or by adjusting the code below."
      ]
    },
    {
      "cell_type": "code",
      "execution_count": null,
      "metadata": {
        "id": "ac4RlBqXaLYM"
      },
      "outputs": [],
      "source": [
        "aiplatform.PipelineJobSchedule.list(\n",
        "  filter=\"display_name=\"DISPLAY_NAME\"\",\n",
        "  order_by=\"create_time desc\"\n",
        ")"
      ]
    },
    {
      "cell_type": "markdown",
      "id": "yNZpQxNU-cIi",
      "metadata": {
        "id": "yNZpQxNU-cIi"
      },
      "source": [
        "# (Optional) Get insights into the relationship between your features and customer LTV"
      ]
    },
    {
      "cell_type": "markdown",
      "id": "ZXZUlaZV_Ms9",
      "metadata": {
        "id": "ZXZUlaZV_Ms9"
      },
      "source": [
        "To get insights into how your model is making predictions based on your features using the [What-If Tool](https://pair-code.github.io/what-if-tool/). Check out an [online demo here](https://pair-code.github.io/what-if-tool/demos/age.html)."
      ]
    },
    {
      "cell_type": "code",
      "execution_count": null,
      "id": "0HyVMxQj-jfl",
      "metadata": {
        "id": "0HyVMxQj-jfl"
      },
      "outputs": [],
      "source": [
        "import numpy as np\n",
        "\n",
        "from witwidget.notebook.visualization import WitConfigBuilder\n",
        "from witwidget.notebook.visualization import WitWidget"
      ]
    },
    {
      "cell_type": "code",
      "execution_count": 65,
      "id": "CUK1kcr0-pS7",
      "metadata": {
        "id": "CUK1kcr0-pS7"
      },
      "outputs": [],
      "source": [
        "features_with_predictions = pd.concat([\n",
        "    crystalvalue_predict_data.iloc[:,8:],\n",
        "    predictions[\"predicted_value\"]], axis=1)"
      ]
    },
    {
      "cell_type": "code",
      "execution_count": null,
      "id": "s8hedfxF-qcn",
      "metadata": {
        "id": "s8hedfxF-qcn"
      },
      "outputs": [],
      "source": [
        "config_builder = WitConfigBuilder(\n",
        "    np.array(features_with_predictions[0:1000]).tolist(),\n",
        "    list(features_with_predictions)\n",
        ")\n",
        "WitWidget(config_builder, height=1000)"
      ]
    },
    {
      "cell_type": "markdown",
      "id": "2523ba3a",
      "metadata": {},
      "source": [
        "# Custom Model"
      ]
    },
    {
      "cell_type": "code",
      "execution_count": 14,
      "id": "c12b544a",
      "metadata": {},
      "outputs": [],
      "source": [
        "from custom.config import Config\n",
        "from custom.data import DataLoader\n",
        "from custom.models import ModelFactory\n",
        "from custom.feature_selection import create_feature_selector"
      ]
    },
    {
      "cell_type": "markdown",
      "id": "5a4736eb",
      "metadata": {},
      "source": [
        "## Step 1 - Classification"
      ]
    },
    {
      "cell_type": "code",
      "execution_count": 27,
      "id": "f139316a",
      "metadata": {},
      "outputs": [
        {
          "data": {
            "text/plain": [
              "Config(project_id='pltv-457408', dataset_id='crystalvalue_20250424_123433', table_id='crystalvalue_train_data', target_column='future_value_classification', train_val_test_split_column='predefined_split_column', category_columns=['unique_list_order_index', 'unique_list_shipping_address_reg'], excluded_columns=['customer_id', 'window_date', 'lookback_start', 'lookahead_start', 'lookahead_stop', 'future_value'], n_samples=-1, stratified=False, n_trials=50, timeout=3600, random_state=42, storage_name='sqlite:///optuna_study.db', save_dir='./models', feature_selection=True, min_features=5, max_features=50, feature_selection_method='mutual_info')"
            ]
          },
          "execution_count": 27,
          "metadata": {},
          "output_type": "execute_result"
        }
      ],
      "source": [
        "config = Config.from_yaml()\n",
        "config"
      ]
    },
    {
      "cell_type": "code",
      "execution_count": 31,
      "id": "b985258d",
      "metadata": {},
      "outputs": [
        {
          "name": "stderr",
          "output_type": "stream",
          "text": [
            "/Users/pierre-emmanuel/Documents/freelance/pltv/custom/data.py:101: FutureWarning: read_gbq is deprecated and will be removed in a future version. Please use pandas_gbq.read_gbq instead: https://pandas-gbq.readthedocs.io/en/latest/api.html#pandas_gbq.read_gbq\n",
            "  \n"
          ]
        },
        {
          "name": "stdout",
          "output_type": "stream",
          "text": [
            "Downloading: 100%|\u001b[32m██████████\u001b[0m|\n"
          ]
        }
      ],
      "source": [
        "loader = DataLoader(config=config, gcp_credentials=credentials)\n",
        "X_train, X_val, y_train, y_val = loader.load_training_data()"
      ]
    },
    {
      "cell_type": "code",
      "execution_count": 33,
      "id": "409c345e",
      "metadata": {},
      "outputs": [
        {
          "data": {
            "text/plain": [
              "((20991, 27), (3928, 27), (20991,), (3928,))"
            ]
          },
          "execution_count": 33,
          "metadata": {},
          "output_type": "execute_result"
        }
      ],
      "source": [
        "X_train.shape, X_val.shape, y_train.shape, y_val.shape"
      ]
    },
    {
      "cell_type": "code",
      "execution_count": 32,
      "id": "d9443a7d",
      "metadata": {},
      "outputs": [
        {
          "data": {
            "text/html": [
              "<div>\n",
              "<style scoped>\n",
              "    .dataframe tbody tr th:only-of-type {\n",
              "        vertical-align: middle;\n",
              "    }\n",
              "\n",
              "    .dataframe tbody tr th {\n",
              "        vertical-align: top;\n",
              "    }\n",
              "\n",
              "    .dataframe thead th {\n",
              "        text-align: right;\n",
              "    }\n",
              "</style>\n",
              "<table border=\"1\" class=\"dataframe\">\n",
              "  <thead>\n",
              "    <tr style=\"text-align: right;\">\n",
              "      <th></th>\n",
              "      <th>predefined_split_column</th>\n",
              "      <th>avg_value</th>\n",
              "      <th>avg_value_cat_1</th>\n",
              "      <th>avg_value_cat_2</th>\n",
              "      <th>avg_value_cat_3</th>\n",
              "      <th>avg_value_cat_4</th>\n",
              "      <th>avg_value_cat_5</th>\n",
              "      <th>avg_value_cat_6</th>\n",
              "      <th>avg_value_uncategorized</th>\n",
              "      <th>unique_list_order_index</th>\n",
              "      <th>unique_list_shipping_address_reg</th>\n",
              "      <th>future_value_classification</th>\n",
              "    </tr>\n",
              "  </thead>\n",
              "  <tbody>\n",
              "    <tr>\n",
              "      <th>0</th>\n",
              "      <td>TRAIN</td>\n",
              "      <td>36.12</td>\n",
              "      <td>0.00</td>\n",
              "      <td>0.00</td>\n",
              "      <td>0.00</td>\n",
              "      <td>0.00</td>\n",
              "      <td>0.00</td>\n",
              "      <td>0.00</td>\n",
              "      <td>36.12</td>\n",
              "      <td>2</td>\n",
              "      <td>reg1</td>\n",
              "      <td>1</td>\n",
              "    </tr>\n",
              "    <tr>\n",
              "      <th>1</th>\n",
              "      <td>VALIDATE</td>\n",
              "      <td>70.09</td>\n",
              "      <td>0.00</td>\n",
              "      <td>0.00</td>\n",
              "      <td>8.03</td>\n",
              "      <td>3.99</td>\n",
              "      <td>5.60</td>\n",
              "      <td>0.00</td>\n",
              "      <td>52.47</td>\n",
              "      <td>2</td>\n",
              "      <td>reg11</td>\n",
              "      <td>1</td>\n",
              "    </tr>\n",
              "    <tr>\n",
              "      <th>2</th>\n",
              "      <td>TRAIN</td>\n",
              "      <td>44.16</td>\n",
              "      <td>0.00</td>\n",
              "      <td>0.00</td>\n",
              "      <td>1.57</td>\n",
              "      <td>0.00</td>\n",
              "      <td>2.93</td>\n",
              "      <td>0.00</td>\n",
              "      <td>39.66</td>\n",
              "      <td>1</td>\n",
              "      <td>reg11</td>\n",
              "      <td>1</td>\n",
              "    </tr>\n",
              "    <tr>\n",
              "      <th>3</th>\n",
              "      <td>TRAIN</td>\n",
              "      <td>14.16</td>\n",
              "      <td>3.60</td>\n",
              "      <td>0.00</td>\n",
              "      <td>2.06</td>\n",
              "      <td>0.00</td>\n",
              "      <td>0.00</td>\n",
              "      <td>0.00</td>\n",
              "      <td>8.50</td>\n",
              "      <td>6</td>\n",
              "      <td>reg8</td>\n",
              "      <td>1</td>\n",
              "    </tr>\n",
              "    <tr>\n",
              "      <th>4</th>\n",
              "      <td>VALIDATE</td>\n",
              "      <td>33.95</td>\n",
              "      <td>0.00</td>\n",
              "      <td>0.00</td>\n",
              "      <td>0.00</td>\n",
              "      <td>1.67</td>\n",
              "      <td>5.60</td>\n",
              "      <td>0.00</td>\n",
              "      <td>26.68</td>\n",
              "      <td>3</td>\n",
              "      <td>reg4</td>\n",
              "      <td>1</td>\n",
              "    </tr>\n",
              "    <tr>\n",
              "      <th>...</th>\n",
              "      <td>...</td>\n",
              "      <td>...</td>\n",
              "      <td>...</td>\n",
              "      <td>...</td>\n",
              "      <td>...</td>\n",
              "      <td>...</td>\n",
              "      <td>...</td>\n",
              "      <td>...</td>\n",
              "      <td>...</td>\n",
              "      <td>...</td>\n",
              "      <td>...</td>\n",
              "      <td>...</td>\n",
              "    </tr>\n",
              "    <tr>\n",
              "      <th>24914</th>\n",
              "      <td>TRAIN</td>\n",
              "      <td>135.16</td>\n",
              "      <td>2.24</td>\n",
              "      <td>2.93</td>\n",
              "      <td>52.74</td>\n",
              "      <td>42.54</td>\n",
              "      <td>30.04</td>\n",
              "      <td>4.67</td>\n",
              "      <td>0.00</td>\n",
              "      <td>1</td>\n",
              "      <td>reg1</td>\n",
              "      <td>0</td>\n",
              "    </tr>\n",
              "    <tr>\n",
              "      <th>24915</th>\n",
              "      <td>TRAIN</td>\n",
              "      <td>70.18</td>\n",
              "      <td>1.94</td>\n",
              "      <td>14.18</td>\n",
              "      <td>24.91</td>\n",
              "      <td>29.15</td>\n",
              "      <td>0.00</td>\n",
              "      <td>0.00</td>\n",
              "      <td>0.00</td>\n",
              "      <td>1</td>\n",
              "      <td>reg11</td>\n",
              "      <td>0</td>\n",
              "    </tr>\n",
              "    <tr>\n",
              "      <th>24916</th>\n",
              "      <td>VALIDATE</td>\n",
              "      <td>55.45</td>\n",
              "      <td>0.00</td>\n",
              "      <td>0.00</td>\n",
              "      <td>0.00</td>\n",
              "      <td>15.45</td>\n",
              "      <td>0.00</td>\n",
              "      <td>0.00</td>\n",
              "      <td>40.00</td>\n",
              "      <td>1</td>\n",
              "      <td>reg1</td>\n",
              "      <td>0</td>\n",
              "    </tr>\n",
              "    <tr>\n",
              "      <th>24917</th>\n",
              "      <td>TRAIN</td>\n",
              "      <td>59.48</td>\n",
              "      <td>0.00</td>\n",
              "      <td>5.00</td>\n",
              "      <td>5.26</td>\n",
              "      <td>34.22</td>\n",
              "      <td>0.00</td>\n",
              "      <td>0.00</td>\n",
              "      <td>15.00</td>\n",
              "      <td>1</td>\n",
              "      <td>reg10</td>\n",
              "      <td>0</td>\n",
              "    </tr>\n",
              "    <tr>\n",
              "      <th>24918</th>\n",
              "      <td>TRAIN</td>\n",
              "      <td>93.96</td>\n",
              "      <td>0.00</td>\n",
              "      <td>4.69</td>\n",
              "      <td>17.27</td>\n",
              "      <td>9.33</td>\n",
              "      <td>62.67</td>\n",
              "      <td>0.00</td>\n",
              "      <td>0.00</td>\n",
              "      <td>1</td>\n",
              "      <td>reg8</td>\n",
              "      <td>0</td>\n",
              "    </tr>\n",
              "  </tbody>\n",
              "</table>\n",
              "<p>24919 rows × 12 columns</p>\n",
              "</div>"
            ],
            "text/plain": [
              "      predefined_split_column  avg_value  avg_value_cat_1  avg_value_cat_2  \\\n",
              "0                       TRAIN      36.12             0.00             0.00   \n",
              "1                    VALIDATE      70.09             0.00             0.00   \n",
              "2                       TRAIN      44.16             0.00             0.00   \n",
              "3                       TRAIN      14.16             3.60             0.00   \n",
              "4                    VALIDATE      33.95             0.00             0.00   \n",
              "...                       ...        ...              ...              ...   \n",
              "24914                   TRAIN     135.16             2.24             2.93   \n",
              "24915                   TRAIN      70.18             1.94            14.18   \n",
              "24916                VALIDATE      55.45             0.00             0.00   \n",
              "24917                   TRAIN      59.48             0.00             5.00   \n",
              "24918                   TRAIN      93.96             0.00             4.69   \n",
              "\n",
              "       avg_value_cat_3  avg_value_cat_4  avg_value_cat_5  avg_value_cat_6  \\\n",
              "0                 0.00             0.00             0.00             0.00   \n",
              "1                 8.03             3.99             5.60             0.00   \n",
              "2                 1.57             0.00             2.93             0.00   \n",
              "3                 2.06             0.00             0.00             0.00   \n",
              "4                 0.00             1.67             5.60             0.00   \n",
              "...                ...              ...              ...              ...   \n",
              "24914            52.74            42.54            30.04             4.67   \n",
              "24915            24.91            29.15             0.00             0.00   \n",
              "24916             0.00            15.45             0.00             0.00   \n",
              "24917             5.26            34.22             0.00             0.00   \n",
              "24918            17.27             9.33            62.67             0.00   \n",
              "\n",
              "       avg_value_uncategorized unique_list_order_index  \\\n",
              "0                        36.12                       2   \n",
              "1                        52.47                       2   \n",
              "2                        39.66                       1   \n",
              "3                         8.50                       6   \n",
              "4                        26.68                       3   \n",
              "...                        ...                     ...   \n",
              "24914                     0.00                       1   \n",
              "24915                     0.00                       1   \n",
              "24916                    40.00                       1   \n",
              "24917                    15.00                       1   \n",
              "24918                     0.00                       1   \n",
              "\n",
              "      unique_list_shipping_address_reg  future_value_classification  \n",
              "0                                 reg1                            1  \n",
              "1                                reg11                            1  \n",
              "2                                reg11                            1  \n",
              "3                                 reg8                            1  \n",
              "4                                 reg4                            1  \n",
              "...                                ...                          ...  \n",
              "24914                             reg1                            0  \n",
              "24915                            reg11                            0  \n",
              "24916                             reg1                            0  \n",
              "24917                            reg10                            0  \n",
              "24918                             reg8                            0  \n",
              "\n",
              "[24919 rows x 12 columns]"
            ]
          },
          "execution_count": 32,
          "metadata": {},
          "output_type": "execute_result"
        }
      ],
      "source": [
        "loader.training_data"
      ]
    },
    {
      "cell_type": "code",
      "execution_count": 40,
      "id": "17d83b60",
      "metadata": {},
      "outputs": [],
      "source": [
        "clf_model = ModelFactory.create_model(model_name=\"xgboost_classifier\", config=config)\n",
        "clf_model.fit(X_train, y_train)"
      ]
    },
    {
      "cell_type": "code",
      "execution_count": 41,
      "id": "d88d14aa",
      "metadata": {},
      "outputs": [],
      "source": [
        "y_pred = clf_model.predict(X_val)\n",
        "custom_data = pd.DataFrame({\"predicted_value\": y_pred, \"actual_value\": y_val})"
      ]
    },
    {
      "cell_type": "code",
      "execution_count": 42,
      "id": "9b1975da",
      "metadata": {},
      "outputs": [
        {
          "name": "stdout",
          "output_type": "stream",
          "text": [
            "Accuracy: 0.662\n",
            "Precision: 0.446\n",
            "Recall: 0.139\n",
            "F1 Score: 0.212\n"
          ]
        }
      ],
      "source": [
        "metrics = calculate_classification_metrics(custom_data)\n",
        "\n",
        "for key, value in metrics.items():\n",
        "    print(f\"{key}: {value:.3f}\")"
      ]
    },
    {
      "cell_type": "markdown",
      "id": "62ef04f8",
      "metadata": {},
      "source": [
        "## Step 2 - Regression"
      ]
    },
    {
      "cell_type": "code",
      "execution_count": 43,
      "id": "438d7720",
      "metadata": {},
      "outputs": [],
      "source": [
        "config = Config.from_yaml()"
      ]
    },
    {
      "cell_type": "code",
      "execution_count": 44,
      "id": "1b78837b",
      "metadata": {},
      "outputs": [
        {
          "name": "stderr",
          "output_type": "stream",
          "text": [
            "/Users/pierre-emmanuel/Documents/freelance/pltv/custom/data.py:101: FutureWarning: read_gbq is deprecated and will be removed in a future version. Please use pandas_gbq.read_gbq instead: https://pandas-gbq.readthedocs.io/en/latest/api.html#pandas_gbq.read_gbq\n",
            "  \n"
          ]
        },
        {
          "name": "stdout",
          "output_type": "stream",
          "text": [
            "Downloading: 100%|\u001b[32m██████████\u001b[0m|\n"
          ]
        }
      ],
      "source": [
        "loader = DataLoader(config=config, gcp_credentials=credentials)\n",
        "X_train, X_val, y_train, y_val = loader.load_training_data(only_positive_samples=True)"
      ]
    },
    {
      "cell_type": "code",
      "execution_count": 46,
      "id": "bca44b1e",
      "metadata": {},
      "outputs": [],
      "source": [
        "reg_model = ModelFactory.create_model(model_name=\"linear_regression\", config=config)\n",
        "reg_model.fit(X_train, y_train)"
      ]
    },
    {
      "cell_type": "code",
      "execution_count": 47,
      "id": "b782f30a",
      "metadata": {},
      "outputs": [],
      "source": [
        "y_pred = reg_model.predict(X_val)\n",
        "custom_data = pd.DataFrame({\"predicted_value\": y_pred, \"actual_value\": y_val})\n",
        "custom_data[\"error\"] = custom_data[\"predicted_value\"] - custom_data[\"actual_value\"]"
      ]
    },
    {
      "cell_type": "code",
      "execution_count": 48,
      "id": "01e40777",
      "metadata": {},
      "outputs": [
        {
          "name": "stdout",
          "output_type": "stream",
          "text": [
            "MAE: 98.626\n",
            "MAPE: 1.353\n",
            "RMSE: 171.666\n",
            "R2: 0.107\n"
          ]
        }
      ],
      "source": [
        "metrics = calculate_regression_metrics(custom_data)\n",
        "\n",
        "for key, value in metrics.items():\n",
        "    print(f\"{key}: {value:.3f}\")"
      ]
    },
    {
      "cell_type": "code",
      "execution_count": 49,
      "metadata": {},
      "outputs": [
        {
          "data": {
            "image/png": "[encoded data removed]",
            "text/plain": [
              "<Figure size 1000x600 with 1 Axes>"
            ]
          },
          "metadata": {},
          "output_type": "display_data"
        }
      ],
      "source": [
        "plot_predictions_vs_actual(data=custom_data, max_value=500)"
      ]
    },
    {
      "cell_type": "code",
      "execution_count": 51,
      "id": "c1f71ef3",
      "metadata": {},
      "outputs": [
        {
          "data": {
            "image/png": "[encoded data removed]",
            "text/plain": [
              "<Figure size 640x480 with 1 Axes>"
            ]
          },
          "metadata": {},
          "output_type": "display_data"
        }
      ],
      "source": [
        "sns.histplot(data=custom_data, x=\"error\", bins=30); "
      ]
    },
    {
      "cell_type": "markdown",
      "id": "R7RczTD6S1_O",
      "metadata": {
        "id": "R7RczTD6S1_O"
      },
      "source": [
        "# Clean Up"
      ]
    },
    {
      "cell_type": "markdown",
      "id": "6FyiJ93rTWhW",
      "metadata": {
        "id": "6FyiJ93rTWhW"
      },
      "source": [
        "To clean up tables created during this demo, delete the BigQuery tables that were created. All Vertex AI resources can be removed from the [Vertex AI console](https://console.cloud.google.com/vertex-ai). If you set up a Vertex Pipeline then also remove any relevant resources from [Cloud Storage](https://console.cloud.google.com/storage) and [Container Registry](https://console.cloud.google.com//gcr/images/). "
      ]
    },
    {
      "cell_type": "code",
      "execution_count": null,
      "id": "1wQI6E8US3Hc",
      "metadata": {
        "id": "1wQI6E8US3Hc"
      },
      "outputs": [],
      "source": [
        "pipeline.delete_table(\"crystalvalue_data_statistics\")\n",
        "pipeline.delete_table(\"crystalvalue_evaluation\")\n",
        "pipeline.delete_table(\"crystalvalue_train_data\")\n",
        "pipeline.delete_table(\"crystalvalue_predict_data\")\n",
        "pipeline.delete_table(\"crystalvalue_predictions\")"
      ]
    }
  ],
  "metadata": {
    "colab": {
      "collapsed_sections": [],
      "last_runtime": {
        "build_target": "//corp/gtech/ads/infrastructure/colab_utils/ds_runtime:ds_colab",
        "kind": "private"
      },
      "name": "demo_with_real_data_notebook.ipynb",
      "private_outputs": true,
      "provenance": [
        {
          "file_id": "/piper/depot/google3/third_party/professional_services/solutions/crystalvalue/crystalvalue_demo_notebook.ipynb?workspaceId=sumedhamenon:CrystalValue::citc",
          "timestamp": 1627656627042
        },
        {
          "file_id": "/piper/depot/google3/third_party/professional_services/solutions/crystalvalue/crystalvalue_demo_notebook.ipynb?workspaceId=sumedhamenon:CrystalValue::citc",
          "timestamp": 1627656460877
        },
        {
          "file_id": "/piper/depot/google3/experimental/gtech_prem_data_science/projects/trac/treatwell/Crystal_Value_Demo_Notebook.ipynb?workspaceId=sumedhamenon:CrystalValue::citc",
          "timestamp": 1627648785641
        },
        {
          "file_id": "1JGQRDc1_luQsaMxx9ZZavddHBrgO7Xst",
          "timestamp": 1627648471137
        }
      ]
    },
    "environment": {
      "name": "common-cpu.mnightly-2021-01-05-debian-10-test",
      "type": "gcloud",
      "uri": "gcr.io/deeplearning-platform-release/base-cpu:mnightly-2021-01-05-debian-10-test"
    },
    "kernelspec": {
      "display_name": "venv",
      "language": "python",
      "name": "python3"
    },
    "language_info": {
      "codemirror_mode": {
        "name": "ipython",
        "version": 3
      },
      "file_extension": ".py",
      "mimetype": "text/x-python",
      "name": "python",
      "nbconvert_exporter": "python",
      "pygments_lexer": "ipython3",
      "version": "3.9.6"
    }
  },
  "nbformat": 4,
  "nbformat_minor": 5
}
