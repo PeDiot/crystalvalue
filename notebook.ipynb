{
  "cells": [
    {
      "cell_type": "markdown",
      "id": "iTsKaxLPY37t",
      "metadata": {
        "id": "iTsKaxLPY37t"
      },
      "source": [
        "# Crystalvalue Demo: Predictive Customer LifeTime Value for a Retail Store\n",
        "\n",
        "Crystalvalue is a best practice comprehensive solution for running predictive LTV solutions leveraging Google Cloud Vertex AI. \n",
        "\n",
        "This demo runs the Crystalvalue python library in a notebook, from feature engineering to scheduling predictions. It uses the [Online Retail II data set from Kaggle](https://www.kaggle.com/mashlyn/online-retail-ii-uci) which contains transactions for a UK retail store between 2009 and 2011. Enable the [Vertex API](https://console.cloud.google.com/flows/enableapi?apiid=aiplatform.googleapis.com,storage-component.googleapis.com) for this demo to run.\n",
        "\n",
        "This notebook assumes that it is being run from within a [Google Cloud Platform AI Notebook](https://console.cloud.google.com/vertex-ai/notebooks/list/instances) with a Compute Engine default service account (the default setting when an AI Notebook is created) and TensorFlow backend. Ensure that the [Compute Engine default service account API](https://console.cloud.google.com/flows/enableapi?apiid=compute.googleapis.com) is enabled. When running it on your own data, we recommend [setting up your own service account](https://cloud.google.com/vertex-ai/docs/pipelines/configure-project).\n",
        "\n",
        "If you would like to share feedback about Crystalvalue, please email crystalvalue@google.com."
      ]
    },
    {
      "cell_type": "markdown",
      "id": "1_M6mv5_Al18",
      "metadata": {
        "id": "1_M6mv5_Al18"
      },
      "source": [
        "# Clone the Crystalvalue codebase"
      ]
    },
    {
      "cell_type": "markdown",
      "id": "hnySWWD2DbJ8",
      "metadata": {
        "id": "hnySWWD2DbJ8"
      },
      "source": [
        "Start by cloning the Crystalvalue codebase and running a demo notebook from the root directory. To run Crystalvalue on your own data, simply change the parameters to it works on your data."
      ]
    },
    {
      "cell_type": "markdown",
      "id": "a6QSkrxSFsCB",
      "metadata": {
        "id": "a6QSkrxSFsCB"
      },
      "source": [
        "```git clone https://github.com/google/crystalvalue```"
      ]
    },
    {
      "cell_type": "markdown",
      "id": "ef1faf60",
      "metadata": {},
      "source": [
        "# Imports"
      ]
    },
    {
      "cell_type": "code",
      "execution_count": 1,
      "id": "433f7e0d",
      "metadata": {},
      "outputs": [],
      "source": [
        "%load_ext autoreload\n",
        "%autoreload 2"
      ]
    },
    {
      "cell_type": "code",
      "execution_count": 2,
      "id": "0783cc9e",
      "metadata": {},
      "outputs": [],
      "source": [
        "from src import crystalvalue"
      ]
    },
    {
      "cell_type": "code",
      "execution_count": 3,
      "id": "672173f7",
      "metadata": {},
      "outputs": [],
      "source": [
        "import pandas as pd\n",
        "pd.set_option(\"display.max_columns\", None)\n",
        "\n",
        "import matplotlib.pyplot as plt\n",
        "import seaborn as sns"
      ]
    },
    {
      "cell_type": "code",
      "execution_count": 37,
      "id": "7508534c",
      "metadata": {},
      "outputs": [],
      "source": [
        "CREDENTIALS_PATH = \"secrets/gcp_credentials.json\"\n",
        "DATA_PATH = \"data/cleaned.csv\"\n",
        "PARAMETERS_FILENAME = \"data/crystalvalue_parameters.json\"\n",
        "\n",
        "GCP_PROJECT_ID = \"pltv-457408\"\n",
        "GCP_LOCATION = \"europe-west4\"\n",
        "GCP_DATASET_ID = \"crystalvalue\"\n",
        "GCP_TABLE_ID = \"data\"\n",
        "\n",
        "CUSTOMER_ID_COLUMN = \"customer_id\"\n",
        "DATE_COLUMN = \"date\"\n",
        "VALUE_COLUMN = \"value\"\n",
        "IGNORE_COLUMNS = [\"order_number\", \"days_to_next_order\"]\n",
        "# we ignore days_to_next_order because it is calculated by crystalvalue\n",
        "\n",
        "LOOKBACK_DAYS = 0\n",
        "LOOKAHEAD_DAYS = 365"
      ]
    },
    {
      "cell_type": "code",
      "execution_count": 6,
      "id": "f7e6e73c",
      "metadata": {},
      "outputs": [],
      "source": [
        "from google.oauth2 import service_account\n",
        "from google.cloud import bigquery\n",
        "\n",
        "credentials = service_account.Credentials.from_service_account_file(\n",
        "    filename=CREDENTIALS_PATH\n",
        ")\n",
        "\n",
        "bq_client = bigquery.Client(credentials=credentials) "
      ]
    },
    {
      "cell_type": "markdown",
      "id": "69c2677a",
      "metadata": {},
      "source": [
        "# Load & preprocess data\n",
        "\n",
        "- Replace NaNs with 0 for value-related columns\n",
        "\n",
        "- Encode `order_index` as string\n",
        "\n",
        "- Create `value` target column as sum of `value_cat1`, ..., `value_uncategorized`\n",
        "\n",
        "- Train/Test split: remove customers whose first purchase is in 03/24 for the test dataset"
      ]
    },
    {
      "cell_type": "code",
      "execution_count": 49,
      "id": "2a8daf94",
      "metadata": {},
      "outputs": [
        {
          "data": {
            "text/html": [
              "<div>\n",
              "<style scoped>\n",
              "    .dataframe tbody tr th:only-of-type {\n",
              "        vertical-align: middle;\n",
              "    }\n",
              "\n",
              "    .dataframe tbody tr th {\n",
              "        vertical-align: top;\n",
              "    }\n",
              "\n",
              "    .dataframe thead th {\n",
              "        text-align: right;\n",
              "    }\n",
              "</style>\n",
              "<table border=\"1\" class=\"dataframe\">\n",
              "  <thead>\n",
              "    <tr style=\"text-align: right;\">\n",
              "      <th></th>\n",
              "      <th>customer_id</th>\n",
              "      <th>date</th>\n",
              "      <th>order_number</th>\n",
              "      <th>shipping_address_zip</th>\n",
              "      <th>value</th>\n",
              "      <th>value_cat1</th>\n",
              "      <th>value_cat2</th>\n",
              "      <th>value_cat3</th>\n",
              "      <th>value_cat4</th>\n",
              "      <th>value_cat5</th>\n",
              "      <th>value_cat6</th>\n",
              "      <th>value_uncategorized</th>\n",
              "      <th>order_index</th>\n",
              "      <th>days_to_next_order</th>\n",
              "    </tr>\n",
              "  </thead>\n",
              "  <tbody>\n",
              "    <tr>\n",
              "      <th>0</th>\n",
              "      <td>328</td>\n",
              "      <td>2022-06-01</td>\n",
              "      <td>761</td>\n",
              "      <td>93320</td>\n",
              "      <td>48.23</td>\n",
              "      <td>NaN</td>\n",
              "      <td>1.65</td>\n",
              "      <td>2.34</td>\n",
              "      <td>NaN</td>\n",
              "      <td>NaN</td>\n",
              "      <td>NaN</td>\n",
              "      <td>44.24</td>\n",
              "      <td>4</td>\n",
              "      <td>40.0</td>\n",
              "    </tr>\n",
              "    <tr>\n",
              "      <th>1</th>\n",
              "      <td>552</td>\n",
              "      <td>2022-06-01</td>\n",
              "      <td>762</td>\n",
              "      <td>17100</td>\n",
              "      <td>55.91</td>\n",
              "      <td>1.37</td>\n",
              "      <td>NaN</td>\n",
              "      <td>5.01</td>\n",
              "      <td>5.24</td>\n",
              "      <td>NaN</td>\n",
              "      <td>NaN</td>\n",
              "      <td>44.29</td>\n",
              "      <td>1</td>\n",
              "      <td>84.0</td>\n",
              "    </tr>\n",
              "    <tr>\n",
              "      <th>2</th>\n",
              "      <td>487</td>\n",
              "      <td>2022-06-01</td>\n",
              "      <td>763</td>\n",
              "      <td>7320</td>\n",
              "      <td>36.12</td>\n",
              "      <td>NaN</td>\n",
              "      <td>NaN</td>\n",
              "      <td>NaN</td>\n",
              "      <td>NaN</td>\n",
              "      <td>NaN</td>\n",
              "      <td>NaN</td>\n",
              "      <td>36.12</td>\n",
              "      <td>2</td>\n",
              "      <td>334.0</td>\n",
              "    </tr>\n",
              "    <tr>\n",
              "      <th>3</th>\n",
              "      <td>553</td>\n",
              "      <td>2022-06-01</td>\n",
              "      <td>764</td>\n",
              "      <td>13360</td>\n",
              "      <td>11.08</td>\n",
              "      <td>NaN</td>\n",
              "      <td>NaN</td>\n",
              "      <td>2.33</td>\n",
              "      <td>NaN</td>\n",
              "      <td>NaN</td>\n",
              "      <td>NaN</td>\n",
              "      <td>8.75</td>\n",
              "      <td>1</td>\n",
              "      <td>NaN</td>\n",
              "    </tr>\n",
              "    <tr>\n",
              "      <th>4</th>\n",
              "      <td>277</td>\n",
              "      <td>2022-06-01</td>\n",
              "      <td>765</td>\n",
              "      <td>45000</td>\n",
              "      <td>33.95</td>\n",
              "      <td>NaN</td>\n",
              "      <td>NaN</td>\n",
              "      <td>NaN</td>\n",
              "      <td>1.67</td>\n",
              "      <td>5.6</td>\n",
              "      <td>NaN</td>\n",
              "      <td>26.68</td>\n",
              "      <td>3</td>\n",
              "      <td>23.0</td>\n",
              "    </tr>\n",
              "  </tbody>\n",
              "</table>\n",
              "</div>"
            ],
            "text/plain": [
              "   customer_id        date  order_number shipping_address_zip  value  \\\n",
              "0          328  2022-06-01           761                93320  48.23   \n",
              "1          552  2022-06-01           762                17100  55.91   \n",
              "2          487  2022-06-01           763                 7320  36.12   \n",
              "3          553  2022-06-01           764                13360  11.08   \n",
              "4          277  2022-06-01           765                45000  33.95   \n",
              "\n",
              "   value_cat1  value_cat2  value_cat3  value_cat4  value_cat5  value_cat6  \\\n",
              "0         NaN        1.65        2.34         NaN         NaN         NaN   \n",
              "1        1.37         NaN        5.01        5.24         NaN         NaN   \n",
              "2         NaN         NaN         NaN         NaN         NaN         NaN   \n",
              "3         NaN         NaN        2.33         NaN         NaN         NaN   \n",
              "4         NaN         NaN         NaN        1.67         5.6         NaN   \n",
              "\n",
              "   value_uncategorized  order_index  days_to_next_order  \n",
              "0                44.24            4                40.0  \n",
              "1                44.29            1                84.0  \n",
              "2                36.12            2               334.0  \n",
              "3                 8.75            1                 NaN  \n",
              "4                26.68            3                23.0  "
            ]
          },
          "execution_count": 49,
          "metadata": {},
          "output_type": "execute_result"
        }
      ],
      "source": [
        "# Read the data and rename the columns to be BiqQuery friendly (no spaces).\n",
        "data = pd.read_csv(DATA_PATH)\n",
        "\n",
        "n, p = data.shape\n",
        "data.head()"
      ]
    },
    {
      "cell_type": "code",
      "execution_count": 50,
      "id": "da2e2610",
      "metadata": {},
      "outputs": [
        {
          "name": "stdout",
          "output_type": "stream",
          "text": [
            "186 rows removed\n"
          ]
        },
        {
          "name": "stderr",
          "output_type": "stream",
          "text": [
            "/var/folders/xm/1rh109312dq4h3d2zvqwmj9h0000gp/T/ipykernel_66900/3606609018.py:2: DeprecationWarning: DataFrameGroupBy.apply operated on the grouping columns. This behavior is deprecated, and in a future version of pandas the grouping columns will be excluded from the operation. Either pass `include_groups=False` to exclude the groupings or explicitly select the grouping columns after groupby to silence this warning.\n",
            "  data = data.groupby([\"customer_id\", \"date\"]).apply(lambda x: x.loc[x.order_number.idxmin()])\n"
          ]
        }
      ],
      "source": [
        "# select one row per day for each customer\n",
        "data = data.groupby([\"customer_id\", \"date\"]).apply(lambda x: x.loc[x.order_number.idxmin()])\n",
        "data.reset_index(drop=True, inplace=True)\n",
        "\n",
        "print(f\"{n - data.shape[0]} rows removed\")"
      ]
    },
    {
      "cell_type": "code",
      "execution_count": 51,
      "id": "a3b9001a",
      "metadata": {},
      "outputs": [],
      "source": [
        "value_cols = [f\"value_cat{i}\" for i in range(1, 7)]\n",
        "value_cols.append(\"value_uncategorized\")\n",
        "\n",
        "# replace na with 0 since na means category product is not ordered\n",
        "data[value_cols] = data[value_cols].fillna(0)\n",
        "\n",
        "# create value column as sum of per category value\n",
        "data[\"value\"] = data[value_cols].sum(axis=1)"
      ]
    },
    {
      "cell_type": "code",
      "execution_count": 52,
      "id": "8dfd12f5",
      "metadata": {},
      "outputs": [],
      "source": [
        "# convert order_index and shipping_address_zip to category\n",
        "data[\"order_index\"] = data[\"order_index\"].astype(\"string\")\n",
        "data[\"shipping_address_zip\"] = data[\"shipping_address_zip\"].astype(\"string\")"
      ]
    },
    {
      "cell_type": "code",
      "execution_count": 53,
      "id": "1788c042",
      "metadata": {},
      "outputs": [],
      "source": [
        "data.sort_values(by=[\"customer_id\", \"date\"], ascending=[True, True], inplace=True)\n",
        "data.reset_index(drop=True, inplace=True)"
      ]
    },
    {
      "cell_type": "code",
      "execution_count": 54,
      "id": "e83803de",
      "metadata": {},
      "outputs": [
        {
          "data": {
            "text/html": [
              "<div>\n",
              "<style scoped>\n",
              "    .dataframe tbody tr th:only-of-type {\n",
              "        vertical-align: middle;\n",
              "    }\n",
              "\n",
              "    .dataframe tbody tr th {\n",
              "        vertical-align: top;\n",
              "    }\n",
              "\n",
              "    .dataframe thead th {\n",
              "        text-align: right;\n",
              "    }\n",
              "</style>\n",
              "<table border=\"1\" class=\"dataframe\">\n",
              "  <thead>\n",
              "    <tr style=\"text-align: right;\">\n",
              "      <th></th>\n",
              "      <th>customer_id</th>\n",
              "      <th>date</th>\n",
              "      <th>order_number</th>\n",
              "      <th>shipping_address_zip</th>\n",
              "      <th>value</th>\n",
              "      <th>value_cat1</th>\n",
              "      <th>value_cat2</th>\n",
              "      <th>value_cat3</th>\n",
              "      <th>value_cat4</th>\n",
              "      <th>value_cat5</th>\n",
              "      <th>value_cat6</th>\n",
              "      <th>value_uncategorized</th>\n",
              "      <th>order_index</th>\n",
              "      <th>days_to_next_order</th>\n",
              "    </tr>\n",
              "  </thead>\n",
              "  <tbody>\n",
              "    <tr>\n",
              "      <th>0</th>\n",
              "      <td>3</td>\n",
              "      <td>2023-06-06</td>\n",
              "      <td>10633</td>\n",
              "      <td>93400</td>\n",
              "      <td>47.12</td>\n",
              "      <td>0.0</td>\n",
              "      <td>47.12</td>\n",
              "      <td>0.00</td>\n",
              "      <td>0.00</td>\n",
              "      <td>0.0</td>\n",
              "      <td>0.0</td>\n",
              "      <td>0.00</td>\n",
              "      <td>5</td>\n",
              "      <td>NaN</td>\n",
              "    </tr>\n",
              "    <tr>\n",
              "      <th>1</th>\n",
              "      <td>5</td>\n",
              "      <td>2023-03-29</td>\n",
              "      <td>8290</td>\n",
              "      <td>34080</td>\n",
              "      <td>40.04</td>\n",
              "      <td>0.0</td>\n",
              "      <td>5.40</td>\n",
              "      <td>9.35</td>\n",
              "      <td>25.29</td>\n",
              "      <td>0.0</td>\n",
              "      <td>0.0</td>\n",
              "      <td>0.00</td>\n",
              "      <td>3</td>\n",
              "      <td>46.0</td>\n",
              "    </tr>\n",
              "    <tr>\n",
              "      <th>2</th>\n",
              "      <td>5</td>\n",
              "      <td>2023-05-14</td>\n",
              "      <td>9841</td>\n",
              "      <td>34080</td>\n",
              "      <td>44.62</td>\n",
              "      <td>0.0</td>\n",
              "      <td>0.00</td>\n",
              "      <td>3.21</td>\n",
              "      <td>41.41</td>\n",
              "      <td>0.0</td>\n",
              "      <td>0.0</td>\n",
              "      <td>0.00</td>\n",
              "      <td>4</td>\n",
              "      <td>NaN</td>\n",
              "    </tr>\n",
              "    <tr>\n",
              "      <th>3</th>\n",
              "      <td>6</td>\n",
              "      <td>2022-07-27</td>\n",
              "      <td>1691</td>\n",
              "      <td>87400</td>\n",
              "      <td>32.64</td>\n",
              "      <td>0.0</td>\n",
              "      <td>0.00</td>\n",
              "      <td>8.75</td>\n",
              "      <td>0.00</td>\n",
              "      <td>0.0</td>\n",
              "      <td>0.0</td>\n",
              "      <td>23.89</td>\n",
              "      <td>4</td>\n",
              "      <td>0.0</td>\n",
              "    </tr>\n",
              "    <tr>\n",
              "      <th>4</th>\n",
              "      <td>6</td>\n",
              "      <td>2022-09-15</td>\n",
              "      <td>2284</td>\n",
              "      <td>87400</td>\n",
              "      <td>36.12</td>\n",
              "      <td>0.0</td>\n",
              "      <td>0.00</td>\n",
              "      <td>0.00</td>\n",
              "      <td>0.00</td>\n",
              "      <td>0.0</td>\n",
              "      <td>0.0</td>\n",
              "      <td>36.12</td>\n",
              "      <td>6</td>\n",
              "      <td>16.0</td>\n",
              "    </tr>\n",
              "  </tbody>\n",
              "</table>\n",
              "</div>"
            ],
            "text/plain": [
              "   customer_id        date  order_number shipping_address_zip  value  \\\n",
              "0            3  2023-06-06         10633                93400  47.12   \n",
              "1            5  2023-03-29          8290                34080  40.04   \n",
              "2            5  2023-05-14          9841                34080  44.62   \n",
              "3            6  2022-07-27          1691                87400  32.64   \n",
              "4            6  2022-09-15          2284                87400  36.12   \n",
              "\n",
              "   value_cat1  value_cat2  value_cat3  value_cat4  value_cat5  value_cat6  \\\n",
              "0         0.0       47.12        0.00        0.00         0.0         0.0   \n",
              "1         0.0        5.40        9.35       25.29         0.0         0.0   \n",
              "2         0.0        0.00        3.21       41.41         0.0         0.0   \n",
              "3         0.0        0.00        8.75        0.00         0.0         0.0   \n",
              "4         0.0        0.00        0.00        0.00         0.0         0.0   \n",
              "\n",
              "   value_uncategorized order_index  days_to_next_order  \n",
              "0                 0.00           5                 NaN  \n",
              "1                 0.00           3                46.0  \n",
              "2                 0.00           4                 NaN  \n",
              "3                23.89           4                 0.0  \n",
              "4                36.12           6                16.0  "
            ]
          },
          "execution_count": 54,
          "metadata": {},
          "output_type": "execute_result"
        }
      ],
      "source": [
        "data.head()"
      ]
    },
    {
      "cell_type": "code",
      "execution_count": 55,
      "id": "eeb4512b",
      "metadata": {},
      "outputs": [
        {
          "name": "stdout",
          "output_type": "stream",
          "text": [
            "<class 'pandas.core.frame.DataFrame'>\n",
            "RangeIndex: 53319 entries, 0 to 53318\n",
            "Data columns (total 14 columns):\n",
            " #   Column                Non-Null Count  Dtype  \n",
            "---  ------                --------------  -----  \n",
            " 0   customer_id           53319 non-null  int64  \n",
            " 1   date                  53319 non-null  object \n",
            " 2   order_number          53319 non-null  int64  \n",
            " 3   shipping_address_zip  53042 non-null  string \n",
            " 4   value                 53319 non-null  float64\n",
            " 5   value_cat1            53319 non-null  float64\n",
            " 6   value_cat2            53319 non-null  float64\n",
            " 7   value_cat3            53319 non-null  float64\n",
            " 8   value_cat4            53319 non-null  float64\n",
            " 9   value_cat5            53319 non-null  float64\n",
            " 10  value_cat6            53319 non-null  float64\n",
            " 11  value_uncategorized   53319 non-null  float64\n",
            " 12  order_index           53319 non-null  string \n",
            " 13  days_to_next_order    27457 non-null  float64\n",
            "dtypes: float64(9), int64(2), object(1), string(2)\n",
            "memory usage: 5.7+ MB\n"
          ]
        }
      ],
      "source": [
        "data.info()"
      ]
    },
    {
      "cell_type": "markdown",
      "id": "1O4OhKV5Y37u",
      "metadata": {
        "id": "1O4OhKV5Y37u"
      },
      "source": [
        "# Initializing Crystalvalue"
      ]
    },
    {
      "cell_type": "markdown",
      "id": "XMYviqrPHbKD",
      "metadata": {
        "id": "XMYviqrPHbKD"
      },
      "source": [
        "First create a dataset in [Bigquery](https://console.cloud.google.com/bigquery) that will be used for this analysis if you don\"t already have one. The dataset location should be in a [location that Vertex AI services are available](https://cloud.google.com/vertex-ai/docs/general/locations#available_regions). "
      ]
    },
    {
      "cell_type": "code",
      "execution_count": 56,
      "id": "gCVphBgXY37w",
      "metadata": {
        "id": "gCVphBgXY37w"
      },
      "outputs": [
        {
          "name": "stderr",
          "output_type": "stream",
          "text": [
            "INFO:absl:Using Google Cloud Project: 'pltv-457408'\n",
            "INFO:absl:Using dataset_id: 'crystalvalue'\n",
            "INFO:absl:Using Google Cloud location: 'europe-west4'\n",
            "INFO:absl:Using customer id column in input table: 'customer_id'\n",
            "INFO:absl:Using date column in input table: 'date'\n",
            "INFO:absl:Using value column in input table: 'value'\n",
            "INFO:absl:Using days_lookback for feature calculation: 0\n",
            "INFO:absl:Using days_lookahead for value prediction: 365\n",
            "INFO:absl:Using trigger_event_date_column for value prediction: None\n",
            "INFO:absl:Parameters writen to file: 'data/crystalvalue_parameters.json'\n"
          ]
        }
      ],
      "source": [
        "pipeline = crystalvalue.CrystalValue(\n",
        "  project_id=GCP_PROJECT_ID,  # The GCP project id.\n",
        "  dataset_id=GCP_DATASET_ID,  # The name of the pre-created dataset to work in. \n",
        "  credentials=credentials,  # The (optional) credentials to authenticate Bigquery and AIPlatform clients.\n",
        "  customer_id_column=CUSTOMER_ID_COLUMN,  # The customer ID column.\n",
        "  date_column=DATE_COLUMN,  # The transaction date column.\n",
        "  value_column=VALUE_COLUMN,  #  Column to use for LTV calculation (i.e. profit or revenue).\n",
        "  days_lookback=LOOKBACK_DAYS,  #  How many days in the past to use for feature engineering.\n",
        "  days_lookahead=LOOKAHEAD_DAYS,  #  How many days in the future to use for value prediction.\n",
        "  ignore_columns=IGNORE_COLUMNS,  #  A list of columns in your input table to ignore.\n",
        "  location=GCP_LOCATION,  # This is the location of your dataset in Bigquery.\n",
        "  write_parameters=True,  #  Write parameters to local file so they can be retrieved for prediction.\n",
        "  parameters_filename=PARAMETERS_FILENAME\n",
        ")  "
      ]
    },
    {
      "cell_type": "code",
      "execution_count": 57,
      "id": "0qlNEnCjcL9f",
      "metadata": {
        "id": "0qlNEnCjcL9f"
      },
      "outputs": [],
      "source": [
        "pipeline.load_dataframe_to_bigquery(data=data, bq_table_name=GCP_TABLE_ID)"
      ]
    },
    {
      "cell_type": "markdown",
      "id": "FHC77gHNcRDP",
      "metadata": {
        "id": "FHC77gHNcRDP"
      },
      "source": [
        "# Data Checks (Optional)"
      ]
    },
    {
      "cell_type": "markdown",
      "id": "xIfjG7zNcVtx",
      "metadata": {
        "id": "xIfjG7zNcVtx"
      },
      "source": [
        "CrystalValue will run some checks on your data to check if the data is suitable for LTV modelling and raise errors if not. This will also output a new BigQuery table in your dataset called `crystalvalue_data_statistics` with key information such as the number of customers, customer return rate, transactions and analysis time period. This information can be used to check for outliers or anomalies (e.g. negative prices). "
      ]
    },
    {
      "cell_type": "code",
      "execution_count": 58,
      "id": "CTiZxBvrcSeV",
      "metadata": {
        "id": "CTiZxBvrcSeV"
      },
      "outputs": [
        {
          "name": "stderr",
          "output_type": "stream",
          "text": [
            "/Users/pierre-emmanuel/Documents/freelance/pltv/venv/lib/python3.9/site-packages/google/cloud/bigquery/table.py:1933: UserWarning: BigQuery Storage module not found, fetch data with the REST endpoint instead.\n",
            "  warnings.warn(\n",
            "INFO:root:Creating table 'pltv-457408.crystalvalue.crystalvalue_data_statistics' in location 'europe-west4'\n"
          ]
        }
      ],
      "source": [
        "summary_statistics = pipeline.run_data_checks(transaction_table_name=GCP_TABLE_ID)"
      ]
    },
    {
      "cell_type": "code",
      "execution_count": 59,
      "id": "e4f524c8",
      "metadata": {},
      "outputs": [
        {
          "data": {
            "text/html": [
              "<div>\n",
              "<style scoped>\n",
              "    .dataframe tbody tr th:only-of-type {\n",
              "        vertical-align: middle;\n",
              "    }\n",
              "\n",
              "    .dataframe tbody tr th {\n",
              "        vertical-align: top;\n",
              "    }\n",
              "\n",
              "    .dataframe thead th {\n",
              "        text-align: right;\n",
              "    }\n",
              "</style>\n",
              "<table border=\"1\" class=\"dataframe\">\n",
              "  <thead>\n",
              "    <tr style=\"text-align: right;\">\n",
              "      <th></th>\n",
              "      <th>number_of_rows</th>\n",
              "      <th>number_of_customers</th>\n",
              "      <th>number_of_transactions</th>\n",
              "      <th>total_analysis_days</th>\n",
              "      <th>number_of_days_with_data</th>\n",
              "      <th>max_transaction_date</th>\n",
              "      <th>min_transaction_date</th>\n",
              "      <th>lookahead_customer_return_rate</th>\n",
              "      <th>lookahead_customer_mean_returns</th>\n",
              "      <th>lookahead_customer_conditional_mean_returns</th>\n",
              "      <th>value_mean</th>\n",
              "      <th>value_std</th>\n",
              "      <th>value_min</th>\n",
              "      <th>value_25_quantile</th>\n",
              "      <th>value_50_quantile</th>\n",
              "      <th>value_75_quantile</th>\n",
              "      <th>value_max</th>\n",
              "      <th>transactions_per_customer_mean</th>\n",
              "      <th>transactions_per_customer_std</th>\n",
              "      <th>transactions_per_customer_min</th>\n",
              "      <th>transactions_per_customer_25_quantile</th>\n",
              "      <th>transactions_per_customer_50_quantile</th>\n",
              "      <th>transactions_per_customer_75_quantile</th>\n",
              "      <th>transactions_per_customer_max</th>\n",
              "    </tr>\n",
              "  </thead>\n",
              "  <tbody>\n",
              "    <tr>\n",
              "      <th>statistics</th>\n",
              "      <td>53319</td>\n",
              "      <td>25913</td>\n",
              "      <td>53319</td>\n",
              "      <td>1049</td>\n",
              "      <td>1050</td>\n",
              "      <td>2025-04-15</td>\n",
              "      <td>2022-06-01</td>\n",
              "      <td>0.55</td>\n",
              "      <td>2.37</td>\n",
              "      <td>4.28</td>\n",
              "      <td>49.84</td>\n",
              "      <td>33.0</td>\n",
              "      <td>0.39</td>\n",
              "      <td>39.11</td>\n",
              "      <td>42.64</td>\n",
              "      <td>60.92</td>\n",
              "      <td>2684.79</td>\n",
              "      <td>2.06</td>\n",
              "      <td>2.72</td>\n",
              "      <td>1.0</td>\n",
              "      <td>1.0</td>\n",
              "      <td>1.0</td>\n",
              "      <td>2.0</td>\n",
              "      <td>49.0</td>\n",
              "    </tr>\n",
              "  </tbody>\n",
              "</table>\n",
              "</div>"
            ],
            "text/plain": [
              "           number_of_rows number_of_customers number_of_transactions  \\\n",
              "statistics          53319               25913                  53319   \n",
              "\n",
              "           total_analysis_days number_of_days_with_data max_transaction_date  \\\n",
              "statistics                1049                     1050           2025-04-15   \n",
              "\n",
              "           min_transaction_date lookahead_customer_return_rate  \\\n",
              "statistics           2022-06-01                           0.55   \n",
              "\n",
              "           lookahead_customer_mean_returns  \\\n",
              "statistics                            2.37   \n",
              "\n",
              "           lookahead_customer_conditional_mean_returns value_mean value_std  \\\n",
              "statistics                                        4.28      49.84      33.0   \n",
              "\n",
              "           value_min value_25_quantile value_50_quantile value_75_quantile  \\\n",
              "statistics      0.39             39.11             42.64             60.92   \n",
              "\n",
              "           value_max transactions_per_customer_mean  \\\n",
              "statistics   2684.79                           2.06   \n",
              "\n",
              "           transactions_per_customer_std transactions_per_customer_min  \\\n",
              "statistics                          2.72                           1.0   \n",
              "\n",
              "           transactions_per_customer_25_quantile  \\\n",
              "statistics                                   1.0   \n",
              "\n",
              "           transactions_per_customer_50_quantile  \\\n",
              "statistics                                   1.0   \n",
              "\n",
              "           transactions_per_customer_75_quantile transactions_per_customer_max  \n",
              "statistics                                   2.0                          49.0  "
            ]
          },
          "execution_count": 59,
          "metadata": {},
          "output_type": "execute_result"
        }
      ],
      "source": [
        "summary_statistics"
      ]
    },
    {
      "cell_type": "markdown",
      "id": "afd6f4f0",
      "metadata": {},
      "source": [
        "- `lookahead_customer_return_rate`\n",
        "    - **taux de retour (oui/non)**\n",
        "    - proportion de clients qui ont **au moins une tx future** dans la fenêtre de `days_lookahead`\n",
        "    - mesure de récurrence\n",
        "\n",
        "- `lookahead_customer_mean_returns`\n",
        "    - **jours moyens d’activité future (tous clients)**\n",
        "    - nombre moyen de **jours avec une tx** dans la fenêtre de `lookahead`, par tx\n",
        "    - **combien de jours** sont “actifs” dans la période `lookahead` après chaque tx\n",
        "\n",
        "- `lookahead_customer_conditional_mean_returns`\n",
        "    - **jours moyens d’activité chez ceux qui reviennent**\n",
        "    - moyenne du nombre de jours avec transaction, uniquement chez ceux qui reviennent au moins une fois"
      ]
    },
    {
      "cell_type": "markdown",
      "id": "emCUVYhLFnla",
      "metadata": {
        "id": "emCUVYhLFnla"
      },
      "source": [
        "If a custom data cleaning routine has to be implemented use the `.run_query()` method. The example below removes transactions with negative prices. This method could also be used to run custom feature engineering scripts instead of the automated `.feature_engineering()` method in the next step. This data cleaning routine can be scheduled as part of the pipeline that we will define later (for model training and prediction)."
      ]
    },
    {
      "cell_type": "code",
      "execution_count": 60,
      "id": "q_hFsfRGFjxG",
      "metadata": {
        "id": "q_hFsfRGFjxG"
      },
      "outputs": [
        {
          "name": "stdout",
          "output_type": "stream",
          "text": [
            "\n",
            "SELECT *\n",
            "FROM pltv-457408.crystalvalue.data\n",
            "WHERE NOT (value_cat1 >= 0 AND value_cat2 >= 0 AND value_cat3 >= 0 AND value_cat4 >= 0 AND value_cat5 >= 0 AND value_cat6 >= 0 AND value_uncategorized >= 0) \n",
            "\n"
          ]
        }
      ],
      "source": [
        "# check if there is any negative value\n",
        "where_clause = [f\"value_cat{i} >= 0\" for i in range(1, 7)]\n",
        "where_clause.append(\"value_uncategorized >= 0\")\n",
        "where_clause = \" AND \".join(where_clause)\n",
        "\n",
        "query = f\"\"\"\n",
        "SELECT *\n",
        "FROM {pipeline.project_id}.{pipeline.dataset_id}.{GCP_TABLE_ID}\n",
        "WHERE NOT ({where_clause}) \n",
        "\"\"\"\n",
        "\n",
        "print(query)\n",
        "# pipeline.run_query(query_sql=query, destination_table_name=GCP_TABLE_ID)"
      ]
    },
    {
      "cell_type": "markdown",
      "id": "5Bcu6lMlY37w",
      "metadata": {
        "id": "5Bcu6lMlY37w"
      },
      "source": [
        "# Feature Engineering\n",
        "\n",
        "Crystalvalue takes a transaction or browsing level dataset and creates a machine learning-ready dataset that can be ingested by AutoML. Data types are automatically inferred from the BigQuery schema unless the features are provided using the `feature_types` parameter in the `.feature_engineer()` method. Data transformations are applied automatically depending on the data type. The data crunching happens in BigQuery and the executed script can be optionally written to your directory. The features will be created in a BigQuery table called `crystalvalue_train_data` by default."
      ]
    },
    {
      "cell_type": "code",
      "execution_count": 65,
      "id": "yK5Lfb1SY37w",
      "metadata": {
        "id": "yK5Lfb1SY37w"
      },
      "outputs": [
        {
          "name": "stderr",
          "output_type": "stream",
          "text": [
            "INFO:root:Created table 'pltv-457408.crystalvalue.crystalvalue_train_data' in location 'europe-west4'\n"
          ]
        }
      ],
      "source": [
        "crystalvalue_train_data = pipeline.feature_engineer(\n",
        "  transaction_table_name=GCP_TABLE_ID,\n",
        "  query_type=\"train_query\"\n",
        ")"
      ]
    },
    {
      "cell_type": "markdown",
      "id": "xQ0yaFbBY37x",
      "metadata": {
        "id": "xQ0yaFbBY37x"
      },
      "source": [
        "# Model Training"
      ]
    },
    {
      "cell_type": "markdown",
      "id": "3JCdyprSY37x",
      "metadata": {
        "id": "3JCdyprSY37x"
      },
      "source": [
        "Crystalvalue leverages [Vertex AI (Tabular) AutoML](https://cloud.google.com/vertex-ai/docs/training/automl-api) which requires a\n",
        "[Vertex AI Dataset](https://cloud.google.com/vertex-ai/docs/datasets/create-dataset-api) as an input. CrystalValue automatically creates a Vertex AI Dataset from your input table as part of the training step of the pipeline. The training process typically takes about 2 or more hours to run. The Vertex AI Dataset will have a display name `crystalvalue_dataset`. The model will have a display name `crystalvalue_model` but it will also receive a model ID (so even if you train multiple models they will not be overwritten and can be identified using these IDs). By default CrystalValue chooses the following parameters:\n",
        "*  Predefined split with random 15% of users as test, 15% in validation and 70% in training.\n",
        "*  Optimization objective as Minimize root-mean-squared error (RMSE).\n",
        "*  1 node hour of training (1000 milli node hours), which we recommend starting with. [Modify this in line with the number of rows](https://cloud.google.com/automl-tables/docs/train#training_a_model) in the dataset when you are ready for productionising. See information here about [pricing](https://cloud.google.com/automl-tables/pricing).\n",
        "\n",
        "In this example we keep all the default settings so training the model is as simple as calling `pipeline.train_automl_model()`.\n",
        "\n",
        "In order to make fast predictions later, you can deploy the model using the `.deploy_model()` method."
      ]
    },
    {
      "cell_type": "markdown",
      "id": "1da5cf05",
      "metadata": {},
      "source": [
        "$$\\text{RMSE} = \\sqrt{\\frac{1}{n} \\sum_{i=1}^{n} (y_i - \\hat{y}_i)^2}$$"
      ]
    },
    {
      "cell_type": "markdown",
      "id": "PvryAnPFiuWG",
      "metadata": {
        "id": "PvryAnPFiuWG"
      },
      "source": [
        "Once you start the training, you can view your model training progress here:  \n",
        "https://console.cloud.google.com/vertex-ai/training/training-pipelines  \n",
        "Once the training is finished, check out your Dataset (with statistics and distributions) and Model (with feature importance) in the UI:  \n",
        " https://console.cloud.google.com/vertex-ai/datasets   \n",
        " https://console.cloud.google.com/vertex-ai/models"
      ]
    },
    {
      "cell_type": "code",
      "execution_count": null,
      "id": "CSK1FtHVY37y",
      "metadata": {
        "id": "CSK1FtHVY37y"
      },
      "outputs": [],
      "source": [
        "model_object = pipeline.train_automl_model()"
      ]
    },
    {
      "cell_type": "code",
      "execution_count": null,
      "id": "45bf5be6",
      "metadata": {},
      "outputs": [],
      "source": [
        "model_object = pipeline.deploy_model()"
      ]
    },
    {
      "cell_type": "markdown",
      "id": "Dok2Wu6UY370",
      "metadata": {
        "id": "Dok2Wu6UY370"
      },
      "source": [
        "# Model Evaluation"
      ]
    },
    {
      "cell_type": "markdown",
      "id": "wsJdx-MvY370",
      "metadata": {
        "id": "wsJdx-MvY370"
      },
      "source": [
        "To evaluate a model, we use the following criteria:\n",
        "\n",
        "* The spearman correlation, a measure of how well the model **ranked** the Liftetime value of customers in the test set. This is measured between -1 (worse) and 1 (better).\n",
        "* The normalised Gini coefficient, another measure of how well the model **ranked** the Lifetime value of customers in the test set compared to random ranking. This is measured between 0 (worse) and 1 (better). \n",
        "* The normalised Mean Average Error (MAE%). This is a measure of the **error** of the model\"s predictions for Lifetime value in the test set. \n",
        "* top_x_percent_predicted_customer_value_share: The proportion of value (i.e. total profit or revenue) in the test set that is accounted for by the top x% model-predicted customers. \n",
        "\n",
        "These outputs are sent to a BigQuery table (by default called `crystalvalue_evaluation`). Subsequent model evaluations append model performance evaluation metrics to this table to allow for comparison across models."
      ]
    },
    {
      "cell_type": "code",
      "execution_count": 6,
      "id": "dfa7a071",
      "metadata": {},
      "outputs": [],
      "source": [
        "MODEL_ID = \"1566768885208711168\"\n",
        "MACHINE_TYPE = \"e2-standard-2\""
      ]
    },
    {
      "cell_type": "code",
      "execution_count": 7,
      "id": "b544ad2a",
      "metadata": {},
      "outputs": [
        {
          "name": "stderr",
          "output_type": "stream",
          "text": [
            "INFO:absl:Using Google Cloud Project: 'pltv-457408'\n",
            "INFO:absl:Using dataset_id: 'crystalvalue'\n",
            "INFO:absl:Using Google Cloud location: 'europe-west9'\n",
            "INFO:absl:Using customer id column in input table: 'customer_id'\n",
            "INFO:absl:Using date column in input table: 'date'\n"
          ]
        },
        {
          "name": "stderr",
          "output_type": "stream",
          "text": [
            "INFO:absl:Using value column in input table: 'value'\n",
            "INFO:absl:Using days_lookback for feature calculation: 365\n",
            "INFO:absl:Using days_lookahead for value prediction: 365\n",
            "INFO:absl:Using trigger_event_date_column for value prediction: None\n",
            "INFO:absl:Parameters writen to file: 'data/crystalvalue_parameters.json'\n"
          ]
        }
      ],
      "source": [
        "pipeline = crystalvalue.CrystalValue(\n",
        "  project_id=GCP_PROJECT_ID,\n",
        "  dataset_id=GCP_DATASET_ID,\n",
        "  credentials=credentials,\n",
        "  customer_id_column=CUSTOMER_ID_COLUMN,\n",
        "  date_column=DATE_COLUMN,\n",
        "  value_column=VALUE_COLUMN,\n",
        "  days_lookback=LOOKBACK_DAYS,\n",
        "  days_lookahead=LOOKAHEAD_DAYS,\n",
        "  ignore_columns=IGNORE_COLUMNS + [VALUE_COLUMN],\n",
        "  location=GCP_LOCATION,\n",
        "  write_parameters=True,\n",
        "  parameters_filename=PARAMETERS_FILENAME, \n",
        "  model_id=MODEL_ID, \n",
        "  machine_type=MACHINE_TYPE\n",
        ")  "
      ]
    },
    {
      "cell_type": "code",
      "execution_count": 9,
      "id": "77d23246",
      "metadata": {},
      "outputs": [
        {
          "name": "stderr",
          "output_type": "stream",
          "text": [
            "INFO:matplotlib.category:Using categorical units to plot a list of strings that are all parsable as floats or dates. If these strings should be plotted as numbers, cast to the appropriate data type before plotting.\n",
            "INFO:matplotlib.category:Using categorical units to plot a list of strings that are all parsable as floats or dates. If these strings should be plotted as numbers, cast to the appropriate data type before plotting.\n",
            "INFO:root:Saving figure in 'bin_predictions_vs_actuals.png'\n",
            "INFO:root:Appending to table 'pltv-457408.crystalvalue.crystalvalue_evaluation' in location 'europe-west9'\n"
          ]
        },
        {
          "data": {
            "image/png": "[encoded data removed]",
            "text/plain": [
              "<Figure size 1000x700 with 1 Axes>"
            ]
          },
          "metadata": {},
          "output_type": "display_data"
        }
      ],
      "source": [
        "metrics = pipeline.evaluate_model(); "
      ]
    },
    {
      "cell_type": "code",
      "execution_count": 10,
      "id": "594cf0ca",
      "metadata": {},
      "outputs": [
        {
          "data": {
            "text/html": [
              "<div>\n",
              "<style scoped>\n",
              "    .dataframe tbody tr th:only-of-type {\n",
              "        vertical-align: middle;\n",
              "    }\n",
              "\n",
              "    .dataframe tbody tr th {\n",
              "        vertical-align: top;\n",
              "    }\n",
              "\n",
              "    .dataframe thead th {\n",
              "        text-align: right;\n",
              "    }\n",
              "</style>\n",
              "<table border=\"1\" class=\"dataframe\">\n",
              "  <thead>\n",
              "    <tr style=\"text-align: right;\">\n",
              "      <th></th>\n",
              "      <th>time_run</th>\n",
              "      <th>model_id</th>\n",
              "      <th>test_set_rows</th>\n",
              "      <th>spearman_correlation</th>\n",
              "      <th>gini_normalized</th>\n",
              "      <th>normalised_mae</th>\n",
              "      <th>0</th>\n",
              "      <th>top_1_percent_predicted_customers_value_share</th>\n",
              "      <th>top_5_percent_predicted_customers_value_share</th>\n",
              "      <th>top_10_percent_predicted_customers_value_share</th>\n",
              "    </tr>\n",
              "  </thead>\n",
              "  <tbody>\n",
              "    <tr>\n",
              "      <th>0</th>\n",
              "      <td>22/04/2025 09:36:37</td>\n",
              "      <td>1566768885208711168</td>\n",
              "      <td>409090</td>\n",
              "      <td>0.52</td>\n",
              "      <td>0.79</td>\n",
              "      <td>0.94</td>\n",
              "      <td>NaN</td>\n",
              "      <td>NaN</td>\n",
              "      <td>NaN</td>\n",
              "      <td>NaN</td>\n",
              "    </tr>\n",
              "  </tbody>\n",
              "</table>\n",
              "</div>"
            ],
            "text/plain": [
              "              time_run             model_id  test_set_rows  \\\n",
              "0  22/04/2025 09:36:37  1566768885208711168         409090   \n",
              "\n",
              "   spearman_correlation  gini_normalized  normalised_mae    0  \\\n",
              "0                  0.52             0.79            0.94  NaN   \n",
              "\n",
              "   top_1_percent_predicted_customers_value_share  \\\n",
              "0                                            NaN   \n",
              "\n",
              "   top_5_percent_predicted_customers_value_share  \\\n",
              "0                                            NaN   \n",
              "\n",
              "   top_10_percent_predicted_customers_value_share  \n",
              "0                                             NaN  "
            ]
          },
          "execution_count": 10,
          "metadata": {},
          "output_type": "execute_result"
        }
      ],
      "source": [
        "metrics"
      ]
    },
    {
      "cell_type": "markdown",
      "id": "oJ6ZFLwrY37y",
      "metadata": {
        "id": "oJ6ZFLwrY37y"
      },
      "source": [
        "# Generating predictions"
      ]
    },
    {
      "cell_type": "markdown",
      "id": "jEzDVyiMY37z",
      "metadata": {
        "id": "jEzDVyiMY37z"
      },
      "source": [
        "Once model training is done, you can generate predictions. Features need to be engineered (the exact same as were used for model training) before prediction. This is done using the `.feature_engineer()` method by setting the parameter `query_type=\"predict_query\"`. The features will be created in a BigQuery table called `crystalvalue_predict_data` by default. The model will make predictions for all customers in the provided input table that have any activity during the lookback window. The pLTV predictions will be for the period starting from the last date in the input table (not today\"s date).  "
      ]
    },
    {
      "cell_type": "code",
      "execution_count": 54,
      "id": "Z2sOiMID4X2-",
      "metadata": {
        "id": "Z2sOiMID4X2-"
      },
      "outputs": [
        {
          "name": "stderr",
          "output_type": "stream",
          "text": [
            "/Users/pierre-emmanuel/Documents/freelance/pltv/venv/lib/python3.9/site-packages/google/cloud/bigquery/table.py:1933: UserWarning: BigQuery Storage module not found, fetch data with the REST endpoint instead.\n",
            "  warnings.warn(\n",
            "INFO:root:Created table 'pltv-457408.crystalvalue.crystalvalue_predict_data' in location 'europe-west9'\n"
          ]
        }
      ],
      "source": [
        "crystalvalue_predict_data = pipeline.feature_engineer(\n",
        "    transaction_table_name=GCP_TABLE_ID_PREDICT,  # An existing bigquery table in your dataset id containing the data to predict with.\n",
        "    query_type=\"predict_query\"\n",
        ")"
      ]
    },
    {
      "cell_type": "code",
      "execution_count": 57,
      "id": "db0ca96b",
      "metadata": {},
      "outputs": [
        {
          "name": "stderr",
          "output_type": "stream",
          "text": [
            "INFO:absl:Appending to table 'pltv-457408.crystalvalue.crystalvalue_predictions' in location 'europe-west9'\n"
          ]
        }
      ],
      "source": [
        "predictions = pipeline.predict(\n",
        "    input_table=crystalvalue_predict_data,\n",
        "    destination_table=\"crystalvalue_predictions\"  # The bigquery table to append predictions to. It will be created if it does not exist yet.\n",
        ")  "
      ]
    },
    {
      "cell_type": "code",
      "execution_count": 58,
      "id": "1333e7d0",
      "metadata": {},
      "outputs": [],
      "source": [
        "\n",
        "def get_actual_clv(project_id: str, dataset_id: str, table_id: str) -> pd.DataFrame:\n",
        "    query = f\"\"\"\n",
        "    WITH \n",
        "    customer_lookahead_periods AS (\n",
        "    SELECT *\n",
        "    FROM `{project_id}.{dataset_id}.crystalvalue_predictions`\n",
        "    )\n",
        "    , transactions AS (\n",
        "    SELECT p.*, SUM(t.value) AS actual_value\n",
        "    FROM customer_lookahead_periods p\n",
        "    INNER JOIN `{GCP_PROJECT_ID}.{GCP_DATASET_ID}.{GCP_TABLE_ID_PREDICT}` t\n",
        "    ON CAST(p.customer_id AS STRING) = CAST(t.customer_id AS STRING)\n",
        "    WHERE PARSE_DATE('%Y-%m-%d', t.date) BETWEEN CAST(p.lookahead_start AS DATE) AND CAST(p.lookahead_stop AS DATE)\n",
        "    GROUP BY p.customer_id, p.lookahead_start, p.lookahead_stop, p.predicted_value\n",
        "    )\n",
        "    SELECT *, actual_value - predicted_value AS error\n",
        "    FROM transactions\n",
        "    \"\"\"\n",
        "    result = bq_client.query(query).result() \n",
        "    data = result.to_dataframe()\n",
        "\n",
        "    return data"
      ]
    },
    {
      "cell_type": "code",
      "execution_count": 59,
      "id": "4fcbbe07",
      "metadata": {},
      "outputs": [
        {
          "name": "stderr",
          "output_type": "stream",
          "text": [
            "/Users/pierre-emmanuel/Documents/freelance/pltv/venv/lib/python3.9/site-packages/google/cloud/bigquery/table.py:1933: UserWarning: BigQuery Storage module not found, fetch data with the REST endpoint instead.\n",
            "  warnings.warn(\n"
          ]
        },
        {
          "data": {
            "text/html": [
              "<div>\n",
              "<style scoped>\n",
              "    .dataframe tbody tr th:only-of-type {\n",
              "        vertical-align: middle;\n",
              "    }\n",
              "\n",
              "    .dataframe tbody tr th {\n",
              "        vertical-align: top;\n",
              "    }\n",
              "\n",
              "    .dataframe thead th {\n",
              "        text-align: right;\n",
              "    }\n",
              "</style>\n",
              "<table border=\"1\" class=\"dataframe\">\n",
              "  <thead>\n",
              "    <tr style=\"text-align: right;\">\n",
              "      <th></th>\n",
              "      <th>customer_id</th>\n",
              "      <th>lookahead_start</th>\n",
              "      <th>lookahead_stop</th>\n",
              "      <th>predicted_value</th>\n",
              "      <th>actual_value</th>\n",
              "      <th>error</th>\n",
              "    </tr>\n",
              "  </thead>\n",
              "  <tbody>\n",
              "    <tr>\n",
              "      <th>0</th>\n",
              "      <td>13792</td>\n",
              "      <td>2024-04-01</td>\n",
              "      <td>2025-03-31</td>\n",
              "      <td>6.35</td>\n",
              "      <td>5.73</td>\n",
              "      <td>-0.62</td>\n",
              "    </tr>\n",
              "    <tr>\n",
              "      <th>1</th>\n",
              "      <td>14159</td>\n",
              "      <td>2024-04-01</td>\n",
              "      <td>2025-03-31</td>\n",
              "      <td>8.58</td>\n",
              "      <td>41.54</td>\n",
              "      <td>32.96</td>\n",
              "    </tr>\n",
              "    <tr>\n",
              "      <th>2</th>\n",
              "      <td>14112</td>\n",
              "      <td>2024-04-01</td>\n",
              "      <td>2025-03-31</td>\n",
              "      <td>9.04</td>\n",
              "      <td>8.25</td>\n",
              "      <td>-0.79</td>\n",
              "    </tr>\n",
              "    <tr>\n",
              "      <th>3</th>\n",
              "      <td>14461</td>\n",
              "      <td>2024-04-01</td>\n",
              "      <td>2025-03-31</td>\n",
              "      <td>9.91</td>\n",
              "      <td>19.63</td>\n",
              "      <td>9.72</td>\n",
              "    </tr>\n",
              "    <tr>\n",
              "      <th>4</th>\n",
              "      <td>13845</td>\n",
              "      <td>2024-04-01</td>\n",
              "      <td>2025-03-31</td>\n",
              "      <td>10.55</td>\n",
              "      <td>24.21</td>\n",
              "      <td>13.66</td>\n",
              "    </tr>\n",
              "  </tbody>\n",
              "</table>\n",
              "</div>"
            ],
            "text/plain": [
              "  customer_id lookahead_start lookahead_stop  predicted_value  actual_value  \\\n",
              "0       13792      2024-04-01     2025-03-31             6.35          5.73   \n",
              "1       14159      2024-04-01     2025-03-31             8.58         41.54   \n",
              "2       14112      2024-04-01     2025-03-31             9.04          8.25   \n",
              "3       14461      2024-04-01     2025-03-31             9.91         19.63   \n",
              "4       13845      2024-04-01     2025-03-31            10.55         24.21   \n",
              "\n",
              "   error  \n",
              "0  -0.62  \n",
              "1  32.96  \n",
              "2  -0.79  \n",
              "3   9.72  \n",
              "4  13.66  "
            ]
          },
          "execution_count": 59,
          "metadata": {},
          "output_type": "execute_result"
        }
      ],
      "source": [
        "data = get_actual_clv(GCP_PROJECT_ID, GCP_DATASET_ID, GCP_TABLE_ID_PREDICT)\n",
        "data.head()"
      ]
    },
    {
      "cell_type": "code",
      "execution_count": 60,
      "id": "734223f7",
      "metadata": {},
      "outputs": [
        {
          "data": {
            "text/plain": [
              "<Axes: xlabel='predicted_value', ylabel='actual_value'>"
            ]
          },
          "execution_count": 60,
          "metadata": {},
          "output_type": "execute_result"
        },
        {
          "data": {
            "image/png": "[encoded data removed]",
            "text/plain": [
              "<Figure size 640x480 with 1 Axes>"
            ]
          },
          "metadata": {},
          "output_type": "display_data"
        }
      ],
      "source": [
        "sns.scatterplot(data=data, x=\"predicted_value\", y=\"actual_value\", alpha=0.5)"
      ]
    },
    {
      "cell_type": "code",
      "execution_count": 61,
      "id": "df6a6706",
      "metadata": {},
      "outputs": [
        {
          "data": {
            "image/png": "[encoded data removed]",
            "text/plain": [
              "<Figure size 640x480 with 1 Axes>"
            ]
          },
          "metadata": {},
          "output_type": "display_data"
        }
      ],
      "source": [
        "sns.histplot(data=data, x=\"error\", bins=30); "
      ]
    },
    {
      "cell_type": "code",
      "execution_count": 62,
      "id": "0e0c2643",
      "metadata": {},
      "outputs": [
        {
          "name": "stdout",
          "output_type": "stream",
          "text": [
            "MAE: 112.707\n",
            "MAPE: 59.01%\n",
            "RMSE: 262.247\n",
            "R2: -0.076\n"
          ]
        }
      ],
      "source": [
        "mae = data[\"error\"].abs().mean()\n",
        "mape = (data[\"error\"] / data[\"actual_value\"]).abs().mean()\n",
        "rmse = (data[\"error\"]**2).mean()**0.5\n",
        "r2 = 1 - (data[\"error\"]**2).sum() / ((data[\"actual_value\"] - data[\"actual_value\"].mean())**2).sum()\n",
        "\n",
        "print(f\"MAE: {mae:.3f}\")\n",
        "print(f\"MAPE: {mape:.2%}\")\n",
        "print(f\"RMSE: {rmse:.3f}\")\n",
        "print(f\"R2: {r2:.3f}\")"
      ]
    },
    {
      "cell_type": "markdown",
      "id": "bDF0AE95vvuv",
      "metadata": {
        "id": "bDF0AE95vvuv"
      },
      "source": [
        "# Scheduling daily predictions"
      ]
    },
    {
      "cell_type": "markdown",
      "id": "uWrKLbrEv0xo",
      "metadata": {
        "id": "uWrKLbrEv0xo"
      },
      "source": [
        "Crystalvalue uses [Vertex Pipelines](https://cloud.google.com/vertex-ai/docs/pipelines/introduction) to schedule and monitor machine learning predictions. It can also be used for model retraining. The example below demonstrates how to set up the model to automatically create predictions using new input data from the source BigQuery table every day at 1am. The frequency and timing of the schedule can be altered using the chron schedule below. Once this pipeline is set up, you can view it [here](https://console.cloud.google.com/vertex-ai/pipelines). If you want a tutorial on how to set up Vertex Pipelines [this guide](https://cloud.google.com/vertex-ai/docs/pipelines/build-pipeline)."
      ]
    },
    {
      "cell_type": "markdown",
      "id": "ZECtoCAyxbxX",
      "metadata": {
        "id": "ZECtoCAyxbxX"
      },
      "source": [
        "In order to use Vertex AI pipelines, we need a cloud storage bucket. Use the code below to create a cloud storage bucket. Note that you may have to grant Storage Object Admin to your service account to ensure the pipeline can run."
      ]
    },
    {
      "cell_type": "code",
      "execution_count": null,
      "id": "1zuWtrdwxjKX",
      "metadata": {
        "id": "1zuWtrdwxjKX"
      },
      "outputs": [],
      "source": [
        "BUCKET_NAME = \"crystalvalue_bucket\"\n",
        "storage_bucket = pipeline.create_storage_bucket(bucket_name=BUCKET_NAME)"
      ]
    },
    {
      "cell_type": "markdown",
      "id": "pj3GIIJr5TqC",
      "metadata": {
        "id": "pj3GIIJr5TqC"
      },
      "source": [
        "In order to use Vertex AI pipelines with Crystalvalue we also need to create a docker container which will be stored in Google Cloud Container Registry. The following code builds a docker container and pushes it to your [GCP Container Registry](https://cloud.google.com/container-registry). \n"
      ]
    },
    {
      "cell_type": "code",
      "execution_count": null,
      "id": "xCEA0QZo5ale",
      "metadata": {
        "id": "xCEA0QZo5ale"
      },
      "outputs": [],
      "source": [
        "!docker build -t crystalvalue .\n",
        "!docker tag crystalvalue gcr.io/$pipeline.project_id/crystalvalue\n",
        "!docker push gcr.io/$pipeline.project_id/crystalvalue"
      ]
    },
    {
      "cell_type": "markdown",
      "id": "JlfrRkrF_jhR",
      "metadata": {
        "id": "JlfrRkrF_jhR"
      },
      "source": [
        "The Kubeflow components contains self-contained functions. Read about [Kubeflow components](https://www.kubeflow.org/docs/components/pipelines/sdk/component-development/).  "
      ]
    },
    {
      "cell_type": "code",
      "execution_count": null,
      "id": "jT1zxEqGwG17",
      "metadata": {
        "id": "jT1zxEqGwG17"
      },
      "outputs": [],
      "source": [
        "from kfp import dsl\n",
        "from kfp import compiler\n",
        "from kfp.dsl import component\n",
        "\n",
        "\n",
        "@component(base_image=f\"gcr.io/{pipeline.project_id}/crystalvalue:latest\")\n",
        "def pipeline_function():  \n",
        "  from src import crystalvalue\n",
        "  parameters = crystalvalue.load_parameters_from_file()\n",
        "  pipeline = crystalvalue.CrystalValue(**parameters)\n",
        "  TRANSACTION_TABLE = \"online_retail_data\"  # Add your input table name.\n",
        "  pipeline.run_data_checks(transaction_table_name=TRANSACTION_TABLE)  \n",
        "  features = pipeline.feature_engineer(transaction_table_name=TRANSACTION_TABLE,\n",
        "                                       query_type=\"predict_query\")\n",
        "  pipeline.predict(features)\n",
        "\n",
        "\n",
        "@dsl.pipeline(\n",
        "    name=\"crystalvaluepipeline\",\n",
        "    pipeline_root=f\"gs://{BUCKET_NAME}/pipeline_root\",\n",
        ")\n",
        "def crystalvalue_pipeline():\n",
        "    pipeline_function()\n",
        "    \n",
        "compiler.Compiler().compile(\n",
        "  pipeline_func=crystalvalue_pipeline,\n",
        "  package_path=\"crystalvaluepipeline.json\"\n",
        ")"
      ]
    },
    {
      "cell_type": "code",
      "execution_count": null,
      "metadata": {
        "id": "zNSjgatukOKR"
      },
      "outputs": [],
      "source": [
        "from google.cloud import aiplatform\n",
        "\n",
        "# Choose a region compatible with Vertex Pipelines. \n",
        "# This doesn\"t have to be the same as your data location.\n",
        "\n",
        "PROJECT_ID = pipeline.project_id,\n",
        "REGION=pipeline.location,\n",
        "DISPLAY_NAME=\"crystalvalue_pipeline\",\n",
        "PIPELINE_ROOT=f\"gs://{BUCKET_NAME}/pipeline_root\",\n",
        "PACKAGE_PATH=\"crystalvaluepipeline.json\",\n",
        "aiplatform.init(\n",
        "    project=PROJECT_ID,\n",
        "    location=REGION,\n",
        ")\n",
        "\n",
        "pipeline_job = aiplatform.PipelineJob(\n",
        "    display_name=DISPLAY_NAME,\n",
        "    template_path=PACKAGE_PATH,\n",
        "    pipeline_root=PIPELINE_ROOT,\n",
        ")\n",
        "\n",
        "## Check if your pipeline is running.\n",
        "job.submit()"
      ]
    },
    {
      "cell_type": "markdown",
      "id": "e_uER_PJ_fNW",
      "metadata": {
        "id": "e_uER_PJ_fNW"
      },
      "source": [
        "Create the scheduled pipeline. Adjust time zone and cron schedule as necessary."
      ]
    },
    {
      "cell_type": "code",
      "execution_count": null,
      "metadata": {
        "id": "t7L0QRKOaLYM"
      },
      "outputs": [],
      "source": [
        "pipeline_job_schedule = pipeline_job.create_schedule(\n",
        "  display_name=\"crystalvalue_pipeline_schedule\",\n",
        "  cron=\"TZ=CRON\",\n",
        "  max_concurrent_run_count=MAX_CONCURRENT_RUN_COUNT,\n",
        "  max_run_count=MAX_RUN_COUNT,\n",
        ")"
      ]
    },
    {
      "cell_type": "markdown",
      "id": "sxeSm7BxA5so",
      "metadata": {
        "id": "sxeSm7BxA5so"
      },
      "source": [
        "You can view your running and scheduled pipelines at:\n",
        "https://console.cloud.google.com/vertex-ai/pipelines or by adjusting the code below."
      ]
    },
    {
      "cell_type": "code",
      "execution_count": null,
      "metadata": {
        "id": "ac4RlBqXaLYM"
      },
      "outputs": [],
      "source": [
        "aiplatform.PipelineJobSchedule.list(\n",
        "  filter=\"display_name=\"DISPLAY_NAME\"\",\n",
        "  order_by=\"create_time desc\"\n",
        ")"
      ]
    },
    {
      "cell_type": "markdown",
      "id": "yNZpQxNU-cIi",
      "metadata": {
        "id": "yNZpQxNU-cIi"
      },
      "source": [
        "# (Optional) Get insights into the relationship between your features and customer LTV"
      ]
    },
    {
      "cell_type": "markdown",
      "id": "ZXZUlaZV_Ms9",
      "metadata": {
        "id": "ZXZUlaZV_Ms9"
      },
      "source": [
        "To get insights into how your model is making predictions based on your features using the [What-If Tool](https://pair-code.github.io/what-if-tool/). Check out an [online demo here](https://pair-code.github.io/what-if-tool/demos/age.html)."
      ]
    },
    {
      "cell_type": "code",
      "execution_count": null,
      "id": "0HyVMxQj-jfl",
      "metadata": {
        "id": "0HyVMxQj-jfl"
      },
      "outputs": [],
      "source": [
        "import numpy as np\n",
        "\n",
        "from witwidget.notebook.visualization import WitConfigBuilder\n",
        "from witwidget.notebook.visualization import WitWidget"
      ]
    },
    {
      "cell_type": "code",
      "execution_count": null,
      "id": "CUK1kcr0-pS7",
      "metadata": {
        "id": "CUK1kcr0-pS7"
      },
      "outputs": [],
      "source": [
        "features_with_predictions = pd.concat([\n",
        "    crystalvalue_predict_data.iloc[:,7:],\n",
        "    predictions[\"predicted_value\"]], axis=1)"
      ]
    },
    {
      "cell_type": "code",
      "execution_count": null,
      "id": "s8hedfxF-qcn",
      "metadata": {
        "id": "s8hedfxF-qcn"
      },
      "outputs": [],
      "source": [
        "config_builder = WitConfigBuilder(\n",
        "    np.array(features_with_predictions[0:1000]).tolist(),\n",
        "    list(features_with_predictions)\n",
        ")\n",
        "WitWidget(config_builder, height=1000)"
      ]
    },
    {
      "cell_type": "markdown",
      "id": "R7RczTD6S1_O",
      "metadata": {
        "id": "R7RczTD6S1_O"
      },
      "source": [
        "# Clean Up"
      ]
    },
    {
      "cell_type": "markdown",
      "id": "6FyiJ93rTWhW",
      "metadata": {
        "id": "6FyiJ93rTWhW"
      },
      "source": [
        "To clean up tables created during this demo, delete the BigQuery tables that were created. All Vertex AI resources can be removed from the [Vertex AI console](https://console.cloud.google.com/vertex-ai). If you set up a Vertex Pipeline then also remove any relevant resources from [Cloud Storage](https://console.cloud.google.com/storage) and [Container Registry](https://console.cloud.google.com//gcr/images/). "
      ]
    },
    {
      "cell_type": "code",
      "execution_count": null,
      "id": "1wQI6E8US3Hc",
      "metadata": {
        "id": "1wQI6E8US3Hc"
      },
      "outputs": [],
      "source": [
        "pipeline.delete_table(\"crystalvalue_data_statistics\")\n",
        "pipeline.delete_table(\"crystalvalue_evaluation\")\n",
        "pipeline.delete_table(\"crystalvalue_train_data\")\n",
        "pipeline.delete_table(\"crystalvalue_predict_data\")\n",
        "pipeline.delete_table(\"crystalvalue_predictions\")"
      ]
    }
  ],
  "metadata": {
    "colab": {
      "collapsed_sections": [],
      "last_runtime": {
        "build_target": "//corp/gtech/ads/infrastructure/colab_utils/ds_runtime:ds_colab",
        "kind": "private"
      },
      "name": "demo_with_real_data_notebook.ipynb",
      "private_outputs": true,
      "provenance": [
        {
          "file_id": "/piper/depot/google3/third_party/professional_services/solutions/crystalvalue/crystalvalue_demo_notebook.ipynb?workspaceId=sumedhamenon:CrystalValue::citc",
          "timestamp": 1627656627042
        },
        {
          "file_id": "/piper/depot/google3/third_party/professional_services/solutions/crystalvalue/crystalvalue_demo_notebook.ipynb?workspaceId=sumedhamenon:CrystalValue::citc",
          "timestamp": 1627656460877
        },
        {
          "file_id": "/piper/depot/google3/experimental/gtech_prem_data_science/projects/trac/treatwell/Crystal_Value_Demo_Notebook.ipynb?workspaceId=sumedhamenon:CrystalValue::citc",
          "timestamp": 1627648785641
        },
        {
          "file_id": "1JGQRDc1_luQsaMxx9ZZavddHBrgO7Xst",
          "timestamp": 1627648471137
        }
      ]
    },
    "environment": {
      "name": "common-cpu.mnightly-2021-01-05-debian-10-test",
      "type": "gcloud",
      "uri": "gcr.io/deeplearning-platform-release/base-cpu:mnightly-2021-01-05-debian-10-test"
    },
    "kernelspec": {
      "display_name": "venv",
      "language": "python",
      "name": "python3"
    },
    "language_info": {
      "codemirror_mode": {
        "name": "ipython",
        "version": 3
      },
      "file_extension": ".py",
      "mimetype": "text/x-python",
      "name": "python",
      "nbconvert_exporter": "python",
      "pygments_lexer": "ipython3",
      "version": "3.9.6"
    }
  },
  "nbformat": 4,
  "nbformat_minor": 5
}
