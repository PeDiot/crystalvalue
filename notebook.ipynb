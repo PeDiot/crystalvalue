{
  "cells": [
    {
      "cell_type": "markdown",
      "id": "iTsKaxLPY37t",
      "metadata": {
        "id": "iTsKaxLPY37t"
      },
      "source": [
        "# Crystalvalue Demo: Predictive Customer LifeTime Value for a Retail Store\n",
        "\n",
        "Crystalvalue is a best practice comprehensive solution for running predictive LTV solutions leveraging Google Cloud Vertex AI. \n",
        "\n",
        "This demo runs the Crystalvalue python library in a notebook, from feature engineering to scheduling predictions. It uses the [Online Retail II data set from Kaggle](https://www.kaggle.com/mashlyn/online-retail-ii-uci) which contains transactions for a UK retail store between 2009 and 2011. Enable the [Vertex API](https://console.cloud.google.com/flows/enableapi?apiid=aiplatform.googleapis.com,storage-component.googleapis.com) for this demo to run.\n",
        "\n",
        "This notebook assumes that it is being run from within a [Google Cloud Platform AI Notebook](https://console.cloud.google.com/vertex-ai/notebooks/list/instances) with a Compute Engine default service account (the default setting when an AI Notebook is created) and TensorFlow backend. Ensure that the [Compute Engine default service account API](https://console.cloud.google.com/flows/enableapi?apiid=compute.googleapis.com) is enabled. When running it on your own data, we recommend [setting up your own service account](https://cloud.google.com/vertex-ai/docs/pipelines/configure-project).\n",
        "\n",
        "If you would like to share feedback about Crystalvalue, please email crystalvalue@google.com."
      ]
    },
    {
      "cell_type": "markdown",
      "id": "1_M6mv5_Al18",
      "metadata": {
        "id": "1_M6mv5_Al18"
      },
      "source": [
        "# Clone the Crystalvalue codebase"
      ]
    },
    {
      "cell_type": "markdown",
      "id": "hnySWWD2DbJ8",
      "metadata": {
        "id": "hnySWWD2DbJ8"
      },
      "source": [
        "Start by cloning the Crystalvalue codebase and running a demo notebook from the root directory. To run Crystalvalue on your own data, simply change the parameters to it works on your data."
      ]
    },
    {
      "cell_type": "markdown",
      "id": "a6QSkrxSFsCB",
      "metadata": {
        "id": "a6QSkrxSFsCB"
      },
      "source": [
        "```git clone https://github.com/google/crystalvalue```"
      ]
    },
    {
      "cell_type": "markdown",
      "id": "ef1faf60",
      "metadata": {},
      "source": [
        "# Imports"
      ]
    },
    {
      "cell_type": "code",
      "execution_count": 1,
      "id": "433f7e0d",
      "metadata": {},
      "outputs": [],
      "source": [
        "%load_ext autoreload\n",
        "%autoreload 2"
      ]
    },
    {
      "cell_type": "code",
      "execution_count": 2,
      "id": "0783cc9e",
      "metadata": {},
      "outputs": [],
      "source": [
        "from src import crystalvalue"
      ]
    },
    {
      "cell_type": "code",
      "execution_count": 106,
      "id": "672173f7",
      "metadata": {},
      "outputs": [],
      "source": [
        "from typing import Optional\n",
        "\n",
        "import json, pandas as pd\n",
        "import matplotlib.pyplot as plt\n",
        "import seaborn as sns\n",
        "from datetime import datetime\n",
        "\n",
        "from google.oauth2 import service_account\n",
        "from google.cloud import bigquery"
      ]
    },
    {
      "cell_type": "code",
      "execution_count": 56,
      "id": "7a1a4745",
      "metadata": {},
      "outputs": [],
      "source": [
        "pd.set_option(\"display.max_columns\", None)"
      ]
    },
    {
      "cell_type": "code",
      "execution_count": 104,
      "id": "7508534c",
      "metadata": {},
      "outputs": [],
      "source": [
        "CREDENTIALS_PATH = \"secrets/gcp_credentials.json\"\n",
        "DATA_PATH = \"data/raw2.csv\"\n",
        "MAPPING_PATH = \"data/department_to_region.json\"\n",
        "PARAMETERS_FILENAME = \"data/crystalvalue_parameters.json\"\n",
        "\n",
        "GCP_PROJECT_ID = \"pltv-457408\"\n",
        "GCP_LOCATION = \"europe-west4\"\n",
        "GCP_TABLE_ID = \"data\"\n",
        "# we ignore days_to_next_order because it is calculated by crystalvalue\n",
        "\n",
        "LOOKBACK_DAYS = 0\n",
        "LOOKAHEAD_DAYS = 365\n",
        "\n",
        "CUSTOMER_ID_COLUMN = \"customer_id\"\n",
        "DATE_COLUMN = \"order_date\"\n",
        "VALUE_COLUMN = \"value\""
      ]
    },
    {
      "cell_type": "code",
      "execution_count": 113,
      "id": "f7e6e73c",
      "metadata": {},
      "outputs": [],
      "source": [
        "credentials = service_account.Credentials.from_service_account_file(\n",
        "    filename=CREDENTIALS_PATH\n",
        ")"
      ]
    },
    {
      "cell_type": "code",
      "execution_count": 116,
      "id": "7cf1772e",
      "metadata": {},
      "outputs": [],
      "source": [
        "CRYSTALVALUE_KWARGS = {\n",
        "    \"project_id\": GCP_PROJECT_ID,  # The GCP project id.\n",
        "    \"location\": GCP_LOCATION,  # This is the location of your dataset in Bigquery.\n",
        "    \"credentials\": credentials,\n",
        "    \"customer_id_column\": CUSTOMER_ID_COLUMN,  # The customer ID column.\n",
        "    \"date_column\": DATE_COLUMN,  # The transaction date column.\n",
        "    \"value_column\": VALUE_COLUMN,  #  Column to use for LTV calculation (i.e. profit or revenue).\n",
        "    \"days_lookback\": LOOKBACK_DAYS,  #  How many days in the past to use for feature engineering.\n",
        "    \"days_lookahead\": LOOKAHEAD_DAYS,  #  How many days in the future to use for value prediction.\n",
        "    \"write_parameters\": True,  #  Write parameters to local file so they can be retrieved for prediction.\n",
        "    \"parameters_filename\": PARAMETERS_FILENAME\n",
        "}"
      ]
    },
    {
      "cell_type": "markdown",
      "id": "d0d48772",
      "metadata": {},
      "source": [
        "# Utils"
      ]
    },
    {
      "cell_type": "code",
      "execution_count": 59,
      "id": "debe6c5d",
      "metadata": {},
      "outputs": [],
      "source": [
        "def plot_predictions_vs_actual(data: pd.DataFrame, max_value=300):\n",
        "    plot_data = data[data[\"actual_value\"] < max_value]    \n",
        "    _, ax = plt.subplots(nrows=1, ncols=1, figsize=(10, 6))\n",
        "\n",
        "    sns.scatterplot(\n",
        "        data=plot_data, \n",
        "        x=\"actual_value\", \n",
        "        y=\"predicted_value\", \n",
        "        alpha=0.5,\n",
        "        ax=ax\n",
        "    )\n",
        "\n",
        "    ax.plot(\n",
        "        [0, max_value], \n",
        "        [0, max_value], \n",
        "        'r--', \n",
        "        label='y=x'\n",
        "    )\n",
        "\n",
        "    ax.legend()\n",
        "    ax.set_title('Predicted vs Actual Values')\n",
        "    ax.set_xlabel('Actual Value')\n",
        "    ax.set_ylabel('Predicted Value')"
      ]
    },
    {
      "cell_type": "code",
      "execution_count": 60,
      "id": "4b211936",
      "metadata": {},
      "outputs": [],
      "source": [
        "import pandas as pd\n",
        "import numpy as np\n",
        "\n",
        "\n",
        "def calculate_regression_metrics(\n",
        "    data: pd.DataFrame,\n",
        "    actual_col: str = 'actual_value', \n",
        "    error_col: str = 'error'\n",
        ") -> dict:\n",
        "    mae = data[error_col].abs().mean()\n",
        "    mape = (data[error_col] / data[actual_col]).abs().mean()\n",
        "    rmse = (data[error_col]**2).mean()**0.5\n",
        "    r2 = 1 - (data[error_col]**2).sum() / ((data[actual_col] - data[actual_col].mean())**2).sum()\n",
        "    \n",
        "    return {\n",
        "        'MAE': mae,\n",
        "        'MAPE': mape,\n",
        "        'RMSE': rmse,\n",
        "        'R2': r2\n",
        "    }"
      ]
    },
    {
      "cell_type": "code",
      "execution_count": 78,
      "id": "57a81676",
      "metadata": {},
      "outputs": [],
      "source": [
        "department_to_region_mapping = json.load(open(MAPPING_PATH))\n",
        "\n",
        "def get_region_code(department_code: str) -> str:\n",
        "    department_code = str(department_code).zfill(2) if len(str(department_code)) < 2 else str(department_code)\n",
        "    \n",
        "    return department_to_region_mapping.get(department_code, {}).get(\"code\")\n",
        "\n",
        "\n",
        "def process_department_code(department_code: float) -> Optional[str]:\n",
        "    if pd.isna(department_code) or department_code == None:\n",
        "        return None\n",
        "    \n",
        "    department_code = str(department_code).split(\".\")[0]\n",
        "    \n",
        "    if department_code == \"0\":\n",
        "        return None\n",
        "    \n",
        "    if department_code == \"FR75\":\n",
        "        return \"75\"\n",
        "\n",
        "    return department_code"
      ]
    },
    {
      "cell_type": "code",
      "execution_count": 107,
      "id": "253e5f6c",
      "metadata": {},
      "outputs": [],
      "source": [
        "def get_dataset_id() -> str:\n",
        "    today = datetime.now().strftime(\"%Y%m%d_%H%M%S\")\n",
        "    \n",
        "    return f\"crystalvalue_{today}\""
      ]
    },
    {
      "cell_type": "markdown",
      "id": "69c2677a",
      "metadata": {},
      "source": [
        "# Load & preprocess data\n",
        "\n",
        "- Replace NaNs with 0 for value-related columns\n",
        "\n",
        "- Encode `order_index` as string\n",
        "\n",
        "- Create `value` target column as sum of `value_cat1`, ..., `value_uncategorized`\n",
        "\n",
        "- Train/Test split: remove customers whose first purchase is in 03/24 for the test dataset"
      ]
    },
    {
      "cell_type": "code",
      "execution_count": 79,
      "id": "2a8daf94",
      "metadata": {},
      "outputs": [
        {
          "name": "stderr",
          "output_type": "stream",
          "text": [
            "/var/folders/xm/1rh109312dq4h3d2zvqwmj9h0000gp/T/ipykernel_10546/583072376.py:2: DtypeWarning: Columns (3) have mixed types. Specify dtype option on import or set low_memory=False.\n",
            "  data = pd.read_csv(DATA_PATH)\n"
          ]
        },
        {
          "data": {
            "text/html": [
              "<div>\n",
              "<style scoped>\n",
              "    .dataframe tbody tr th:only-of-type {\n",
              "        vertical-align: middle;\n",
              "    }\n",
              "\n",
              "    .dataframe tbody tr th {\n",
              "        vertical-align: top;\n",
              "    }\n",
              "\n",
              "    .dataframe thead th {\n",
              "        text-align: right;\n",
              "    }\n",
              "</style>\n",
              "<table border=\"1\" class=\"dataframe\">\n",
              "  <thead>\n",
              "    <tr style=\"text-align: right;\">\n",
              "      <th></th>\n",
              "      <th>order_date</th>\n",
              "      <th>order_number</th>\n",
              "      <th>customer_id</th>\n",
              "      <th>shipping_address_dept</th>\n",
              "      <th>Total</th>\n",
              "      <th>SubCat_1</th>\n",
              "      <th>SubCat_2</th>\n",
              "      <th>SubCat_3</th>\n",
              "      <th>SubCat_4</th>\n",
              "      <th>SubCat_5</th>\n",
              "      <th>SubCat_6</th>\n",
              "      <th>SubCat_7</th>\n",
              "      <th>SubCat_8</th>\n",
              "      <th>SubCat_9</th>\n",
              "      <th>SubCat_10</th>\n",
              "      <th>SubCat_11</th>\n",
              "      <th>SubCat_12</th>\n",
              "      <th>SubCat_13</th>\n",
              "      <th>SubCat_14</th>\n",
              "      <th>SubCat_15</th>\n",
              "      <th>SubCat_16</th>\n",
              "      <th>SubCat_17</th>\n",
              "      <th>SubCat_18</th>\n",
              "      <th>SubCat_19</th>\n",
              "      <th>SubCat_20</th>\n",
              "      <th>SubCat_21</th>\n",
              "      <th>SubCat_22</th>\n",
              "      <th>SubCat_23</th>\n",
              "      <th>SubCat_24</th>\n",
              "      <th>SubCat_25</th>\n",
              "      <th>SubCat_26</th>\n",
              "      <th>SubCat_27</th>\n",
              "      <th>SubCat_28</th>\n",
              "      <th>SubCat_29</th>\n",
              "      <th>SubCat_30</th>\n",
              "      <th>SubCat_31</th>\n",
              "      <th>SubCat_32</th>\n",
              "      <th>SubCat_33</th>\n",
              "      <th>Uncategorized</th>\n",
              "      <th>order_index</th>\n",
              "      <th>days_to_next_order</th>\n",
              "    </tr>\n",
              "  </thead>\n",
              "  <tbody>\n",
              "    <tr>\n",
              "      <th>0</th>\n",
              "      <td>2022-06-01</td>\n",
              "      <td>761</td>\n",
              "      <td>328</td>\n",
              "      <td>93.0</td>\n",
              "      <td>48.23</td>\n",
              "      <td>NaN</td>\n",
              "      <td>NaN</td>\n",
              "      <td>NaN</td>\n",
              "      <td>NaN</td>\n",
              "      <td>NaN</td>\n",
              "      <td>NaN</td>\n",
              "      <td>NaN</td>\n",
              "      <td>NaN</td>\n",
              "      <td>1.65</td>\n",
              "      <td>NaN</td>\n",
              "      <td>NaN</td>\n",
              "      <td>NaN</td>\n",
              "      <td>NaN</td>\n",
              "      <td>NaN</td>\n",
              "      <td>NaN</td>\n",
              "      <td>NaN</td>\n",
              "      <td>NaN</td>\n",
              "      <td>NaN</td>\n",
              "      <td>NaN</td>\n",
              "      <td>NaN</td>\n",
              "      <td>NaN</td>\n",
              "      <td>NaN</td>\n",
              "      <td>NaN</td>\n",
              "      <td>NaN</td>\n",
              "      <td>NaN</td>\n",
              "      <td>NaN</td>\n",
              "      <td>2.34</td>\n",
              "      <td>NaN</td>\n",
              "      <td>NaN</td>\n",
              "      <td>NaN</td>\n",
              "      <td>NaN</td>\n",
              "      <td>NaN</td>\n",
              "      <td>NaN</td>\n",
              "      <td>44.24</td>\n",
              "      <td>4</td>\n",
              "      <td>40.0</td>\n",
              "    </tr>\n",
              "    <tr>\n",
              "      <th>1</th>\n",
              "      <td>2022-06-01</td>\n",
              "      <td>762</td>\n",
              "      <td>552</td>\n",
              "      <td>17.0</td>\n",
              "      <td>55.91</td>\n",
              "      <td>NaN</td>\n",
              "      <td>NaN</td>\n",
              "      <td>1.37</td>\n",
              "      <td>NaN</td>\n",
              "      <td>NaN</td>\n",
              "      <td>NaN</td>\n",
              "      <td>NaN</td>\n",
              "      <td>NaN</td>\n",
              "      <td>NaN</td>\n",
              "      <td>NaN</td>\n",
              "      <td>NaN</td>\n",
              "      <td>2.85</td>\n",
              "      <td>NaN</td>\n",
              "      <td>NaN</td>\n",
              "      <td>NaN</td>\n",
              "      <td>NaN</td>\n",
              "      <td>NaN</td>\n",
              "      <td>NaN</td>\n",
              "      <td>NaN</td>\n",
              "      <td>NaN</td>\n",
              "      <td>NaN</td>\n",
              "      <td>NaN</td>\n",
              "      <td>NaN</td>\n",
              "      <td>NaN</td>\n",
              "      <td>NaN</td>\n",
              "      <td>NaN</td>\n",
              "      <td>2.76</td>\n",
              "      <td>2.39</td>\n",
              "      <td>NaN</td>\n",
              "      <td>NaN</td>\n",
              "      <td>2.25</td>\n",
              "      <td>NaN</td>\n",
              "      <td>NaN</td>\n",
              "      <td>44.29</td>\n",
              "      <td>1</td>\n",
              "      <td>84.0</td>\n",
              "    </tr>\n",
              "    <tr>\n",
              "      <th>2</th>\n",
              "      <td>2022-06-01</td>\n",
              "      <td>763</td>\n",
              "      <td>487</td>\n",
              "      <td>7.0</td>\n",
              "      <td>36.12</td>\n",
              "      <td>NaN</td>\n",
              "      <td>NaN</td>\n",
              "      <td>NaN</td>\n",
              "      <td>NaN</td>\n",
              "      <td>NaN</td>\n",
              "      <td>NaN</td>\n",
              "      <td>NaN</td>\n",
              "      <td>NaN</td>\n",
              "      <td>NaN</td>\n",
              "      <td>NaN</td>\n",
              "      <td>NaN</td>\n",
              "      <td>NaN</td>\n",
              "      <td>NaN</td>\n",
              "      <td>NaN</td>\n",
              "      <td>NaN</td>\n",
              "      <td>NaN</td>\n",
              "      <td>NaN</td>\n",
              "      <td>NaN</td>\n",
              "      <td>NaN</td>\n",
              "      <td>NaN</td>\n",
              "      <td>NaN</td>\n",
              "      <td>NaN</td>\n",
              "      <td>NaN</td>\n",
              "      <td>NaN</td>\n",
              "      <td>NaN</td>\n",
              "      <td>NaN</td>\n",
              "      <td>NaN</td>\n",
              "      <td>NaN</td>\n",
              "      <td>NaN</td>\n",
              "      <td>NaN</td>\n",
              "      <td>NaN</td>\n",
              "      <td>NaN</td>\n",
              "      <td>NaN</td>\n",
              "      <td>36.12</td>\n",
              "      <td>2</td>\n",
              "      <td>334.0</td>\n",
              "    </tr>\n",
              "    <tr>\n",
              "      <th>3</th>\n",
              "      <td>2022-06-01</td>\n",
              "      <td>764</td>\n",
              "      <td>553</td>\n",
              "      <td>13.0</td>\n",
              "      <td>11.08</td>\n",
              "      <td>NaN</td>\n",
              "      <td>NaN</td>\n",
              "      <td>NaN</td>\n",
              "      <td>NaN</td>\n",
              "      <td>NaN</td>\n",
              "      <td>NaN</td>\n",
              "      <td>NaN</td>\n",
              "      <td>NaN</td>\n",
              "      <td>NaN</td>\n",
              "      <td>NaN</td>\n",
              "      <td>NaN</td>\n",
              "      <td>NaN</td>\n",
              "      <td>NaN</td>\n",
              "      <td>2.33</td>\n",
              "      <td>NaN</td>\n",
              "      <td>NaN</td>\n",
              "      <td>NaN</td>\n",
              "      <td>NaN</td>\n",
              "      <td>NaN</td>\n",
              "      <td>NaN</td>\n",
              "      <td>NaN</td>\n",
              "      <td>NaN</td>\n",
              "      <td>NaN</td>\n",
              "      <td>NaN</td>\n",
              "      <td>NaN</td>\n",
              "      <td>NaN</td>\n",
              "      <td>NaN</td>\n",
              "      <td>NaN</td>\n",
              "      <td>NaN</td>\n",
              "      <td>NaN</td>\n",
              "      <td>NaN</td>\n",
              "      <td>NaN</td>\n",
              "      <td>NaN</td>\n",
              "      <td>8.75</td>\n",
              "      <td>1</td>\n",
              "      <td>NaN</td>\n",
              "    </tr>\n",
              "    <tr>\n",
              "      <th>4</th>\n",
              "      <td>2022-06-01</td>\n",
              "      <td>765</td>\n",
              "      <td>277</td>\n",
              "      <td>45.0</td>\n",
              "      <td>33.95</td>\n",
              "      <td>NaN</td>\n",
              "      <td>NaN</td>\n",
              "      <td>NaN</td>\n",
              "      <td>NaN</td>\n",
              "      <td>NaN</td>\n",
              "      <td>NaN</td>\n",
              "      <td>NaN</td>\n",
              "      <td>NaN</td>\n",
              "      <td>NaN</td>\n",
              "      <td>NaN</td>\n",
              "      <td>5.6</td>\n",
              "      <td>NaN</td>\n",
              "      <td>1.67</td>\n",
              "      <td>NaN</td>\n",
              "      <td>NaN</td>\n",
              "      <td>NaN</td>\n",
              "      <td>NaN</td>\n",
              "      <td>NaN</td>\n",
              "      <td>NaN</td>\n",
              "      <td>NaN</td>\n",
              "      <td>NaN</td>\n",
              "      <td>NaN</td>\n",
              "      <td>NaN</td>\n",
              "      <td>NaN</td>\n",
              "      <td>NaN</td>\n",
              "      <td>NaN</td>\n",
              "      <td>NaN</td>\n",
              "      <td>NaN</td>\n",
              "      <td>NaN</td>\n",
              "      <td>NaN</td>\n",
              "      <td>NaN</td>\n",
              "      <td>NaN</td>\n",
              "      <td>NaN</td>\n",
              "      <td>26.68</td>\n",
              "      <td>3</td>\n",
              "      <td>23.0</td>\n",
              "    </tr>\n",
              "  </tbody>\n",
              "</table>\n",
              "</div>"
            ],
            "text/plain": [
              "   order_date  order_number  customer_id shipping_address_dept  Total  \\\n",
              "0  2022-06-01           761          328                  93.0  48.23   \n",
              "1  2022-06-01           762          552                  17.0  55.91   \n",
              "2  2022-06-01           763          487                   7.0  36.12   \n",
              "3  2022-06-01           764          553                  13.0  11.08   \n",
              "4  2022-06-01           765          277                  45.0  33.95   \n",
              "\n",
              "   SubCat_1  SubCat_2  SubCat_3  SubCat_4  SubCat_5  SubCat_6  SubCat_7  \\\n",
              "0       NaN       NaN       NaN       NaN       NaN       NaN       NaN   \n",
              "1       NaN       NaN      1.37       NaN       NaN       NaN       NaN   \n",
              "2       NaN       NaN       NaN       NaN       NaN       NaN       NaN   \n",
              "3       NaN       NaN       NaN       NaN       NaN       NaN       NaN   \n",
              "4       NaN       NaN       NaN       NaN       NaN       NaN       NaN   \n",
              "\n",
              "   SubCat_8  SubCat_9  SubCat_10  SubCat_11  SubCat_12  SubCat_13  SubCat_14  \\\n",
              "0       NaN      1.65        NaN        NaN        NaN        NaN        NaN   \n",
              "1       NaN       NaN        NaN        NaN       2.85        NaN        NaN   \n",
              "2       NaN       NaN        NaN        NaN        NaN        NaN        NaN   \n",
              "3       NaN       NaN        NaN        NaN        NaN        NaN       2.33   \n",
              "4       NaN       NaN        NaN        5.6        NaN       1.67        NaN   \n",
              "\n",
              "   SubCat_15  SubCat_16  SubCat_17  SubCat_18  SubCat_19  SubCat_20  \\\n",
              "0        NaN        NaN        NaN        NaN        NaN        NaN   \n",
              "1        NaN        NaN        NaN        NaN        NaN        NaN   \n",
              "2        NaN        NaN        NaN        NaN        NaN        NaN   \n",
              "3        NaN        NaN        NaN        NaN        NaN        NaN   \n",
              "4        NaN        NaN        NaN        NaN        NaN        NaN   \n",
              "\n",
              "   SubCat_21  SubCat_22  SubCat_23  SubCat_24  SubCat_25  SubCat_26  \\\n",
              "0        NaN        NaN        NaN        NaN        NaN        NaN   \n",
              "1        NaN        NaN        NaN        NaN        NaN        NaN   \n",
              "2        NaN        NaN        NaN        NaN        NaN        NaN   \n",
              "3        NaN        NaN        NaN        NaN        NaN        NaN   \n",
              "4        NaN        NaN        NaN        NaN        NaN        NaN   \n",
              "\n",
              "   SubCat_27  SubCat_28  SubCat_29  SubCat_30  SubCat_31  SubCat_32  \\\n",
              "0       2.34        NaN        NaN        NaN        NaN        NaN   \n",
              "1       2.76       2.39        NaN        NaN       2.25        NaN   \n",
              "2        NaN        NaN        NaN        NaN        NaN        NaN   \n",
              "3        NaN        NaN        NaN        NaN        NaN        NaN   \n",
              "4        NaN        NaN        NaN        NaN        NaN        NaN   \n",
              "\n",
              "   SubCat_33  Uncategorized  order_index  days_to_next_order  \n",
              "0        NaN          44.24            4                40.0  \n",
              "1        NaN          44.29            1                84.0  \n",
              "2        NaN          36.12            2               334.0  \n",
              "3        NaN           8.75            1                 NaN  \n",
              "4        NaN          26.68            3                23.0  "
            ]
          },
          "execution_count": 79,
          "metadata": {},
          "output_type": "execute_result"
        }
      ],
      "source": [
        "# Read the data and rename the columns to be BiqQuery friendly (no spaces).\n",
        "data = pd.read_csv(DATA_PATH)\n",
        "\n",
        "n, p = data.shape\n",
        "data.head()"
      ]
    },
    {
      "cell_type": "code",
      "execution_count": 80,
      "id": "28344ab6",
      "metadata": {},
      "outputs": [],
      "source": [
        "# rename columns\n",
        "data.columns = data.columns.str.lower()\n",
        "data.columns = [f'value_{col}' if col.startswith('subcat') else col for col in data.columns]\n",
        "data.rename(columns={\"total\": \"value\", \"uncategorized\": \"value_uncategorized\"}, inplace=True)"
      ]
    },
    {
      "cell_type": "code",
      "execution_count": 81,
      "id": "a3b9001a",
      "metadata": {},
      "outputs": [],
      "source": [
        "value_cols = [col for col in data.columns if col.startswith(\"value_\")]\n",
        "\n",
        "# replace na with 0 since na means category product is not ordered\n",
        "data[value_cols] = data[value_cols].fillna(0)\n",
        "\n",
        "# create value column as sum of per category value\n",
        "data[\"value\"] = data[value_cols].sum(axis=1)"
      ]
    },
    {
      "cell_type": "code",
      "execution_count": 83,
      "id": "8dfd12f5",
      "metadata": {},
      "outputs": [],
      "source": [
        "# convert order_index to category\n",
        "data[\"order_index\"] = data[\"order_index\"].astype(\"string\")"
      ]
    },
    {
      "cell_type": "code",
      "execution_count": null,
      "id": "0b471eee",
      "metadata": {},
      "outputs": [
        {
          "data": {
            "text/plain": [
              "array(['93', '17', '7', '13', '45', '66', '84', '92', '34', '77', '31',\n",
              "       '22', '75', '60', '78', '56', '38', '35', '65', '68', '19', '86',\n",
              "       '59', '49', '30', '83', '62', '76', '44', '14', '73', '43', '54',\n",
              "       '80', '12', '2', '8', '39', '47', '6', '61', '95', '27', '89',\n",
              "       '74', '91', '85', '33', '4', '69', '24', '81', '55', '67', '28',\n",
              "       '10', '87', '51', '18', '94', '1', '37', '11', '58', '5', '26',\n",
              "       '57', '40', '21', '42', '29', '23', '16', '25', '64', '72', '70',\n",
              "       '88', '53', '71', '3', '63', '41', '82', '20', '32', '36', '50',\n",
              "       '9', '79', '46', None, '15', '48', '52', '90'], dtype=object)"
            ]
          },
          "execution_count": 86,
          "metadata": {},
          "output_type": "execute_result"
        }
      ],
      "source": [
        "# process shipping_address_dept\n",
        "data[\"shipping_address_dept\"] = data[\"shipping_address_dept\"].apply(\n",
        "    process_department_code\n",
        ")\n",
        "\n",
        "data.shipping_address_dept.unique()"
      ]
    },
    {
      "cell_type": "code",
      "execution_count": 88,
      "id": "9283b920",
      "metadata": {},
      "outputs": [
        {
          "data": {
            "text/plain": [
              "array(['reg8', 'reg10', 'reg1', 'reg13', 'reg4', 'reg11', 'reg3', 'reg7',\n",
              "       'reg6', 'reg12', 'reg9', 'reg2', 'reg5', None], dtype=object)"
            ]
          },
          "execution_count": 88,
          "metadata": {},
          "output_type": "execute_result"
        }
      ],
      "source": [
        "# add region code\n",
        "data[\"shipping_address_reg\"] = data[\"shipping_address_dept\"].apply(get_region_code)\n",
        "data.shipping_address_reg.unique()"
      ]
    },
    {
      "cell_type": "code",
      "execution_count": 92,
      "id": "6cd2dcd1",
      "metadata": {},
      "outputs": [
        {
          "data": {
            "text/plain": [
              "array([None], dtype=object)"
            ]
          },
          "execution_count": 92,
          "metadata": {},
          "output_type": "execute_result"
        }
      ],
      "source": [
        "data[data.shipping_address_reg.isna()].shipping_address_dept.unique()"
      ]
    },
    {
      "cell_type": "code",
      "execution_count": null,
      "id": "ef76295a",
      "metadata": {},
      "outputs": [
        {
          "name": "stdout",
          "output_type": "stream",
          "text": [
            "186 rows removed\n"
          ]
        },
        {
          "name": "stderr",
          "output_type": "stream",
          "text": [
            "/var/folders/xm/1rh109312dq4h3d2zvqwmj9h0000gp/T/ipykernel_10546/2196618823.py:2: DeprecationWarning: DataFrameGroupBy.apply operated on the grouping columns. This behavior is deprecated, and in a future version of pandas the grouping columns will be excluded from the operation. Either pass `include_groups=False` to exclude the groupings or explicitly select the grouping columns after groupby to silence this warning.\n",
            "  data = data.groupby([\"customer_id\", \"order_date\"]).apply(lambda x: x.loc[x.order_number.idxmin()])\n"
          ]
        }
      ],
      "source": [
        "# select one row per day for each customer\n",
        "data = data.groupby([CUSTOMER_ID_COLUMN, DATE_COLUMN]).apply(lambda x: x.loc[x.order_number.idxmin()])\n",
        "data.reset_index(drop=True, inplace=True)\n",
        "\n",
        "print(f\"{n - data.shape[0]} rows removed\")"
      ]
    },
    {
      "cell_type": "code",
      "execution_count": 97,
      "id": "1788c042",
      "metadata": {},
      "outputs": [],
      "source": [
        "data.sort_values(by=[CUSTOMER_ID_COLUMN, DATE_COLUMN], ascending=[True, True], inplace=True)\n",
        "data.reset_index(drop=True, inplace=True)"
      ]
    },
    {
      "cell_type": "code",
      "execution_count": 98,
      "id": "e83803de",
      "metadata": {},
      "outputs": [
        {
          "data": {
            "text/html": [
              "<div>\n",
              "<style scoped>\n",
              "    .dataframe tbody tr th:only-of-type {\n",
              "        vertical-align: middle;\n",
              "    }\n",
              "\n",
              "    .dataframe tbody tr th {\n",
              "        vertical-align: top;\n",
              "    }\n",
              "\n",
              "    .dataframe thead th {\n",
              "        text-align: right;\n",
              "    }\n",
              "</style>\n",
              "<table border=\"1\" class=\"dataframe\">\n",
              "  <thead>\n",
              "    <tr style=\"text-align: right;\">\n",
              "      <th></th>\n",
              "      <th>order_date</th>\n",
              "      <th>order_number</th>\n",
              "      <th>customer_id</th>\n",
              "      <th>shipping_address_dept</th>\n",
              "      <th>value</th>\n",
              "      <th>value_subcat_1</th>\n",
              "      <th>value_subcat_2</th>\n",
              "      <th>value_subcat_3</th>\n",
              "      <th>value_subcat_4</th>\n",
              "      <th>value_subcat_5</th>\n",
              "      <th>value_subcat_6</th>\n",
              "      <th>value_subcat_7</th>\n",
              "      <th>value_subcat_8</th>\n",
              "      <th>value_subcat_9</th>\n",
              "      <th>value_subcat_10</th>\n",
              "      <th>value_subcat_11</th>\n",
              "      <th>value_subcat_12</th>\n",
              "      <th>value_subcat_13</th>\n",
              "      <th>value_subcat_14</th>\n",
              "      <th>value_subcat_15</th>\n",
              "      <th>value_subcat_16</th>\n",
              "      <th>value_subcat_17</th>\n",
              "      <th>value_subcat_18</th>\n",
              "      <th>value_subcat_19</th>\n",
              "      <th>value_subcat_20</th>\n",
              "      <th>value_subcat_21</th>\n",
              "      <th>value_subcat_22</th>\n",
              "      <th>value_subcat_23</th>\n",
              "      <th>value_subcat_24</th>\n",
              "      <th>value_subcat_25</th>\n",
              "      <th>value_subcat_26</th>\n",
              "      <th>value_subcat_27</th>\n",
              "      <th>value_subcat_28</th>\n",
              "      <th>value_subcat_29</th>\n",
              "      <th>value_subcat_30</th>\n",
              "      <th>value_subcat_31</th>\n",
              "      <th>value_subcat_32</th>\n",
              "      <th>value_subcat_33</th>\n",
              "      <th>value_uncategorized</th>\n",
              "      <th>order_index</th>\n",
              "      <th>days_to_next_order</th>\n",
              "      <th>shipping_address_reg</th>\n",
              "    </tr>\n",
              "  </thead>\n",
              "  <tbody>\n",
              "    <tr>\n",
              "      <th>0</th>\n",
              "      <td>2023-06-06</td>\n",
              "      <td>10633</td>\n",
              "      <td>3</td>\n",
              "      <td>93</td>\n",
              "      <td>47.12</td>\n",
              "      <td>0.0</td>\n",
              "      <td>0.00</td>\n",
              "      <td>0.0</td>\n",
              "      <td>0.0</td>\n",
              "      <td>0.00</td>\n",
              "      <td>0.0</td>\n",
              "      <td>0.00</td>\n",
              "      <td>47.12</td>\n",
              "      <td>0.0</td>\n",
              "      <td>0.0</td>\n",
              "      <td>0.0</td>\n",
              "      <td>0.00</td>\n",
              "      <td>0.0</td>\n",
              "      <td>0.00</td>\n",
              "      <td>0.0</td>\n",
              "      <td>0.0</td>\n",
              "      <td>0.0</td>\n",
              "      <td>0.0</td>\n",
              "      <td>0.0</td>\n",
              "      <td>0.0</td>\n",
              "      <td>0.0</td>\n",
              "      <td>0.0</td>\n",
              "      <td>0.0</td>\n",
              "      <td>0.0</td>\n",
              "      <td>0.0</td>\n",
              "      <td>0.00</td>\n",
              "      <td>0.0</td>\n",
              "      <td>0.00</td>\n",
              "      <td>0.00</td>\n",
              "      <td>0.0</td>\n",
              "      <td>0.00</td>\n",
              "      <td>0.0</td>\n",
              "      <td>0.0</td>\n",
              "      <td>0.00</td>\n",
              "      <td>5</td>\n",
              "      <td>NaN</td>\n",
              "      <td>reg8</td>\n",
              "    </tr>\n",
              "    <tr>\n",
              "      <th>1</th>\n",
              "      <td>2023-03-29</td>\n",
              "      <td>8290</td>\n",
              "      <td>5</td>\n",
              "      <td>34</td>\n",
              "      <td>40.04</td>\n",
              "      <td>0.0</td>\n",
              "      <td>0.00</td>\n",
              "      <td>0.0</td>\n",
              "      <td>0.0</td>\n",
              "      <td>0.00</td>\n",
              "      <td>0.0</td>\n",
              "      <td>12.65</td>\n",
              "      <td>0.00</td>\n",
              "      <td>0.0</td>\n",
              "      <td>0.0</td>\n",
              "      <td>0.0</td>\n",
              "      <td>12.64</td>\n",
              "      <td>0.0</td>\n",
              "      <td>6.64</td>\n",
              "      <td>0.0</td>\n",
              "      <td>0.0</td>\n",
              "      <td>0.0</td>\n",
              "      <td>0.0</td>\n",
              "      <td>0.0</td>\n",
              "      <td>0.0</td>\n",
              "      <td>0.0</td>\n",
              "      <td>0.0</td>\n",
              "      <td>0.0</td>\n",
              "      <td>5.4</td>\n",
              "      <td>0.0</td>\n",
              "      <td>0.00</td>\n",
              "      <td>0.0</td>\n",
              "      <td>0.00</td>\n",
              "      <td>0.00</td>\n",
              "      <td>0.0</td>\n",
              "      <td>2.71</td>\n",
              "      <td>0.0</td>\n",
              "      <td>0.0</td>\n",
              "      <td>0.00</td>\n",
              "      <td>3</td>\n",
              "      <td>46.0</td>\n",
              "      <td>reg11</td>\n",
              "    </tr>\n",
              "    <tr>\n",
              "      <th>2</th>\n",
              "      <td>2023-05-14</td>\n",
              "      <td>9841</td>\n",
              "      <td>5</td>\n",
              "      <td>34</td>\n",
              "      <td>44.62</td>\n",
              "      <td>0.0</td>\n",
              "      <td>0.00</td>\n",
              "      <td>0.0</td>\n",
              "      <td>0.0</td>\n",
              "      <td>0.00</td>\n",
              "      <td>0.0</td>\n",
              "      <td>3.22</td>\n",
              "      <td>0.00</td>\n",
              "      <td>0.0</td>\n",
              "      <td>0.0</td>\n",
              "      <td>0.0</td>\n",
              "      <td>20.20</td>\n",
              "      <td>0.0</td>\n",
              "      <td>0.00</td>\n",
              "      <td>0.0</td>\n",
              "      <td>0.0</td>\n",
              "      <td>0.0</td>\n",
              "      <td>0.0</td>\n",
              "      <td>0.0</td>\n",
              "      <td>0.0</td>\n",
              "      <td>0.0</td>\n",
              "      <td>0.0</td>\n",
              "      <td>0.0</td>\n",
              "      <td>0.0</td>\n",
              "      <td>0.0</td>\n",
              "      <td>4.05</td>\n",
              "      <td>0.0</td>\n",
              "      <td>5.31</td>\n",
              "      <td>8.63</td>\n",
              "      <td>0.0</td>\n",
              "      <td>3.21</td>\n",
              "      <td>0.0</td>\n",
              "      <td>0.0</td>\n",
              "      <td>0.00</td>\n",
              "      <td>4</td>\n",
              "      <td>NaN</td>\n",
              "      <td>reg11</td>\n",
              "    </tr>\n",
              "    <tr>\n",
              "      <th>3</th>\n",
              "      <td>2022-07-27</td>\n",
              "      <td>1691</td>\n",
              "      <td>6</td>\n",
              "      <td>87</td>\n",
              "      <td>32.64</td>\n",
              "      <td>0.0</td>\n",
              "      <td>1.35</td>\n",
              "      <td>0.0</td>\n",
              "      <td>0.0</td>\n",
              "      <td>4.62</td>\n",
              "      <td>0.0</td>\n",
              "      <td>0.00</td>\n",
              "      <td>0.00</td>\n",
              "      <td>0.0</td>\n",
              "      <td>0.0</td>\n",
              "      <td>0.0</td>\n",
              "      <td>0.00</td>\n",
              "      <td>0.0</td>\n",
              "      <td>2.78</td>\n",
              "      <td>0.0</td>\n",
              "      <td>0.0</td>\n",
              "      <td>0.0</td>\n",
              "      <td>0.0</td>\n",
              "      <td>0.0</td>\n",
              "      <td>0.0</td>\n",
              "      <td>0.0</td>\n",
              "      <td>0.0</td>\n",
              "      <td>0.0</td>\n",
              "      <td>0.0</td>\n",
              "      <td>0.0</td>\n",
              "      <td>0.00</td>\n",
              "      <td>0.0</td>\n",
              "      <td>0.00</td>\n",
              "      <td>0.00</td>\n",
              "      <td>0.0</td>\n",
              "      <td>0.00</td>\n",
              "      <td>0.0</td>\n",
              "      <td>0.0</td>\n",
              "      <td>23.89</td>\n",
              "      <td>4</td>\n",
              "      <td>0.0</td>\n",
              "      <td>reg10</td>\n",
              "    </tr>\n",
              "    <tr>\n",
              "      <th>4</th>\n",
              "      <td>2022-09-15</td>\n",
              "      <td>2284</td>\n",
              "      <td>6</td>\n",
              "      <td>87</td>\n",
              "      <td>36.12</td>\n",
              "      <td>0.0</td>\n",
              "      <td>0.00</td>\n",
              "      <td>0.0</td>\n",
              "      <td>0.0</td>\n",
              "      <td>0.00</td>\n",
              "      <td>0.0</td>\n",
              "      <td>0.00</td>\n",
              "      <td>0.00</td>\n",
              "      <td>0.0</td>\n",
              "      <td>0.0</td>\n",
              "      <td>0.0</td>\n",
              "      <td>0.00</td>\n",
              "      <td>0.0</td>\n",
              "      <td>0.00</td>\n",
              "      <td>0.0</td>\n",
              "      <td>0.0</td>\n",
              "      <td>0.0</td>\n",
              "      <td>0.0</td>\n",
              "      <td>0.0</td>\n",
              "      <td>0.0</td>\n",
              "      <td>0.0</td>\n",
              "      <td>0.0</td>\n",
              "      <td>0.0</td>\n",
              "      <td>0.0</td>\n",
              "      <td>0.0</td>\n",
              "      <td>0.00</td>\n",
              "      <td>0.0</td>\n",
              "      <td>0.00</td>\n",
              "      <td>0.00</td>\n",
              "      <td>0.0</td>\n",
              "      <td>0.00</td>\n",
              "      <td>0.0</td>\n",
              "      <td>0.0</td>\n",
              "      <td>36.12</td>\n",
              "      <td>6</td>\n",
              "      <td>16.0</td>\n",
              "      <td>reg10</td>\n",
              "    </tr>\n",
              "  </tbody>\n",
              "</table>\n",
              "</div>"
            ],
            "text/plain": [
              "   order_date  order_number  customer_id shipping_address_dept  value  \\\n",
              "0  2023-06-06         10633            3                    93  47.12   \n",
              "1  2023-03-29          8290            5                    34  40.04   \n",
              "2  2023-05-14          9841            5                    34  44.62   \n",
              "3  2022-07-27          1691            6                    87  32.64   \n",
              "4  2022-09-15          2284            6                    87  36.12   \n",
              "\n",
              "   value_subcat_1  value_subcat_2  value_subcat_3  value_subcat_4  \\\n",
              "0             0.0            0.00             0.0             0.0   \n",
              "1             0.0            0.00             0.0             0.0   \n",
              "2             0.0            0.00             0.0             0.0   \n",
              "3             0.0            1.35             0.0             0.0   \n",
              "4             0.0            0.00             0.0             0.0   \n",
              "\n",
              "   value_subcat_5  value_subcat_6  value_subcat_7  value_subcat_8  \\\n",
              "0            0.00             0.0            0.00           47.12   \n",
              "1            0.00             0.0           12.65            0.00   \n",
              "2            0.00             0.0            3.22            0.00   \n",
              "3            4.62             0.0            0.00            0.00   \n",
              "4            0.00             0.0            0.00            0.00   \n",
              "\n",
              "   value_subcat_9  value_subcat_10  value_subcat_11  value_subcat_12  \\\n",
              "0             0.0              0.0              0.0             0.00   \n",
              "1             0.0              0.0              0.0            12.64   \n",
              "2             0.0              0.0              0.0            20.20   \n",
              "3             0.0              0.0              0.0             0.00   \n",
              "4             0.0              0.0              0.0             0.00   \n",
              "\n",
              "   value_subcat_13  value_subcat_14  value_subcat_15  value_subcat_16  \\\n",
              "0              0.0             0.00              0.0              0.0   \n",
              "1              0.0             6.64              0.0              0.0   \n",
              "2              0.0             0.00              0.0              0.0   \n",
              "3              0.0             2.78              0.0              0.0   \n",
              "4              0.0             0.00              0.0              0.0   \n",
              "\n",
              "   value_subcat_17  value_subcat_18  value_subcat_19  value_subcat_20  \\\n",
              "0              0.0              0.0              0.0              0.0   \n",
              "1              0.0              0.0              0.0              0.0   \n",
              "2              0.0              0.0              0.0              0.0   \n",
              "3              0.0              0.0              0.0              0.0   \n",
              "4              0.0              0.0              0.0              0.0   \n",
              "\n",
              "   value_subcat_21  value_subcat_22  value_subcat_23  value_subcat_24  \\\n",
              "0              0.0              0.0              0.0              0.0   \n",
              "1              0.0              0.0              0.0              5.4   \n",
              "2              0.0              0.0              0.0              0.0   \n",
              "3              0.0              0.0              0.0              0.0   \n",
              "4              0.0              0.0              0.0              0.0   \n",
              "\n",
              "   value_subcat_25  value_subcat_26  value_subcat_27  value_subcat_28  \\\n",
              "0              0.0             0.00              0.0             0.00   \n",
              "1              0.0             0.00              0.0             0.00   \n",
              "2              0.0             4.05              0.0             5.31   \n",
              "3              0.0             0.00              0.0             0.00   \n",
              "4              0.0             0.00              0.0             0.00   \n",
              "\n",
              "   value_subcat_29  value_subcat_30  value_subcat_31  value_subcat_32  \\\n",
              "0             0.00              0.0             0.00              0.0   \n",
              "1             0.00              0.0             2.71              0.0   \n",
              "2             8.63              0.0             3.21              0.0   \n",
              "3             0.00              0.0             0.00              0.0   \n",
              "4             0.00              0.0             0.00              0.0   \n",
              "\n",
              "   value_subcat_33  value_uncategorized order_index  days_to_next_order  \\\n",
              "0              0.0                 0.00           5                 NaN   \n",
              "1              0.0                 0.00           3                46.0   \n",
              "2              0.0                 0.00           4                 NaN   \n",
              "3              0.0                23.89           4                 0.0   \n",
              "4              0.0                36.12           6                16.0   \n",
              "\n",
              "  shipping_address_reg  \n",
              "0                 reg8  \n",
              "1                reg11  \n",
              "2                reg11  \n",
              "3                reg10  \n",
              "4                reg10  "
            ]
          },
          "execution_count": 98,
          "metadata": {},
          "output_type": "execute_result"
        }
      ],
      "source": [
        "data.head()"
      ]
    },
    {
      "cell_type": "code",
      "execution_count": 102,
      "id": "eeb4512b",
      "metadata": {},
      "outputs": [
        {
          "name": "stdout",
          "output_type": "stream",
          "text": [
            "<class 'pandas.core.frame.DataFrame'>\n",
            "RangeIndex: 53319 entries, 0 to 53318\n",
            "Data columns (total 42 columns):\n",
            " #   Column                 Non-Null Count  Dtype  \n",
            "---  ------                 --------------  -----  \n",
            " 0   order_date             53319 non-null  object \n",
            " 1   order_number           53319 non-null  int64  \n",
            " 2   customer_id            53319 non-null  int64  \n",
            " 3   shipping_address_dept  53032 non-null  object \n",
            " 4   value                  53319 non-null  float64\n",
            " 5   value_subcat_1         53319 non-null  float64\n",
            " 6   value_subcat_2         53319 non-null  float64\n",
            " 7   value_subcat_3         53319 non-null  float64\n",
            " 8   value_subcat_4         53319 non-null  float64\n",
            " 9   value_subcat_5         53319 non-null  float64\n",
            " 10  value_subcat_6         53319 non-null  float64\n",
            " 11  value_subcat_7         53319 non-null  float64\n",
            " 12  value_subcat_8         53319 non-null  float64\n",
            " 13  value_subcat_9         53319 non-null  float64\n",
            " 14  value_subcat_10        53319 non-null  float64\n",
            " 15  value_subcat_11        53319 non-null  float64\n",
            " 16  value_subcat_12        53319 non-null  float64\n",
            " 17  value_subcat_13        53319 non-null  float64\n",
            " 18  value_subcat_14        53319 non-null  float64\n",
            " 19  value_subcat_15        53319 non-null  float64\n",
            " 20  value_subcat_16        53319 non-null  float64\n",
            " 21  value_subcat_17        53319 non-null  float64\n",
            " 22  value_subcat_18        53319 non-null  float64\n",
            " 23  value_subcat_19        53319 non-null  float64\n",
            " 24  value_subcat_20        53319 non-null  float64\n",
            " 25  value_subcat_21        53319 non-null  float64\n",
            " 26  value_subcat_22        53319 non-null  float64\n",
            " 27  value_subcat_23        53319 non-null  float64\n",
            " 28  value_subcat_24        53319 non-null  float64\n",
            " 29  value_subcat_25        53319 non-null  float64\n",
            " 30  value_subcat_26        53319 non-null  float64\n",
            " 31  value_subcat_27        53319 non-null  float64\n",
            " 32  value_subcat_28        53319 non-null  float64\n",
            " 33  value_subcat_29        53319 non-null  float64\n",
            " 34  value_subcat_30        53319 non-null  float64\n",
            " 35  value_subcat_31        53319 non-null  float64\n",
            " 36  value_subcat_32        53319 non-null  float64\n",
            " 37  value_subcat_33        53319 non-null  float64\n",
            " 38  value_uncategorized    53319 non-null  float64\n",
            " 39  order_index            53319 non-null  object \n",
            " 40  days_to_next_order     27457 non-null  float64\n",
            " 41  shipping_address_reg   53032 non-null  object \n",
            "dtypes: float64(36), int64(2), object(4)\n",
            "memory usage: 17.1+ MB\n"
          ]
        }
      ],
      "source": [
        "data.info()"
      ]
    },
    {
      "cell_type": "markdown",
      "id": "1O4OhKV5Y37u",
      "metadata": {
        "id": "1O4OhKV5Y37u"
      },
      "source": [
        "# Initializing Crystalvalue"
      ]
    },
    {
      "cell_type": "markdown",
      "id": "XMYviqrPHbKD",
      "metadata": {
        "id": "XMYviqrPHbKD"
      },
      "source": [
        "First create a dataset in [Bigquery](https://console.cloud.google.com/bigquery) that will be used for this analysis if you don\"t already have one. The dataset location should be in a [location that Vertex AI services are available](https://cloud.google.com/vertex-ai/docs/general/locations#available_regions). "
      ]
    },
    {
      "cell_type": "code",
      "execution_count": 109,
      "id": "fe917185",
      "metadata": {},
      "outputs": [
        {
          "data": {
            "text/plain": [
              "'crystalvalue_20250424_104512'"
            ]
          },
          "execution_count": 109,
          "metadata": {},
          "output_type": "execute_result"
        }
      ],
      "source": [
        "ignore_columns = [\"order_number\", \"days_to_next_order\", \"shipping_address_dept\"]\n",
        "gcp_dataset_id = get_dataset_id()\n",
        "gcp_dataset_id"
      ]
    },
    {
      "cell_type": "code",
      "execution_count": 117,
      "id": "gCVphBgXY37w",
      "metadata": {
        "id": "gCVphBgXY37w"
      },
      "outputs": [
        {
          "name": "stderr",
          "output_type": "stream",
          "text": [
            "INFO:absl:Using Google Cloud Project: 'pltv-457408'\n",
            "INFO:absl:Using dataset_id: 'crystalvalue_20250424_104512'\n",
            "INFO:absl:Using Google Cloud location: 'europe-west4'\n",
            "INFO:absl:Using customer id column in input table: 'customer_id'\n",
            "INFO:absl:Using date column in input table: 'order_date'\n",
            "INFO:absl:Using value column in input table: 'value'\n",
            "INFO:absl:Using days_lookback for feature calculation: 0\n",
            "INFO:absl:Using days_lookahead for value prediction: 365\n",
            "INFO:absl:Using trigger_event_date_column for value prediction: None\n",
            "INFO:absl:Parameters writen to file: 'data/crystalvalue_parameters.json'\n"
          ]
        }
      ],
      "source": [
        "pipeline = crystalvalue.CrystalValue(\n",
        "    dataset_id=gcp_dataset_id,\n",
        "    ignore_columns=ignore_columns,\n",
        "    **CRYSTALVALUE_KWARGS\n",
        ")  "
      ]
    },
    {
      "cell_type": "code",
      "execution_count": 118,
      "id": "0qlNEnCjcL9f",
      "metadata": {
        "id": "0qlNEnCjcL9f"
      },
      "outputs": [],
      "source": [
        "pipeline.load_dataframe_to_bigquery(data=data, bq_table_name=GCP_TABLE_ID)"
      ]
    },
    {
      "cell_type": "markdown",
      "id": "FHC77gHNcRDP",
      "metadata": {
        "id": "FHC77gHNcRDP"
      },
      "source": [
        "# Data Checks (Optional)"
      ]
    },
    {
      "cell_type": "markdown",
      "id": "xIfjG7zNcVtx",
      "metadata": {
        "id": "xIfjG7zNcVtx"
      },
      "source": [
        "CrystalValue will run some checks on your data to check if the data is suitable for LTV modelling and raise errors if not. This will also output a new BigQuery table in your dataset called `crystalvalue_data_statistics` with key information such as the number of customers, customer return rate, transactions and analysis time period. This information can be used to check for outliers or anomalies (e.g. negative prices). "
      ]
    },
    {
      "cell_type": "code",
      "execution_count": 119,
      "id": "CTiZxBvrcSeV",
      "metadata": {
        "id": "CTiZxBvrcSeV"
      },
      "outputs": [
        {
          "name": "stderr",
          "output_type": "stream",
          "text": [
            "/Users/pierre-emmanuel/Documents/freelance/pltv/venv/lib/python3.9/site-packages/google/cloud/bigquery/table.py:1933: UserWarning: BigQuery Storage module not found, fetch data with the REST endpoint instead.\n",
            "  warnings.warn(\n",
            "INFO:root:Creating table 'pltv-457408.crystalvalue_20250424_104512.crystalvalue_data_statistics' in location 'europe-west4'\n"
          ]
        }
      ],
      "source": [
        "summary_statistics = pipeline.run_data_checks(transaction_table_name=GCP_TABLE_ID)"
      ]
    },
    {
      "cell_type": "code",
      "execution_count": 120,
      "id": "e4f524c8",
      "metadata": {},
      "outputs": [
        {
          "data": {
            "text/html": [
              "<div>\n",
              "<style scoped>\n",
              "    .dataframe tbody tr th:only-of-type {\n",
              "        vertical-align: middle;\n",
              "    }\n",
              "\n",
              "    .dataframe tbody tr th {\n",
              "        vertical-align: top;\n",
              "    }\n",
              "\n",
              "    .dataframe thead th {\n",
              "        text-align: right;\n",
              "    }\n",
              "</style>\n",
              "<table border=\"1\" class=\"dataframe\">\n",
              "  <thead>\n",
              "    <tr style=\"text-align: right;\">\n",
              "      <th></th>\n",
              "      <th>number_of_rows</th>\n",
              "      <th>number_of_customers</th>\n",
              "      <th>number_of_transactions</th>\n",
              "      <th>total_analysis_days</th>\n",
              "      <th>number_of_days_with_data</th>\n",
              "      <th>max_transaction_date</th>\n",
              "      <th>min_transaction_date</th>\n",
              "      <th>lookahead_customer_return_rate</th>\n",
              "      <th>lookahead_customer_mean_returns</th>\n",
              "      <th>lookahead_customer_conditional_mean_returns</th>\n",
              "      <th>value_mean</th>\n",
              "      <th>value_std</th>\n",
              "      <th>value_min</th>\n",
              "      <th>value_25_quantile</th>\n",
              "      <th>value_50_quantile</th>\n",
              "      <th>value_75_quantile</th>\n",
              "      <th>value_max</th>\n",
              "      <th>transactions_per_customer_mean</th>\n",
              "      <th>transactions_per_customer_std</th>\n",
              "      <th>transactions_per_customer_min</th>\n",
              "      <th>transactions_per_customer_25_quantile</th>\n",
              "      <th>transactions_per_customer_50_quantile</th>\n",
              "      <th>transactions_per_customer_75_quantile</th>\n",
              "      <th>transactions_per_customer_max</th>\n",
              "    </tr>\n",
              "  </thead>\n",
              "  <tbody>\n",
              "    <tr>\n",
              "      <th>statistics</th>\n",
              "      <td>53319</td>\n",
              "      <td>25913</td>\n",
              "      <td>53317</td>\n",
              "      <td>1049</td>\n",
              "      <td>1050</td>\n",
              "      <td>2025-04-15</td>\n",
              "      <td>2022-06-01</td>\n",
              "      <td>0.55</td>\n",
              "      <td>2.37</td>\n",
              "      <td>4.28</td>\n",
              "      <td>49.8</td>\n",
              "      <td>32.97</td>\n",
              "      <td>0.0</td>\n",
              "      <td>39.09</td>\n",
              "      <td>42.6</td>\n",
              "      <td>60.88</td>\n",
              "      <td>2684.79</td>\n",
              "      <td>2.06</td>\n",
              "      <td>2.72</td>\n",
              "      <td>1.0</td>\n",
              "      <td>1.0</td>\n",
              "      <td>1.0</td>\n",
              "      <td>2.0</td>\n",
              "      <td>49.0</td>\n",
              "    </tr>\n",
              "  </tbody>\n",
              "</table>\n",
              "</div>"
            ],
            "text/plain": [
              "           number_of_rows number_of_customers number_of_transactions  \\\n",
              "statistics          53319               25913                  53317   \n",
              "\n",
              "           total_analysis_days number_of_days_with_data max_transaction_date  \\\n",
              "statistics                1049                     1050           2025-04-15   \n",
              "\n",
              "           min_transaction_date lookahead_customer_return_rate  \\\n",
              "statistics           2022-06-01                           0.55   \n",
              "\n",
              "           lookahead_customer_mean_returns  \\\n",
              "statistics                            2.37   \n",
              "\n",
              "           lookahead_customer_conditional_mean_returns value_mean value_std  \\\n",
              "statistics                                        4.28       49.8     32.97   \n",
              "\n",
              "           value_min value_25_quantile value_50_quantile value_75_quantile  \\\n",
              "statistics       0.0             39.09              42.6             60.88   \n",
              "\n",
              "           value_max transactions_per_customer_mean  \\\n",
              "statistics   2684.79                           2.06   \n",
              "\n",
              "           transactions_per_customer_std transactions_per_customer_min  \\\n",
              "statistics                          2.72                           1.0   \n",
              "\n",
              "           transactions_per_customer_25_quantile  \\\n",
              "statistics                                   1.0   \n",
              "\n",
              "           transactions_per_customer_50_quantile  \\\n",
              "statistics                                   1.0   \n",
              "\n",
              "           transactions_per_customer_75_quantile transactions_per_customer_max  \n",
              "statistics                                   2.0                          49.0  "
            ]
          },
          "execution_count": 120,
          "metadata": {},
          "output_type": "execute_result"
        }
      ],
      "source": [
        "summary_statistics"
      ]
    },
    {
      "cell_type": "markdown",
      "id": "afd6f4f0",
      "metadata": {},
      "source": [
        "- `lookahead_customer_return_rate`\n",
        "    - **taux de retour (oui/non)**\n",
        "    - proportion de clients qui ont **au moins une tx future** dans la fenêtre de `days_lookahead`\n",
        "    - mesure de récurrence\n",
        "\n",
        "- `lookahead_customer_mean_returns`\n",
        "    - **jours moyens d’activité future (tous clients)**\n",
        "    - nombre moyen de **jours avec une tx** dans la fenêtre de `lookahead`, par tx\n",
        "    - **combien de jours** sont “actifs” dans la période `lookahead` après chaque tx\n",
        "\n",
        "- `lookahead_customer_conditional_mean_returns`\n",
        "    - **jours moyens d’activité chez ceux qui reviennent**\n",
        "    - moyenne du nombre de jours avec transaction, uniquement chez ceux qui reviennent au moins une fois"
      ]
    },
    {
      "cell_type": "markdown",
      "id": "emCUVYhLFnla",
      "metadata": {
        "id": "emCUVYhLFnla"
      },
      "source": [
        "If a custom data cleaning routine has to be implemented use the `.run_query()` method. The example below removes transactions with negative prices. This method could also be used to run custom feature engineering scripts instead of the automated `.feature_engineering()` method in the next step. This data cleaning routine can be scheduled as part of the pipeline that we will define later (for model training and prediction)."
      ]
    },
    {
      "cell_type": "markdown",
      "id": "5Bcu6lMlY37w",
      "metadata": {
        "id": "5Bcu6lMlY37w"
      },
      "source": [
        "# Feature Engineering\n",
        "\n",
        "Crystalvalue takes a transaction or browsing level dataset and creates a machine learning-ready dataset that can be ingested by AutoML. Data types are automatically inferred from the BigQuery schema unless the features are provided using the `feature_types` parameter in the `.feature_engineer()` method. Data transformations are applied automatically depending on the data type. The data crunching happens in BigQuery and the executed script can be optionally written to your directory. The features will be created in a BigQuery table called `crystalvalue_train_data` by default."
      ]
    },
    {
      "cell_type": "code",
      "execution_count": 182,
      "id": "b8ed7fd4",
      "metadata": {},
      "outputs": [],
      "source": [
        "# we keep numerical features as is since we only select first purchases\n",
        "numerical_transformations = frozenset([\"AVG\"])\n",
        "string_transformations = frozenset([\"unique_list\"])\n",
        "\n",
        "# we exclude these features since we only select first purchases\n",
        "columns_to_exclude = [\"days_since_last_transaction\", \"days_since_first_transaction\", \"count_transactions\"]"
      ]
    },
    {
      "cell_type": "code",
      "execution_count": 184,
      "id": "yK5Lfb1SY37w",
      "metadata": {
        "id": "yK5Lfb1SY37w"
      },
      "outputs": [
        {
          "name": "stderr",
          "output_type": "stream",
          "text": [
            "/Users/pierre-emmanuel/Documents/freelance/pltv/venv/lib/python3.9/site-packages/google/cloud/bigquery/table.py:1933: UserWarning: BigQuery Storage module not found, fetch data with the REST endpoint instead.\n",
            "  warnings.warn(\n",
            "INFO:root:Created table 'pltv-457408.crystalvalue_20250424_104512.crystalvalue_train_data' in location 'europe-west4'\n"
          ]
        }
      ],
      "source": [
        "crystalvalue_train_data = pipeline.feature_engineer(\n",
        "  transaction_table_name=GCP_TABLE_ID,\n",
        "  query_type=\"train_query\", \n",
        "  numerical_transformations=numerical_transformations,\n",
        "  string_transformations=string_transformations, \n",
        "  columns_to_exclude=columns_to_exclude\n",
        ")"
      ]
    },
    {
      "cell_type": "markdown",
      "id": "xQ0yaFbBY37x",
      "metadata": {
        "id": "xQ0yaFbBY37x"
      },
      "source": [
        "# Model Training"
      ]
    },
    {
      "cell_type": "markdown",
      "id": "3JCdyprSY37x",
      "metadata": {
        "id": "3JCdyprSY37x"
      },
      "source": [
        "Crystalvalue leverages [Vertex AI (Tabular) AutoML](https://cloud.google.com/vertex-ai/docs/training/automl-api) which requires a\n",
        "[Vertex AI Dataset](https://cloud.google.com/vertex-ai/docs/datasets/create-dataset-api) as an input. CrystalValue automatically creates a Vertex AI Dataset from your input table as part of the training step of the pipeline. The training process typically takes about 2 or more hours to run. The Vertex AI Dataset will have a display name `crystalvalue_dataset`. The model will have a display name `crystalvalue_model` but it will also receive a model ID (so even if you train multiple models they will not be overwritten and can be identified using these IDs). By default CrystalValue chooses the following parameters:\n",
        "*  Predefined split with random 15% of users as test, 15% in validation and 70% in training.\n",
        "*  Optimization objective as Minimize root-mean-squared error (RMSE).\n",
        "*  1 node hour of training (1000 milli node hours), which we recommend starting with. [Modify this in line with the number of rows](https://cloud.google.com/automl-tables/docs/train#training_a_model) in the dataset when you are ready for productionising. See information here about [pricing](https://cloud.google.com/automl-tables/pricing).\n",
        "\n",
        "In this example we keep all the default settings so training the model is as simple as calling `pipeline.train_automl_model()`.\n",
        "\n",
        "In order to make fast predictions later, you can deploy the model using the `.deploy_model()` method."
      ]
    },
    {
      "cell_type": "markdown",
      "id": "1da5cf05",
      "metadata": {},
      "source": [
        "$$\\text{RMSE} = \\sqrt{\\frac{1}{n} \\sum_{i=1}^{n} (y_i - \\hat{y}_i)^2}$$"
      ]
    },
    {
      "cell_type": "markdown",
      "id": "PvryAnPFiuWG",
      "metadata": {
        "id": "PvryAnPFiuWG"
      },
      "source": [
        "Once you start the training, you can view your model training progress here:  \n",
        "https://console.cloud.google.com/vertex-ai/training/training-pipelines  \n",
        "Once the training is finished, check out your Dataset (with statistics and distributions) and Model (with feature importance) in the UI:  \n",
        " https://console.cloud.google.com/vertex-ai/datasets   \n",
        " https://console.cloud.google.com/vertex-ai/models"
      ]
    },
    {
      "cell_type": "code",
      "execution_count": null,
      "id": "CSK1FtHVY37y",
      "metadata": {
        "id": "CSK1FtHVY37y"
      },
      "outputs": [],
      "source": [
        "model_object = pipeline.train_automl_model()"
      ]
    },
    {
      "cell_type": "code",
      "execution_count": null,
      "id": "45bf5be6",
      "metadata": {},
      "outputs": [],
      "source": [
        "model_object = pipeline.deploy_model()"
      ]
    },
    {
      "cell_type": "markdown",
      "id": "Dok2Wu6UY370",
      "metadata": {
        "id": "Dok2Wu6UY370"
      },
      "source": [
        "# Model Evaluation"
      ]
    },
    {
      "cell_type": "markdown",
      "id": "wsJdx-MvY370",
      "metadata": {
        "id": "wsJdx-MvY370"
      },
      "source": [
        "To evaluate a model, we use the following criteria:\n",
        "\n",
        "* The spearman correlation, a measure of how well the model **ranked** the Liftetime value of customers in the test set. This is measured between -1 (worse) and 1 (better).\n",
        "* The normalised Gini coefficient, another measure of how well the model **ranked** the Lifetime value of customers in the test set compared to random ranking. This is measured between 0 (worse) and 1 (better). \n",
        "* The normalised Mean Average Error (MAE%). This is a measure of the **error** of the model\"s predictions for Lifetime value in the test set. \n",
        "* top_x_percent_predicted_customer_value_share: The proportion of value (i.e. total profit or revenue) in the test set that is accounted for by the top x% model-predicted customers. \n",
        "\n",
        "These outputs are sent to a BigQuery table (by default called `crystalvalue_evaluation`). Subsequent model evaluations append model performance evaluation metrics to this table to allow for comparison across models."
      ]
    },
    {
      "cell_type": "code",
      "execution_count": 7,
      "id": "dfa7a071",
      "metadata": {},
      "outputs": [],
      "source": [
        "MODEL_ID = \"815111950135459840\""
      ]
    },
    {
      "cell_type": "code",
      "execution_count": 8,
      "id": "77d23246",
      "metadata": {},
      "outputs": [
        {
          "name": "stdout",
          "output_type": "stream",
          "text": [
            "Pipeline model_id reset:  815111950135459840\n"
          ]
        },
        {
          "name": "stderr",
          "output_type": "stream",
          "text": [
            "/Users/pierre-emmanuel/Documents/freelance/pltv/venv/lib/python3.9/site-packages/google/cloud/bigquery/table.py:1933: UserWarning: BigQuery Storage module not found, fetch data with the REST endpoint instead.\n",
            "  warnings.warn(\n",
            "INFO:matplotlib.category:Using categorical units to plot a list of strings that are all parsable as floats or dates. If these strings should be plotted as numbers, cast to the appropriate data type before plotting.\n",
            "INFO:matplotlib.category:Using categorical units to plot a list of strings that are all parsable as floats or dates. If these strings should be plotted as numbers, cast to the appropriate data type before plotting.\n",
            "INFO:root:Saving figure in 'bin_predictions_vs_actuals.png'\n",
            "INFO:root:Appending to table 'pltv-457408.crystalvalue.crystalvalue_evaluation' in location 'europe-west4'\n"
          ]
        },
        {
          "data": {
            "image/png": "[encoded data removed]",
            "text/plain": [
              "<Figure size 1000x700 with 1 Axes>"
            ]
          },
          "metadata": {},
          "output_type": "display_data"
        }
      ],
      "source": [
        "metrics = pipeline.evaluate_model(model_id=MODEL_ID); "
      ]
    },
    {
      "cell_type": "code",
      "execution_count": 9,
      "id": "594cf0ca",
      "metadata": {},
      "outputs": [
        {
          "data": {
            "text/html": [
              "<div>\n",
              "<style scoped>\n",
              "    .dataframe tbody tr th:only-of-type {\n",
              "        vertical-align: middle;\n",
              "    }\n",
              "\n",
              "    .dataframe tbody tr th {\n",
              "        vertical-align: top;\n",
              "    }\n",
              "\n",
              "    .dataframe thead th {\n",
              "        text-align: right;\n",
              "    }\n",
              "</style>\n",
              "<table border=\"1\" class=\"dataframe\">\n",
              "  <thead>\n",
              "    <tr style=\"text-align: right;\">\n",
              "      <th></th>\n",
              "      <th>time_run</th>\n",
              "      <th>model_id</th>\n",
              "      <th>test_set_rows</th>\n",
              "      <th>spearman_correlation</th>\n",
              "      <th>gini_normalized</th>\n",
              "      <th>normalised_mae</th>\n",
              "      <th>0</th>\n",
              "      <th>top_1_percent_predicted_customers_value_share</th>\n",
              "      <th>top_5_percent_predicted_customers_value_share</th>\n",
              "      <th>top_10_percent_predicted_customers_value_share</th>\n",
              "    </tr>\n",
              "  </thead>\n",
              "  <tbody>\n",
              "    <tr>\n",
              "      <th>0</th>\n",
              "      <td>23/04/2025 15:01:43</td>\n",
              "      <td>815111950135459840</td>\n",
              "      <td>994</td>\n",
              "      <td>0.28</td>\n",
              "      <td>0.47</td>\n",
              "      <td>1.11</td>\n",
              "      <td>NaN</td>\n",
              "      <td>NaN</td>\n",
              "      <td>NaN</td>\n",
              "      <td>NaN</td>\n",
              "    </tr>\n",
              "  </tbody>\n",
              "</table>\n",
              "</div>"
            ],
            "text/plain": [
              "              time_run            model_id  test_set_rows  \\\n",
              "0  23/04/2025 15:01:43  815111950135459840            994   \n",
              "\n",
              "   spearman_correlation  gini_normalized  normalised_mae    0  \\\n",
              "0                  0.28             0.47            1.11  NaN   \n",
              "\n",
              "   top_1_percent_predicted_customers_value_share  \\\n",
              "0                                            NaN   \n",
              "\n",
              "   top_5_percent_predicted_customers_value_share  \\\n",
              "0                                            NaN   \n",
              "\n",
              "   top_10_percent_predicted_customers_value_share  \n",
              "0                                             NaN  "
            ]
          },
          "execution_count": 9,
          "metadata": {},
          "output_type": "execute_result"
        }
      ],
      "source": [
        "metrics"
      ]
    },
    {
      "cell_type": "markdown",
      "id": "oJ6ZFLwrY37y",
      "metadata": {
        "id": "oJ6ZFLwrY37y"
      },
      "source": [
        "# Generating predictions"
      ]
    },
    {
      "cell_type": "markdown",
      "id": "jEzDVyiMY37z",
      "metadata": {
        "id": "jEzDVyiMY37z"
      },
      "source": [
        "Once model training is done, you can generate predictions. Features need to be engineered (the exact same as were used for model training) before prediction. This is done using the `.feature_engineer()` method by setting the parameter `query_type=\"predict_query\"`. The features will be created in a BigQuery table called `crystalvalue_predict_data` by default. The model will make predictions for all customers in the provided input table that have any activity during the lookback window. The pLTV predictions will be for the period starting from the last date in the input table (not today\"s date).  "
      ]
    },
    {
      "cell_type": "code",
      "execution_count": null,
      "id": "bbff4d1f",
      "metadata": {},
      "outputs": [],
      "source": [
        "bq_client = bigquery.Client(credentials=credentials)"
      ]
    },
    {
      "cell_type": "code",
      "execution_count": 12,
      "id": "Z2sOiMID4X2-",
      "metadata": {
        "id": "Z2sOiMID4X2-"
      },
      "outputs": [
        {
          "name": "stderr",
          "output_type": "stream",
          "text": [
            "/Users/pierre-emmanuel/Documents/freelance/pltv/venv/lib/python3.9/site-packages/google/cloud/bigquery/table.py:1933: UserWarning: BigQuery Storage module not found, fetch data with the REST endpoint instead.\n",
            "  warnings.warn(\n"
          ]
        }
      ],
      "source": [
        "from src.model_evaluation import get_test_set\n",
        "\n",
        "crystalvalue_predict_data = get_test_set(\n",
        "    bigquery_client=bq_client,\n",
        "    dataset_id=gcp_dataset_id,\n",
        "    table_name=pipeline.training_table_name,\n",
        "    location=GCP_LOCATION\n",
        ")"
      ]
    },
    {
      "cell_type": "code",
      "execution_count": 13,
      "id": "db0ca96b",
      "metadata": {},
      "outputs": [
        {
          "name": "stderr",
          "output_type": "stream",
          "text": [
            "INFO:absl:Creating table 'pltv-457408.crystalvalue.crystalvalue_predictions' in location 'europe-west4'\n"
          ]
        }
      ],
      "source": [
        "predictions = pipeline.predict(\n",
        "    input_table=crystalvalue_predict_data,\n",
        "    destination_table=\"crystalvalue_predictions\"  # The bigquery table to append predictions to. It will be created if it does not exist yet.\n",
        ")  "
      ]
    },
    {
      "cell_type": "code",
      "execution_count": 28,
      "id": "1333e7d0",
      "metadata": {},
      "outputs": [
        {
          "name": "stderr",
          "output_type": "stream",
          "text": [
            "/Users/pierre-emmanuel/Documents/freelance/pltv/venv/lib/python3.9/site-packages/google/cloud/bigquery/table.py:1933: UserWarning: BigQuery Storage module not found, fetch data with the REST endpoint instead.\n",
            "  warnings.warn(\n"
          ]
        }
      ],
      "source": [
        "query = f\"\"\"\n",
        "WITH \n",
        "PredictCustomerIds AS (\n",
        "SELECT customer_id, lookahead_start, lookahead_stop\n",
        "FROM `{GCP_PROJECT_ID}.{gcp_dataset_id}.{pipeline.training_table_name}`\n",
        "WHERE predefined_split_column = 'TEST'\n",
        ")\n",
        "SELECT CAST(TX_DATA.customer_id AS STRING) AS customer_id, SUM(TX_DATA.value) AS actual_value\n",
        "FROM `{GCP_PROJECT_ID}.{gcp_dataset_id}.{GCP_TABLE_ID}` AS TX_DATA\n",
        "INNER JOIN PredictCustomerIds\n",
        "ON CAST(TX_DATA.customer_id AS STRING) = PredictCustomerIds.customer_id\n",
        "WHERE DATE(TX_DATA.date) BETWEEN DATE(PredictCustomerIds.lookahead_start) AND DATE(PredictCustomerIds.lookahead_stop)\n",
        "GROUP BY CAST(TX_DATA.customer_id AS STRING)\n",
        "\"\"\"\n",
        "result = bq_client.query(query).result() \n",
        "actual = result.to_dataframe()"
      ]
    },
    {
      "cell_type": "code",
      "execution_count": 34,
      "id": "4fcbbe07",
      "metadata": {},
      "outputs": [],
      "source": [
        "final_dataset = pd.merge(predictions, actual, on=\"customer_id\", how=\"inner\")\n",
        "final_dataset[\"error\"] = final_dataset[\"predicted_value\"] - final_dataset[\"actual_value\"]"
      ]
    },
    {
      "cell_type": "code",
      "execution_count": 51,
      "id": "f9cca24a",
      "metadata": {},
      "outputs": [
        {
          "data": {
            "text/plain": [
              "count     385.000000\n",
              "mean      162.733610\n",
              "std       238.780659\n",
              "min         5.730000\n",
              "25%        54.950000\n",
              "50%       101.210000\n",
              "75%       194.130000\n",
              "max      3639.970000\n",
              "Name: actual_value, dtype: float64"
            ]
          },
          "execution_count": 51,
          "metadata": {},
          "output_type": "execute_result"
        }
      ],
      "source": [
        "final_dataset.actual_value.describe()"
      ]
    },
    {
      "cell_type": "code",
      "execution_count": null,
      "id": "4381b99c",
      "metadata": {},
      "outputs": [],
      "source": [
        "plot_predictions_vs_actual(final_dataset, max_value=200)"
      ]
    },
    {
      "cell_type": "code",
      "execution_count": 53,
      "id": "df6a6706",
      "metadata": {},
      "outputs": [
        {
          "data": {
            "image/png": "[encoded data removed]",
            "text/plain": [
              "<Figure size 640x480 with 1 Axes>"
            ]
          },
          "metadata": {},
          "output_type": "display_data"
        }
      ],
      "source": [
        "sns.histplot(data=final_dataset, x=\"error\", bins=30); "
      ]
    },
    {
      "cell_type": "code",
      "execution_count": 93,
      "id": "0e0c2643",
      "metadata": {},
      "outputs": [
        {
          "name": "stdout",
          "output_type": "stream",
          "text": [
            "MAE: 116.721\n",
            "MAPE: 0.575\n",
            "RMSE: 254.116\n",
            "R2: -0.136\n"
          ]
        }
      ],
      "source": [
        "metrics = calculate_regression_metrics(final_dataset)\n",
        "\n",
        "for key, value in metrics.items():\n",
        "    print(f\"{key}: {value:.3f}\")"
      ]
    },
    {
      "cell_type": "markdown",
      "id": "bDF0AE95vvuv",
      "metadata": {
        "id": "bDF0AE95vvuv"
      },
      "source": [
        "# Scheduling daily predictions"
      ]
    },
    {
      "cell_type": "markdown",
      "id": "uWrKLbrEv0xo",
      "metadata": {
        "id": "uWrKLbrEv0xo"
      },
      "source": [
        "Crystalvalue uses [Vertex Pipelines](https://cloud.google.com/vertex-ai/docs/pipelines/introduction) to schedule and monitor machine learning predictions. It can also be used for model retraining. The example below demonstrates how to set up the model to automatically create predictions using new input data from the source BigQuery table every day at 1am. The frequency and timing of the schedule can be altered using the chron schedule below. Once this pipeline is set up, you can view it [here](https://console.cloud.google.com/vertex-ai/pipelines). If you want a tutorial on how to set up Vertex Pipelines [this guide](https://cloud.google.com/vertex-ai/docs/pipelines/build-pipeline)."
      ]
    },
    {
      "cell_type": "markdown",
      "id": "ZECtoCAyxbxX",
      "metadata": {
        "id": "ZECtoCAyxbxX"
      },
      "source": [
        "In order to use Vertex AI pipelines, we need a cloud storage bucket. Use the code below to create a cloud storage bucket. Note that you may have to grant Storage Object Admin to your service account to ensure the pipeline can run."
      ]
    },
    {
      "cell_type": "code",
      "execution_count": null,
      "id": "1zuWtrdwxjKX",
      "metadata": {
        "id": "1zuWtrdwxjKX"
      },
      "outputs": [],
      "source": [
        "BUCKET_NAME = \"crystalvalue_bucket\"\n",
        "storage_bucket = pipeline.create_storage_bucket(bucket_name=BUCKET_NAME)"
      ]
    },
    {
      "cell_type": "markdown",
      "id": "pj3GIIJr5TqC",
      "metadata": {
        "id": "pj3GIIJr5TqC"
      },
      "source": [
        "In order to use Vertex AI pipelines with Crystalvalue we also need to create a docker container which will be stored in Google Cloud Container Registry. The following code builds a docker container and pushes it to your [GCP Container Registry](https://cloud.google.com/container-registry). \n"
      ]
    },
    {
      "cell_type": "code",
      "execution_count": null,
      "id": "xCEA0QZo5ale",
      "metadata": {
        "id": "xCEA0QZo5ale"
      },
      "outputs": [],
      "source": [
        "!docker build -t crystalvalue .\n",
        "!docker tag crystalvalue gcr.io/$pipeline.project_id/crystalvalue\n",
        "!docker push gcr.io/$pipeline.project_id/crystalvalue"
      ]
    },
    {
      "cell_type": "markdown",
      "id": "JlfrRkrF_jhR",
      "metadata": {
        "id": "JlfrRkrF_jhR"
      },
      "source": [
        "The Kubeflow components contains self-contained functions. Read about [Kubeflow components](https://www.kubeflow.org/docs/components/pipelines/sdk/component-development/).  "
      ]
    },
    {
      "cell_type": "code",
      "execution_count": null,
      "id": "jT1zxEqGwG17",
      "metadata": {
        "id": "jT1zxEqGwG17"
      },
      "outputs": [],
      "source": [
        "from kfp import dsl\n",
        "from kfp import compiler\n",
        "from kfp.dsl import component\n",
        "\n",
        "\n",
        "@component(base_image=f\"gcr.io/{pipeline.project_id}/crystalvalue:latest\")\n",
        "def pipeline_function():  \n",
        "  from src import crystalvalue\n",
        "  parameters = crystalvalue.load_parameters_from_file()\n",
        "  pipeline = crystalvalue.CrystalValue(**parameters)\n",
        "  TRANSACTION_TABLE = \"online_retail_data\"  # Add your input table name.\n",
        "  pipeline.run_data_checks(transaction_table_name=TRANSACTION_TABLE)  \n",
        "  features = pipeline.feature_engineer(transaction_table_name=TRANSACTION_TABLE,\n",
        "                                       query_type=\"predict_query\")\n",
        "  pipeline.predict(features)\n",
        "\n",
        "\n",
        "@dsl.pipeline(\n",
        "    name=\"crystalvaluepipeline\",\n",
        "    pipeline_root=f\"gs://{BUCKET_NAME}/pipeline_root\",\n",
        ")\n",
        "def crystalvalue_pipeline():\n",
        "    pipeline_function()\n",
        "    \n",
        "compiler.Compiler().compile(\n",
        "  pipeline_func=crystalvalue_pipeline,\n",
        "  package_path=\"crystalvaluepipeline.json\"\n",
        ")"
      ]
    },
    {
      "cell_type": "code",
      "execution_count": null,
      "metadata": {
        "id": "zNSjgatukOKR"
      },
      "outputs": [],
      "source": [
        "from google.cloud import aiplatform\n",
        "\n",
        "# Choose a region compatible with Vertex Pipelines. \n",
        "# This doesn\"t have to be the same as your data location.\n",
        "\n",
        "PROJECT_ID = pipeline.project_id,\n",
        "REGION=pipeline.location,\n",
        "DISPLAY_NAME=\"crystalvalue_pipeline\",\n",
        "PIPELINE_ROOT=f\"gs://{BUCKET_NAME}/pipeline_root\",\n",
        "PACKAGE_PATH=\"crystalvaluepipeline.json\",\n",
        "aiplatform.init(\n",
        "    project=PROJECT_ID,\n",
        "    location=REGION,\n",
        ")\n",
        "\n",
        "pipeline_job = aiplatform.PipelineJob(\n",
        "    display_name=DISPLAY_NAME,\n",
        "    template_path=PACKAGE_PATH,\n",
        "    pipeline_root=PIPELINE_ROOT,\n",
        ")\n",
        "\n",
        "## Check if your pipeline is running.\n",
        "job.submit()"
      ]
    },
    {
      "cell_type": "markdown",
      "id": "e_uER_PJ_fNW",
      "metadata": {
        "id": "e_uER_PJ_fNW"
      },
      "source": [
        "Create the scheduled pipeline. Adjust time zone and cron schedule as necessary."
      ]
    },
    {
      "cell_type": "code",
      "execution_count": null,
      "metadata": {
        "id": "t7L0QRKOaLYM"
      },
      "outputs": [],
      "source": [
        "pipeline_job_schedule = pipeline_job.create_schedule(\n",
        "  display_name=\"crystalvalue_pipeline_schedule\",\n",
        "  cron=\"TZ=CRON\",\n",
        "  max_concurrent_run_count=MAX_CONCURRENT_RUN_COUNT,\n",
        "  max_run_count=MAX_RUN_COUNT,\n",
        ")"
      ]
    },
    {
      "cell_type": "markdown",
      "id": "sxeSm7BxA5so",
      "metadata": {
        "id": "sxeSm7BxA5so"
      },
      "source": [
        "You can view your running and scheduled pipelines at:\n",
        "https://console.cloud.google.com/vertex-ai/pipelines or by adjusting the code below."
      ]
    },
    {
      "cell_type": "code",
      "execution_count": null,
      "metadata": {
        "id": "ac4RlBqXaLYM"
      },
      "outputs": [],
      "source": [
        "aiplatform.PipelineJobSchedule.list(\n",
        "  filter=\"display_name=\"DISPLAY_NAME\"\",\n",
        "  order_by=\"create_time desc\"\n",
        ")"
      ]
    },
    {
      "cell_type": "markdown",
      "id": "yNZpQxNU-cIi",
      "metadata": {
        "id": "yNZpQxNU-cIi"
      },
      "source": [
        "# (Optional) Get insights into the relationship between your features and customer LTV"
      ]
    },
    {
      "cell_type": "markdown",
      "id": "ZXZUlaZV_Ms9",
      "metadata": {
        "id": "ZXZUlaZV_Ms9"
      },
      "source": [
        "To get insights into how your model is making predictions based on your features using the [What-If Tool](https://pair-code.github.io/what-if-tool/). Check out an [online demo here](https://pair-code.github.io/what-if-tool/demos/age.html)."
      ]
    },
    {
      "cell_type": "code",
      "execution_count": null,
      "id": "0HyVMxQj-jfl",
      "metadata": {
        "id": "0HyVMxQj-jfl"
      },
      "outputs": [],
      "source": [
        "import numpy as np\n",
        "\n",
        "from witwidget.notebook.visualization import WitConfigBuilder\n",
        "from witwidget.notebook.visualization import WitWidget"
      ]
    },
    {
      "cell_type": "code",
      "execution_count": 65,
      "id": "CUK1kcr0-pS7",
      "metadata": {
        "id": "CUK1kcr0-pS7"
      },
      "outputs": [],
      "source": [
        "features_with_predictions = pd.concat([\n",
        "    crystalvalue_predict_data.iloc[:,8:],\n",
        "    predictions[\"predicted_value\"]], axis=1)"
      ]
    },
    {
      "cell_type": "code",
      "execution_count": null,
      "id": "s8hedfxF-qcn",
      "metadata": {
        "id": "s8hedfxF-qcn"
      },
      "outputs": [],
      "source": [
        "config_builder = WitConfigBuilder(\n",
        "    np.array(features_with_predictions[0:1000]).tolist(),\n",
        "    list(features_with_predictions)\n",
        ")\n",
        "WitWidget(config_builder, height=1000)"
      ]
    },
    {
      "cell_type": "markdown",
      "id": "2523ba3a",
      "metadata": {},
      "source": [
        "# Custom Model"
      ]
    },
    {
      "cell_type": "code",
      "execution_count": 185,
      "id": "c12b544a",
      "metadata": {},
      "outputs": [],
      "source": [
        "from src.optuna.config import Config\n",
        "from src.optuna.data import DataLoader\n",
        "from src.optuna.models import ModelFactory"
      ]
    },
    {
      "cell_type": "code",
      "execution_count": 209,
      "id": "f139316a",
      "metadata": {},
      "outputs": [
        {
          "data": {
            "text/plain": [
              "Config(project_id='pltv-457408', dataset_id='crystalvalue_20250424_104512', table_id='crystalvalue_train_data', target_column='future_value', train_val_test_split_column='predefined_split_column', category_columns=['unique_list_order_index', 'unique_list_shipping_address_reg'], excluded_columns=['customer_id', 'window_date', 'lookback_start', 'lookahead_start', 'lookahead_stop', 'future_value_classification', 'unique_list_order_index', 'avg_value_uncategorized', 'avg_value_subcat_1', 'avg_value_subcat_2', 'avg_value_subcat_3', 'avg_value_subcat_4', 'avg_value_subcat_5', 'avg_value_subcat_6', 'avg_value_subcat_7', 'avg_value_subcat_8', 'avg_value_subcat_9', 'avg_value_subcat_10', 'avg_value_subcat_11', 'avg_value_subcat_12', 'avg_value_subcat_13', 'avg_value_subcat_14', 'avg_value_subcat_15', 'avg_value_subcat_16', 'avg_value_subcat_17', 'avg_value_subcat_18', 'avg_value_subcat_19', 'avg_value_subcat_20', 'avg_value_subcat_21', 'avg_value_subcat_22', 'avg_value_subcat_23', 'avg_value_subcat_24', 'avg_value_subcat_25', 'avg_value_subcat_26', 'avg_value_subcat_27', 'avg_value_subcat_28', 'avg_value_subcat_29', 'avg_value_subcat_30', 'avg_value_subcat_31', 'avg_value_subcat_32', 'avg_value_subcat_33'], n_samples=-1, stratified=False, n_trials=50, timeout=3600, random_state=42, storage_name='sqlite:///optuna_study.db', save_dir='./models')"
            ]
          },
          "execution_count": 209,
          "metadata": {},
          "output_type": "execute_result"
        }
      ],
      "source": [
        "config = Config.from_yaml()\n",
        "config"
      ]
    },
    {
      "cell_type": "code",
      "execution_count": 224,
      "id": "b985258d",
      "metadata": {},
      "outputs": [
        {
          "name": "stderr",
          "output_type": "stream",
          "text": [
            "/Users/pierre-emmanuel/Documents/freelance/pltv/src/optuna/data.py:94: FutureWarning: read_gbq is deprecated and will be removed in a future version. Please use pandas_gbq.read_gbq instead: https://pandas-gbq.readthedocs.io/en/latest/api.html#pandas_gbq.read_gbq\n",
            "  return pd.read_gbq(\n"
          ]
        },
        {
          "name": "stdout",
          "output_type": "stream",
          "text": [
            "Downloading: 100%|\u001b[32m██████████\u001b[0m|\n"
          ]
        }
      ],
      "source": [
        "loader = DataLoader(config=config, gcp_credentials=credentials)\n",
        "X_train, X_val, y_train, y_val = loader.load_training_data()"
      ]
    },
    {
      "cell_type": "code",
      "execution_count": 225,
      "id": "409c345e",
      "metadata": {},
      "outputs": [
        {
          "data": {
            "text/plain": [
              "((20991, 14), (3928, 14), (20991,), (3928,))"
            ]
          },
          "execution_count": 225,
          "metadata": {},
          "output_type": "execute_result"
        }
      ],
      "source": [
        "X_train.shape, X_val.shape, y_train.shape, y_val.shape"
      ]
    },
    {
      "cell_type": "code",
      "execution_count": 226,
      "id": "d9443a7d",
      "metadata": {},
      "outputs": [
        {
          "data": {
            "text/html": [
              "<div>\n",
              "<style scoped>\n",
              "    .dataframe tbody tr th:only-of-type {\n",
              "        vertical-align: middle;\n",
              "    }\n",
              "\n",
              "    .dataframe tbody tr th {\n",
              "        vertical-align: top;\n",
              "    }\n",
              "\n",
              "    .dataframe thead th {\n",
              "        text-align: right;\n",
              "    }\n",
              "</style>\n",
              "<table border=\"1\" class=\"dataframe\">\n",
              "  <thead>\n",
              "    <tr style=\"text-align: right;\">\n",
              "      <th></th>\n",
              "      <th>predefined_split_column</th>\n",
              "      <th>avg_value</th>\n",
              "      <th>unique_list_shipping_address_reg</th>\n",
              "      <th>future_value</th>\n",
              "    </tr>\n",
              "  </thead>\n",
              "  <tbody>\n",
              "    <tr>\n",
              "      <th>0</th>\n",
              "      <td>VALIDATE</td>\n",
              "      <td>16.85</td>\n",
              "      <td>None</td>\n",
              "      <td>0.00</td>\n",
              "    </tr>\n",
              "    <tr>\n",
              "      <th>1</th>\n",
              "      <td>TRAIN</td>\n",
              "      <td>67.33</td>\n",
              "      <td>None</td>\n",
              "      <td>74.82</td>\n",
              "    </tr>\n",
              "    <tr>\n",
              "      <th>2</th>\n",
              "      <td>TRAIN</td>\n",
              "      <td>41.93</td>\n",
              "      <td>reg5</td>\n",
              "      <td>0.00</td>\n",
              "    </tr>\n",
              "    <tr>\n",
              "      <th>3</th>\n",
              "      <td>TRAIN</td>\n",
              "      <td>41.74</td>\n",
              "      <td>None</td>\n",
              "      <td>0.00</td>\n",
              "    </tr>\n",
              "    <tr>\n",
              "      <th>4</th>\n",
              "      <td>TRAIN</td>\n",
              "      <td>62.81</td>\n",
              "      <td>None</td>\n",
              "      <td>214.63</td>\n",
              "    </tr>\n",
              "    <tr>\n",
              "      <th>...</th>\n",
              "      <td>...</td>\n",
              "      <td>...</td>\n",
              "      <td>...</td>\n",
              "      <td>...</td>\n",
              "    </tr>\n",
              "    <tr>\n",
              "      <th>24914</th>\n",
              "      <td>TRAIN</td>\n",
              "      <td>4.69</td>\n",
              "      <td>reg9</td>\n",
              "      <td>0.00</td>\n",
              "    </tr>\n",
              "    <tr>\n",
              "      <th>24915</th>\n",
              "      <td>TRAIN</td>\n",
              "      <td>44.47</td>\n",
              "      <td>reg9</td>\n",
              "      <td>0.00</td>\n",
              "    </tr>\n",
              "    <tr>\n",
              "      <th>24916</th>\n",
              "      <td>TRAIN</td>\n",
              "      <td>56.63</td>\n",
              "      <td>reg9</td>\n",
              "      <td>0.00</td>\n",
              "    </tr>\n",
              "    <tr>\n",
              "      <th>24917</th>\n",
              "      <td>TRAIN</td>\n",
              "      <td>65.28</td>\n",
              "      <td>reg9</td>\n",
              "      <td>0.00</td>\n",
              "    </tr>\n",
              "    <tr>\n",
              "      <th>24918</th>\n",
              "      <td>TRAIN</td>\n",
              "      <td>73.77</td>\n",
              "      <td>reg9</td>\n",
              "      <td>0.00</td>\n",
              "    </tr>\n",
              "  </tbody>\n",
              "</table>\n",
              "<p>24919 rows × 4 columns</p>\n",
              "</div>"
            ],
            "text/plain": [
              "      predefined_split_column  avg_value unique_list_shipping_address_reg  \\\n",
              "0                    VALIDATE      16.85                             None   \n",
              "1                       TRAIN      67.33                             None   \n",
              "2                       TRAIN      41.93                             reg5   \n",
              "3                       TRAIN      41.74                             None   \n",
              "4                       TRAIN      62.81                             None   \n",
              "...                       ...        ...                              ...   \n",
              "24914                   TRAIN       4.69                             reg9   \n",
              "24915                   TRAIN      44.47                             reg9   \n",
              "24916                   TRAIN      56.63                             reg9   \n",
              "24917                   TRAIN      65.28                             reg9   \n",
              "24918                   TRAIN      73.77                             reg9   \n",
              "\n",
              "       future_value  \n",
              "0              0.00  \n",
              "1             74.82  \n",
              "2              0.00  \n",
              "3              0.00  \n",
              "4            214.63  \n",
              "...             ...  \n",
              "24914          0.00  \n",
              "24915          0.00  \n",
              "24916          0.00  \n",
              "24917          0.00  \n",
              "24918          0.00  \n",
              "\n",
              "[24919 rows x 4 columns]"
            ]
          },
          "execution_count": 226,
          "metadata": {},
          "output_type": "execute_result"
        }
      ],
      "source": [
        "loader.training_data"
      ]
    },
    {
      "cell_type": "code",
      "execution_count": 228,
      "id": "17d83b60",
      "metadata": {},
      "outputs": [],
      "source": [
        "custom_model = ModelFactory.create_model(model_name=\"linear_regression\", config=config)\n",
        "custom_model.fit(X_train, y_train)"
      ]
    },
    {
      "cell_type": "code",
      "execution_count": 229,
      "id": "d88d14aa",
      "metadata": {},
      "outputs": [],
      "source": [
        "y_pred = custom_model.predict(X_val)\n",
        "custom_data = pd.DataFrame({\"predicted_value\": y_pred, \"actual_value\": y_val})\n",
        "custom_data[\"error\"] = custom_data[\"predicted_value\"] - custom_data[\"actual_value\"]"
      ]
    },
    {
      "cell_type": "code",
      "execution_count": 230,
      "id": "01e40777",
      "metadata": {},
      "outputs": [
        {
          "name": "stdout",
          "output_type": "stream",
          "text": [
            "MAE: 59.089\n",
            "MAPE: inf\n",
            "RMSE: 120.010\n",
            "R2: 0.030\n"
          ]
        }
      ],
      "source": [
        "metrics = calculate_regression_metrics(custom_data)\n",
        "\n",
        "for key, value in metrics.items():\n",
        "    print(f\"{key}: {value:.3f}\")"
      ]
    },
    {
      "cell_type": "code",
      "execution_count": 231,
      "metadata": {},
      "outputs": [
        {
          "data": {
            "image/png": "[encoded data removed]",
            "text/plain": [
              "<Figure size 1000x600 with 1 Axes>"
            ]
          },
          "metadata": {},
          "output_type": "display_data"
        }
      ],
      "source": [
        "plot_predictions_vs_actual(data=custom_data, max_value=500)"
      ]
    },
    {
      "cell_type": "code",
      "execution_count": 208,
      "id": "c1f71ef3",
      "metadata": {},
      "outputs": [
        {
          "data": {
            "image/png": "[encoded data removed]",
            "text/plain": [
              "<Figure size 640x480 with 1 Axes>"
            ]
          },
          "metadata": {},
          "output_type": "display_data"
        }
      ],
      "source": [
        "sns.histplot(data=custom_data, x=\"error\", bins=30); "
      ]
    },
    {
      "cell_type": "markdown",
      "id": "R7RczTD6S1_O",
      "metadata": {
        "id": "R7RczTD6S1_O"
      },
      "source": [
        "# Clean Up"
      ]
    },
    {
      "cell_type": "markdown",
      "id": "6FyiJ93rTWhW",
      "metadata": {
        "id": "6FyiJ93rTWhW"
      },
      "source": [
        "To clean up tables created during this demo, delete the BigQuery tables that were created. All Vertex AI resources can be removed from the [Vertex AI console](https://console.cloud.google.com/vertex-ai). If you set up a Vertex Pipeline then also remove any relevant resources from [Cloud Storage](https://console.cloud.google.com/storage) and [Container Registry](https://console.cloud.google.com//gcr/images/). "
      ]
    },
    {
      "cell_type": "code",
      "execution_count": null,
      "id": "1wQI6E8US3Hc",
      "metadata": {
        "id": "1wQI6E8US3Hc"
      },
      "outputs": [],
      "source": [
        "pipeline.delete_table(\"crystalvalue_data_statistics\")\n",
        "pipeline.delete_table(\"crystalvalue_evaluation\")\n",
        "pipeline.delete_table(\"crystalvalue_train_data\")\n",
        "pipeline.delete_table(\"crystalvalue_predict_data\")\n",
        "pipeline.delete_table(\"crystalvalue_predictions\")"
      ]
    }
  ],
  "metadata": {
    "colab": {
      "collapsed_sections": [],
      "last_runtime": {
        "build_target": "//corp/gtech/ads/infrastructure/colab_utils/ds_runtime:ds_colab",
        "kind": "private"
      },
      "name": "demo_with_real_data_notebook.ipynb",
      "private_outputs": true,
      "provenance": [
        {
          "file_id": "/piper/depot/google3/third_party/professional_services/solutions/crystalvalue/crystalvalue_demo_notebook.ipynb?workspaceId=sumedhamenon:CrystalValue::citc",
          "timestamp": 1627656627042
        },
        {
          "file_id": "/piper/depot/google3/third_party/professional_services/solutions/crystalvalue/crystalvalue_demo_notebook.ipynb?workspaceId=sumedhamenon:CrystalValue::citc",
          "timestamp": 1627656460877
        },
        {
          "file_id": "/piper/depot/google3/experimental/gtech_prem_data_science/projects/trac/treatwell/Crystal_Value_Demo_Notebook.ipynb?workspaceId=sumedhamenon:CrystalValue::citc",
          "timestamp": 1627648785641
        },
        {
          "file_id": "1JGQRDc1_luQsaMxx9ZZavddHBrgO7Xst",
          "timestamp": 1627648471137
        }
      ]
    },
    "environment": {
      "name": "common-cpu.mnightly-2021-01-05-debian-10-test",
      "type": "gcloud",
      "uri": "gcr.io/deeplearning-platform-release/base-cpu:mnightly-2021-01-05-debian-10-test"
    },
    "kernelspec": {
      "display_name": "venv",
      "language": "python",
      "name": "python3"
    },
    "language_info": {
      "codemirror_mode": {
        "name": "ipython",
        "version": 3
      },
      "file_extension": ".py",
      "mimetype": "text/x-python",
      "name": "python",
      "nbconvert_exporter": "python",
      "pygments_lexer": "ipython3",
      "version": "3.9.6"
    }
  },
  "nbformat": 4,
  "nbformat_minor": 5
}
